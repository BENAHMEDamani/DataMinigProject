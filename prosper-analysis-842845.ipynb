{
 "cells": [
  {
   "cell_type": "markdown",
   "metadata": {
    "_cell_guid": "7b938dea-c420-1404-c448-f948a0b96fec",
    "_uuid": "0c83dd1cd7fe9c28b1e7efe97f3e1f5eed3a7fdd"
   },
   "source": [
    "# Prosper Loan Data - Default Analysis"
   ]
  },
  {
   "cell_type": "markdown",
   "metadata": {
    "_cell_guid": "9f63077b-843f-a022-19fa-2834a33cd8df",
    "_uuid": "1713a2a379156592a777aa72899af33d3a0659ab"
   },
   "source": [
    "### Table Of Contents\n",
    "\n",
    "* [Introduction](#intro)\n",
    "* [Preprocessing: imputation of missing values](#na)\n",
    "* [Dimensionality reduction: part 1](#reduce1)\n",
    "* [Focusing in on default](#default)\n",
    "* [Exploring the data: categorical information](#explore1)\n",
    "* [Exploring the data: credit scores](#explore2)\n",
    "* [Exploring the data: financial information](#explore3)\n",
    "* [Exploring the data: credit history](#explore4)\n",
    "* [Exploring the data: loan characteristics](#explore5)\n",
    "* [Dimensionality reduction: part 2](#reduce2)\n",
    "* [Preprocessing: fixing data types](#dtypes)\n",
    "* [Train/test split](#split)\n",
    "* [Preprocessing: scaling features to a range](#scale)\n",
    "* [Dimensionality reduction: part 3](#reduce3)\n",
    "* [Choosing a classifier](#class)\n",
    "* [Parameter tuning](#tuning)\n",
    "* [Predicting defaults](#predict)\n",
    "* [Conclusion](#end)"
   ]
  },
  {
   "cell_type": "markdown",
   "metadata": {
    "_cell_guid": "dcae8b43-a838-6f5b-9bfd-b3bedb35fb61",
    "_uuid": "5ac66bc0924d6cbdaf1b0594ae8ff5d5a6a5d7db"
   },
   "source": [
    "### Introduction <a class=\"anchor\" id=\"intro\"></a>\n",
    "\n",
    "This notebook will document my efforts to investigate an interesting dataset from the Prosper peer-to-peer lending platform, and to then apply some machine learning classifiers. There are many questions one could ask of this data, but in this exercise I will focus on one question specifically: whether one can successfully predict which loans will default. Prosper loans pay pretty hefty interest rates to their creditors. There is thus a significant financial incentive to accurately predicting which of the loans would eventually default or not.\n",
    "\n",
    "The original data can be found here: https://s3.amazonaws.com/udacity-hosted-downloads/ud651/prosperLoanData.csv. A variable dictionary concisely explaining the data can be found here: https://docs.google.com/spreadsheets/d/1gDyi_L4UvIrLTEC6Wri5nbaMmkGmLQBk-Yx3z0XDEtI/edit?usp=sharing.\n",
    "\n",
    "I will clean the data, separate out historical data, explore the data with some visualisations, further prepare the data, and finally choose and tune a classification algorithm before a brief conclusion to wrap everything up summarizing the hypothetical financial result of using the trained classifier to predict loan default."
   ]
  },
  {
   "cell_type": "code",
   "execution_count": 1,
   "metadata": {
    "_cell_guid": "8406e46e-7db1-96d5-25b5-82a01db355e6",
    "_uuid": "08e03aa5c0c883ca157131289f9a16f352022c40",
    "execution": {
     "iopub.execute_input": "2022-11-22T19:15:02.301793Z",
     "iopub.status.busy": "2022-11-22T19:15:02.301329Z",
     "iopub.status.idle": "2022-11-22T19:15:04.012430Z",
     "shell.execute_reply": "2022-11-22T19:15:04.011446Z",
     "shell.execute_reply.started": "2022-11-22T19:15:02.301752Z"
    }
   },
   "outputs": [
    {
     "name": "stderr",
     "output_type": "stream",
     "text": [
      "/opt/conda/lib/python3.6/site-packages/sklearn/cross_validation.py:41: DeprecationWarning: This module was deprecated in version 0.18 in favor of the model_selection module into which all the refactored classes and functions are moved. Also note that the interface of the new CV iterators are different from that of this module. This module will be removed in 0.20.\n",
      "  \"This module will be removed in 0.20.\", DeprecationWarning)\n",
      "/opt/conda/lib/python3.6/site-packages/sklearn/grid_search.py:42: DeprecationWarning: This module was deprecated in version 0.18 in favor of the model_selection module into which all the refactored classes and functions are moved. This module will be removed in 0.20.\n",
      "  DeprecationWarning)\n"
     ]
    }
   ],
   "source": [
    "#Imports\n",
    "\n",
    "#Data analysis and math\n",
    "import math\n",
    "import datetime\n",
    "import numpy as np\n",
    "import pandas as pd\n",
    "from scipy import stats as st\n",
    "\n",
    "#Plotting\n",
    "import matplotlib.pyplot as plt\n",
    "import seaborn as sns\n",
    "%matplotlib inline\n",
    "sns.set_style(\"whitegrid\")\n",
    "sns.set_context({\"figure.figsize\": (15, 7.5)})\n",
    "\n",
    "#Preprocessing\n",
    "from sklearn.preprocessing import MinMaxScaler\n",
    "from sklearn.decomposition import PCA\n",
    "from sklearn.feature_selection import SelectPercentile\n",
    "\n",
    "#Machine learning\n",
    "from sklearn.linear_model import LogisticRegression\n",
    "from sklearn.discriminant_analysis import LinearDiscriminantAnalysis\n",
    "from sklearn.naive_bayes import GaussianNB\n",
    "from sklearn.tree import DecisionTreeClassifier\n",
    "from sklearn.ensemble import RandomForestClassifier, AdaBoostClassifier\n",
    "\n",
    "from sklearn.grid_search import GridSearchCV\n",
    "\n",
    "#Metrics\n",
    "from sklearn.cross_validation import train_test_split, cross_val_score, cross_val_predict\n",
    "\n",
    "from sklearn.metrics import recall_score, precision_score, f1_score, make_scorer"
   ]
  },
  {
   "cell_type": "code",
   "execution_count": 2,
   "metadata": {
    "_cell_guid": "5ff51705-3501-634e-29fb-a11fc73353ff",
    "_uuid": "0c0ed31e72c1aaade16b8fd07b66c64eb2d08258",
    "execution": {
     "iopub.execute_input": "2022-11-22T19:16:15.053170Z",
     "iopub.status.busy": "2022-11-22T19:16:15.052847Z",
     "iopub.status.idle": "2022-11-22T19:16:17.279754Z",
     "shell.execute_reply": "2022-11-22T19:16:17.279118Z",
     "shell.execute_reply.started": "2022-11-22T19:16:15.053122Z"
    }
   },
   "outputs": [
    {
     "data": {
      "text/html": [
       "<div>\n",
       "<style>\n",
       "    .dataframe thead tr:only-child th {\n",
       "        text-align: right;\n",
       "    }\n",
       "\n",
       "    .dataframe thead th {\n",
       "        text-align: left;\n",
       "    }\n",
       "\n",
       "    .dataframe tbody tr th {\n",
       "        vertical-align: top;\n",
       "    }\n",
       "</style>\n",
       "<table border=\"1\" class=\"dataframe\">\n",
       "  <thead>\n",
       "    <tr style=\"text-align: right;\">\n",
       "      <th></th>\n",
       "      <th>ListingKey</th>\n",
       "      <th>ListingNumber</th>\n",
       "      <th>ListingCreationDate</th>\n",
       "      <th>CreditGrade</th>\n",
       "      <th>Term</th>\n",
       "      <th>LoanStatus</th>\n",
       "      <th>ClosedDate</th>\n",
       "      <th>BorrowerAPR</th>\n",
       "      <th>BorrowerRate</th>\n",
       "      <th>LenderYield</th>\n",
       "      <th>EstimatedEffectiveYield</th>\n",
       "      <th>EstimatedLoss</th>\n",
       "      <th>EstimatedReturn</th>\n",
       "      <th>ProsperRating (numeric)</th>\n",
       "      <th>ProsperRating (Alpha)</th>\n",
       "      <th>ProsperScore</th>\n",
       "      <th>ListingCategory (numeric)</th>\n",
       "      <th>BorrowerState</th>\n",
       "      <th>Occupation</th>\n",
       "      <th>EmploymentStatus</th>\n",
       "      <th>EmploymentStatusDuration</th>\n",
       "      <th>IsBorrowerHomeowner</th>\n",
       "      <th>CurrentlyInGroup</th>\n",
       "      <th>GroupKey</th>\n",
       "      <th>DateCreditPulled</th>\n",
       "      <th>CreditScoreRangeLower</th>\n",
       "      <th>CreditScoreRangeUpper</th>\n",
       "      <th>FirstRecordedCreditLine</th>\n",
       "      <th>CurrentCreditLines</th>\n",
       "      <th>OpenCreditLines</th>\n",
       "      <th>TotalCreditLinespast7years</th>\n",
       "      <th>OpenRevolvingAccounts</th>\n",
       "      <th>OpenRevolvingMonthlyPayment</th>\n",
       "      <th>InquiriesLast6Months</th>\n",
       "      <th>TotalInquiries</th>\n",
       "      <th>CurrentDelinquencies</th>\n",
       "      <th>AmountDelinquent</th>\n",
       "      <th>DelinquenciesLast7Years</th>\n",
       "      <th>PublicRecordsLast10Years</th>\n",
       "      <th>PublicRecordsLast12Months</th>\n",
       "      <th>RevolvingCreditBalance</th>\n",
       "      <th>BankcardUtilization</th>\n",
       "      <th>AvailableBankcardCredit</th>\n",
       "      <th>TotalTrades</th>\n",
       "      <th>TradesNeverDelinquent (percentage)</th>\n",
       "      <th>TradesOpenedLast6Months</th>\n",
       "      <th>DebtToIncomeRatio</th>\n",
       "      <th>IncomeRange</th>\n",
       "      <th>IncomeVerifiable</th>\n",
       "      <th>StatedMonthlyIncome</th>\n",
       "      <th>LoanKey</th>\n",
       "      <th>TotalProsperLoans</th>\n",
       "      <th>TotalProsperPaymentsBilled</th>\n",
       "      <th>OnTimeProsperPayments</th>\n",
       "      <th>ProsperPaymentsLessThanOneMonthLate</th>\n",
       "      <th>ProsperPaymentsOneMonthPlusLate</th>\n",
       "      <th>ProsperPrincipalBorrowed</th>\n",
       "      <th>ProsperPrincipalOutstanding</th>\n",
       "      <th>ScorexChangeAtTimeOfListing</th>\n",
       "      <th>LoanCurrentDaysDelinquent</th>\n",
       "      <th>LoanFirstDefaultedCycleNumber</th>\n",
       "      <th>LoanMonthsSinceOrigination</th>\n",
       "      <th>LoanNumber</th>\n",
       "      <th>LoanOriginalAmount</th>\n",
       "      <th>LoanOriginationDate</th>\n",
       "      <th>LoanOriginationQuarter</th>\n",
       "      <th>MemberKey</th>\n",
       "      <th>MonthlyLoanPayment</th>\n",
       "      <th>LP_CustomerPayments</th>\n",
       "      <th>LP_CustomerPrincipalPayments</th>\n",
       "      <th>LP_InterestandFees</th>\n",
       "      <th>LP_ServiceFees</th>\n",
       "      <th>LP_CollectionFees</th>\n",
       "      <th>LP_GrossPrincipalLoss</th>\n",
       "      <th>LP_NetPrincipalLoss</th>\n",
       "      <th>LP_NonPrincipalRecoverypayments</th>\n",
       "      <th>PercentFunded</th>\n",
       "      <th>Recommendations</th>\n",
       "      <th>InvestmentFromFriendsCount</th>\n",
       "      <th>InvestmentFromFriendsAmount</th>\n",
       "      <th>Investors</th>\n",
       "    </tr>\n",
       "  </thead>\n",
       "  <tbody>\n",
       "    <tr>\n",
       "      <th>0</th>\n",
       "      <td>1021339766868145413AB3B</td>\n",
       "      <td>193129</td>\n",
       "      <td>2007-08-26 19:09:29.263000000</td>\n",
       "      <td>C</td>\n",
       "      <td>36</td>\n",
       "      <td>Completed</td>\n",
       "      <td>2009-08-14 00:00:00</td>\n",
       "      <td>0.16516</td>\n",
       "      <td>0.1580</td>\n",
       "      <td>0.1380</td>\n",
       "      <td>NaN</td>\n",
       "      <td>NaN</td>\n",
       "      <td>NaN</td>\n",
       "      <td>NaN</td>\n",
       "      <td>NaN</td>\n",
       "      <td>NaN</td>\n",
       "      <td>0</td>\n",
       "      <td>CO</td>\n",
       "      <td>Other</td>\n",
       "      <td>Self-employed</td>\n",
       "      <td>2.0</td>\n",
       "      <td>True</td>\n",
       "      <td>True</td>\n",
       "      <td>NaN</td>\n",
       "      <td>2007-08-26 18:41:46.780000000</td>\n",
       "      <td>640.0</td>\n",
       "      <td>659.0</td>\n",
       "      <td>2001-10-11 00:00:00</td>\n",
       "      <td>5.0</td>\n",
       "      <td>4.0</td>\n",
       "      <td>12.0</td>\n",
       "      <td>1</td>\n",
       "      <td>24.0</td>\n",
       "      <td>3.0</td>\n",
       "      <td>3.0</td>\n",
       "      <td>2.0</td>\n",
       "      <td>472.0</td>\n",
       "      <td>4.0</td>\n",
       "      <td>0.0</td>\n",
       "      <td>0.0</td>\n",
       "      <td>0.0</td>\n",
       "      <td>0.00</td>\n",
       "      <td>1500.0</td>\n",
       "      <td>11.0</td>\n",
       "      <td>0.81</td>\n",
       "      <td>0.0</td>\n",
       "      <td>0.17</td>\n",
       "      <td>$25,000-49,999</td>\n",
       "      <td>True</td>\n",
       "      <td>3083.333333</td>\n",
       "      <td>E33A3400205839220442E84</td>\n",
       "      <td>NaN</td>\n",
       "      <td>NaN</td>\n",
       "      <td>NaN</td>\n",
       "      <td>NaN</td>\n",
       "      <td>NaN</td>\n",
       "      <td>NaN</td>\n",
       "      <td>NaN</td>\n",
       "      <td>NaN</td>\n",
       "      <td>0</td>\n",
       "      <td>NaN</td>\n",
       "      <td>78</td>\n",
       "      <td>19141</td>\n",
       "      <td>9425</td>\n",
       "      <td>2007-09-12 00:00:00</td>\n",
       "      <td>Q3 2007</td>\n",
       "      <td>1F3E3376408759268057EDA</td>\n",
       "      <td>330.43</td>\n",
       "      <td>11396.14</td>\n",
       "      <td>9425.00</td>\n",
       "      <td>1971.14</td>\n",
       "      <td>-133.18</td>\n",
       "      <td>0.0</td>\n",
       "      <td>0.0</td>\n",
       "      <td>0.0</td>\n",
       "      <td>0.0</td>\n",
       "      <td>1.0</td>\n",
       "      <td>0</td>\n",
       "      <td>0</td>\n",
       "      <td>0.0</td>\n",
       "      <td>258</td>\n",
       "    </tr>\n",
       "    <tr>\n",
       "      <th>1</th>\n",
       "      <td>10273602499503308B223C1</td>\n",
       "      <td>1209647</td>\n",
       "      <td>2014-02-27 08:28:07.900000000</td>\n",
       "      <td>NaN</td>\n",
       "      <td>36</td>\n",
       "      <td>Current</td>\n",
       "      <td>NaN</td>\n",
       "      <td>0.12016</td>\n",
       "      <td>0.0920</td>\n",
       "      <td>0.0820</td>\n",
       "      <td>0.07960</td>\n",
       "      <td>0.0249</td>\n",
       "      <td>0.05470</td>\n",
       "      <td>6.0</td>\n",
       "      <td>A</td>\n",
       "      <td>7.0</td>\n",
       "      <td>2</td>\n",
       "      <td>CO</td>\n",
       "      <td>Professional</td>\n",
       "      <td>Employed</td>\n",
       "      <td>44.0</td>\n",
       "      <td>False</td>\n",
       "      <td>False</td>\n",
       "      <td>NaN</td>\n",
       "      <td>2014-02-27 08:28:14</td>\n",
       "      <td>680.0</td>\n",
       "      <td>699.0</td>\n",
       "      <td>1996-03-18 00:00:00</td>\n",
       "      <td>14.0</td>\n",
       "      <td>14.0</td>\n",
       "      <td>29.0</td>\n",
       "      <td>13</td>\n",
       "      <td>389.0</td>\n",
       "      <td>3.0</td>\n",
       "      <td>5.0</td>\n",
       "      <td>0.0</td>\n",
       "      <td>0.0</td>\n",
       "      <td>0.0</td>\n",
       "      <td>1.0</td>\n",
       "      <td>0.0</td>\n",
       "      <td>3989.0</td>\n",
       "      <td>0.21</td>\n",
       "      <td>10266.0</td>\n",
       "      <td>29.0</td>\n",
       "      <td>1.00</td>\n",
       "      <td>2.0</td>\n",
       "      <td>0.18</td>\n",
       "      <td>$50,000-74,999</td>\n",
       "      <td>True</td>\n",
       "      <td>6125.000000</td>\n",
       "      <td>9E3B37071505919926B1D82</td>\n",
       "      <td>NaN</td>\n",
       "      <td>NaN</td>\n",
       "      <td>NaN</td>\n",
       "      <td>NaN</td>\n",
       "      <td>NaN</td>\n",
       "      <td>NaN</td>\n",
       "      <td>NaN</td>\n",
       "      <td>NaN</td>\n",
       "      <td>0</td>\n",
       "      <td>NaN</td>\n",
       "      <td>0</td>\n",
       "      <td>134815</td>\n",
       "      <td>10000</td>\n",
       "      <td>2014-03-03 00:00:00</td>\n",
       "      <td>Q1 2014</td>\n",
       "      <td>1D13370546739025387B2F4</td>\n",
       "      <td>318.93</td>\n",
       "      <td>0.00</td>\n",
       "      <td>0.00</td>\n",
       "      <td>0.00</td>\n",
       "      <td>0.00</td>\n",
       "      <td>0.0</td>\n",
       "      <td>0.0</td>\n",
       "      <td>0.0</td>\n",
       "      <td>0.0</td>\n",
       "      <td>1.0</td>\n",
       "      <td>0</td>\n",
       "      <td>0</td>\n",
       "      <td>0.0</td>\n",
       "      <td>1</td>\n",
       "    </tr>\n",
       "    <tr>\n",
       "      <th>2</th>\n",
       "      <td>0EE9337825851032864889A</td>\n",
       "      <td>81716</td>\n",
       "      <td>2007-01-05 15:00:47.090000000</td>\n",
       "      <td>HR</td>\n",
       "      <td>36</td>\n",
       "      <td>Completed</td>\n",
       "      <td>2009-12-17 00:00:00</td>\n",
       "      <td>0.28269</td>\n",
       "      <td>0.2750</td>\n",
       "      <td>0.2400</td>\n",
       "      <td>NaN</td>\n",
       "      <td>NaN</td>\n",
       "      <td>NaN</td>\n",
       "      <td>NaN</td>\n",
       "      <td>NaN</td>\n",
       "      <td>NaN</td>\n",
       "      <td>0</td>\n",
       "      <td>GA</td>\n",
       "      <td>Other</td>\n",
       "      <td>Not available</td>\n",
       "      <td>NaN</td>\n",
       "      <td>False</td>\n",
       "      <td>True</td>\n",
       "      <td>783C3371218786870A73D20</td>\n",
       "      <td>2007-01-02 14:09:10.060000000</td>\n",
       "      <td>480.0</td>\n",
       "      <td>499.0</td>\n",
       "      <td>2002-07-27 00:00:00</td>\n",
       "      <td>NaN</td>\n",
       "      <td>NaN</td>\n",
       "      <td>3.0</td>\n",
       "      <td>0</td>\n",
       "      <td>0.0</td>\n",
       "      <td>0.0</td>\n",
       "      <td>1.0</td>\n",
       "      <td>1.0</td>\n",
       "      <td>NaN</td>\n",
       "      <td>0.0</td>\n",
       "      <td>0.0</td>\n",
       "      <td>NaN</td>\n",
       "      <td>NaN</td>\n",
       "      <td>NaN</td>\n",
       "      <td>NaN</td>\n",
       "      <td>NaN</td>\n",
       "      <td>NaN</td>\n",
       "      <td>NaN</td>\n",
       "      <td>0.06</td>\n",
       "      <td>Not displayed</td>\n",
       "      <td>True</td>\n",
       "      <td>2083.333333</td>\n",
       "      <td>6954337960046817851BCB2</td>\n",
       "      <td>NaN</td>\n",
       "      <td>NaN</td>\n",
       "      <td>NaN</td>\n",
       "      <td>NaN</td>\n",
       "      <td>NaN</td>\n",
       "      <td>NaN</td>\n",
       "      <td>NaN</td>\n",
       "      <td>NaN</td>\n",
       "      <td>0</td>\n",
       "      <td>NaN</td>\n",
       "      <td>86</td>\n",
       "      <td>6466</td>\n",
       "      <td>3001</td>\n",
       "      <td>2007-01-17 00:00:00</td>\n",
       "      <td>Q1 2007</td>\n",
       "      <td>5F7033715035555618FA612</td>\n",
       "      <td>123.32</td>\n",
       "      <td>4186.63</td>\n",
       "      <td>3001.00</td>\n",
       "      <td>1185.63</td>\n",
       "      <td>-24.20</td>\n",
       "      <td>0.0</td>\n",
       "      <td>0.0</td>\n",
       "      <td>0.0</td>\n",
       "      <td>0.0</td>\n",
       "      <td>1.0</td>\n",
       "      <td>0</td>\n",
       "      <td>0</td>\n",
       "      <td>0.0</td>\n",
       "      <td>41</td>\n",
       "    </tr>\n",
       "    <tr>\n",
       "      <th>3</th>\n",
       "      <td>0EF5356002482715299901A</td>\n",
       "      <td>658116</td>\n",
       "      <td>2012-10-22 11:02:35.010000000</td>\n",
       "      <td>NaN</td>\n",
       "      <td>36</td>\n",
       "      <td>Current</td>\n",
       "      <td>NaN</td>\n",
       "      <td>0.12528</td>\n",
       "      <td>0.0974</td>\n",
       "      <td>0.0874</td>\n",
       "      <td>0.08490</td>\n",
       "      <td>0.0249</td>\n",
       "      <td>0.06000</td>\n",
       "      <td>6.0</td>\n",
       "      <td>A</td>\n",
       "      <td>9.0</td>\n",
       "      <td>16</td>\n",
       "      <td>GA</td>\n",
       "      <td>Skilled Labor</td>\n",
       "      <td>Employed</td>\n",
       "      <td>113.0</td>\n",
       "      <td>True</td>\n",
       "      <td>False</td>\n",
       "      <td>NaN</td>\n",
       "      <td>2012-10-22 11:02:32</td>\n",
       "      <td>800.0</td>\n",
       "      <td>819.0</td>\n",
       "      <td>1983-02-28 00:00:00</td>\n",
       "      <td>5.0</td>\n",
       "      <td>5.0</td>\n",
       "      <td>29.0</td>\n",
       "      <td>7</td>\n",
       "      <td>115.0</td>\n",
       "      <td>0.0</td>\n",
       "      <td>1.0</td>\n",
       "      <td>4.0</td>\n",
       "      <td>10056.0</td>\n",
       "      <td>14.0</td>\n",
       "      <td>0.0</td>\n",
       "      <td>0.0</td>\n",
       "      <td>1444.0</td>\n",
       "      <td>0.04</td>\n",
       "      <td>30754.0</td>\n",
       "      <td>26.0</td>\n",
       "      <td>0.76</td>\n",
       "      <td>0.0</td>\n",
       "      <td>0.15</td>\n",
       "      <td>$25,000-49,999</td>\n",
       "      <td>True</td>\n",
       "      <td>2875.000000</td>\n",
       "      <td>A0393664465886295619C51</td>\n",
       "      <td>NaN</td>\n",
       "      <td>NaN</td>\n",
       "      <td>NaN</td>\n",
       "      <td>NaN</td>\n",
       "      <td>NaN</td>\n",
       "      <td>NaN</td>\n",
       "      <td>NaN</td>\n",
       "      <td>NaN</td>\n",
       "      <td>0</td>\n",
       "      <td>NaN</td>\n",
       "      <td>16</td>\n",
       "      <td>77296</td>\n",
       "      <td>10000</td>\n",
       "      <td>2012-11-01 00:00:00</td>\n",
       "      <td>Q4 2012</td>\n",
       "      <td>9ADE356069835475068C6D2</td>\n",
       "      <td>321.45</td>\n",
       "      <td>5143.20</td>\n",
       "      <td>4091.09</td>\n",
       "      <td>1052.11</td>\n",
       "      <td>-108.01</td>\n",
       "      <td>0.0</td>\n",
       "      <td>0.0</td>\n",
       "      <td>0.0</td>\n",
       "      <td>0.0</td>\n",
       "      <td>1.0</td>\n",
       "      <td>0</td>\n",
       "      <td>0</td>\n",
       "      <td>0.0</td>\n",
       "      <td>158</td>\n",
       "    </tr>\n",
       "    <tr>\n",
       "      <th>4</th>\n",
       "      <td>0F023589499656230C5E3E2</td>\n",
       "      <td>909464</td>\n",
       "      <td>2013-09-14 18:38:39.097000000</td>\n",
       "      <td>NaN</td>\n",
       "      <td>36</td>\n",
       "      <td>Current</td>\n",
       "      <td>NaN</td>\n",
       "      <td>0.24614</td>\n",
       "      <td>0.2085</td>\n",
       "      <td>0.1985</td>\n",
       "      <td>0.18316</td>\n",
       "      <td>0.0925</td>\n",
       "      <td>0.09066</td>\n",
       "      <td>3.0</td>\n",
       "      <td>D</td>\n",
       "      <td>4.0</td>\n",
       "      <td>2</td>\n",
       "      <td>MN</td>\n",
       "      <td>Executive</td>\n",
       "      <td>Employed</td>\n",
       "      <td>44.0</td>\n",
       "      <td>True</td>\n",
       "      <td>False</td>\n",
       "      <td>NaN</td>\n",
       "      <td>2013-09-14 18:38:44</td>\n",
       "      <td>680.0</td>\n",
       "      <td>699.0</td>\n",
       "      <td>2004-02-20 00:00:00</td>\n",
       "      <td>19.0</td>\n",
       "      <td>19.0</td>\n",
       "      <td>49.0</td>\n",
       "      <td>6</td>\n",
       "      <td>220.0</td>\n",
       "      <td>1.0</td>\n",
       "      <td>9.0</td>\n",
       "      <td>0.0</td>\n",
       "      <td>0.0</td>\n",
       "      <td>0.0</td>\n",
       "      <td>0.0</td>\n",
       "      <td>0.0</td>\n",
       "      <td>6193.0</td>\n",
       "      <td>0.81</td>\n",
       "      <td>695.0</td>\n",
       "      <td>39.0</td>\n",
       "      <td>0.95</td>\n",
       "      <td>2.0</td>\n",
       "      <td>0.26</td>\n",
       "      <td>$100,000+</td>\n",
       "      <td>True</td>\n",
       "      <td>9583.333333</td>\n",
       "      <td>A180369302188889200689E</td>\n",
       "      <td>1.0</td>\n",
       "      <td>11.0</td>\n",
       "      <td>11.0</td>\n",
       "      <td>0.0</td>\n",
       "      <td>0.0</td>\n",
       "      <td>11000.0</td>\n",
       "      <td>9947.9</td>\n",
       "      <td>NaN</td>\n",
       "      <td>0</td>\n",
       "      <td>NaN</td>\n",
       "      <td>6</td>\n",
       "      <td>102670</td>\n",
       "      <td>15000</td>\n",
       "      <td>2013-09-20 00:00:00</td>\n",
       "      <td>Q3 2013</td>\n",
       "      <td>36CE356043264555721F06C</td>\n",
       "      <td>563.97</td>\n",
       "      <td>2819.85</td>\n",
       "      <td>1563.22</td>\n",
       "      <td>1256.63</td>\n",
       "      <td>-60.27</td>\n",
       "      <td>0.0</td>\n",
       "      <td>0.0</td>\n",
       "      <td>0.0</td>\n",
       "      <td>0.0</td>\n",
       "      <td>1.0</td>\n",
       "      <td>0</td>\n",
       "      <td>0</td>\n",
       "      <td>0.0</td>\n",
       "      <td>20</td>\n",
       "    </tr>\n",
       "  </tbody>\n",
       "</table>\n",
       "</div>"
      ],
      "text/plain": [
       "                ListingKey  ListingNumber            ListingCreationDate  \\\n",
       "0  1021339766868145413AB3B         193129  2007-08-26 19:09:29.263000000   \n",
       "1  10273602499503308B223C1        1209647  2014-02-27 08:28:07.900000000   \n",
       "2  0EE9337825851032864889A          81716  2007-01-05 15:00:47.090000000   \n",
       "3  0EF5356002482715299901A         658116  2012-10-22 11:02:35.010000000   \n",
       "4  0F023589499656230C5E3E2         909464  2013-09-14 18:38:39.097000000   \n",
       "\n",
       "  CreditGrade  Term LoanStatus           ClosedDate  BorrowerAPR  \\\n",
       "0           C    36  Completed  2009-08-14 00:00:00      0.16516   \n",
       "1         NaN    36    Current                  NaN      0.12016   \n",
       "2          HR    36  Completed  2009-12-17 00:00:00      0.28269   \n",
       "3         NaN    36    Current                  NaN      0.12528   \n",
       "4         NaN    36    Current                  NaN      0.24614   \n",
       "\n",
       "   BorrowerRate  LenderYield  EstimatedEffectiveYield  EstimatedLoss  \\\n",
       "0        0.1580       0.1380                      NaN            NaN   \n",
       "1        0.0920       0.0820                  0.07960         0.0249   \n",
       "2        0.2750       0.2400                      NaN            NaN   \n",
       "3        0.0974       0.0874                  0.08490         0.0249   \n",
       "4        0.2085       0.1985                  0.18316         0.0925   \n",
       "\n",
       "   EstimatedReturn  ProsperRating (numeric) ProsperRating (Alpha)  \\\n",
       "0              NaN                      NaN                   NaN   \n",
       "1          0.05470                      6.0                     A   \n",
       "2              NaN                      NaN                   NaN   \n",
       "3          0.06000                      6.0                     A   \n",
       "4          0.09066                      3.0                     D   \n",
       "\n",
       "   ProsperScore  ListingCategory (numeric) BorrowerState     Occupation  \\\n",
       "0           NaN                          0            CO          Other   \n",
       "1           7.0                          2            CO   Professional   \n",
       "2           NaN                          0            GA          Other   \n",
       "3           9.0                         16            GA  Skilled Labor   \n",
       "4           4.0                          2            MN      Executive   \n",
       "\n",
       "  EmploymentStatus  EmploymentStatusDuration  IsBorrowerHomeowner  \\\n",
       "0    Self-employed                       2.0                 True   \n",
       "1         Employed                      44.0                False   \n",
       "2    Not available                       NaN                False   \n",
       "3         Employed                     113.0                 True   \n",
       "4         Employed                      44.0                 True   \n",
       "\n",
       "   CurrentlyInGroup                 GroupKey               DateCreditPulled  \\\n",
       "0              True                      NaN  2007-08-26 18:41:46.780000000   \n",
       "1             False                      NaN            2014-02-27 08:28:14   \n",
       "2              True  783C3371218786870A73D20  2007-01-02 14:09:10.060000000   \n",
       "3             False                      NaN            2012-10-22 11:02:32   \n",
       "4             False                      NaN            2013-09-14 18:38:44   \n",
       "\n",
       "   CreditScoreRangeLower  CreditScoreRangeUpper FirstRecordedCreditLine  \\\n",
       "0                  640.0                  659.0     2001-10-11 00:00:00   \n",
       "1                  680.0                  699.0     1996-03-18 00:00:00   \n",
       "2                  480.0                  499.0     2002-07-27 00:00:00   \n",
       "3                  800.0                  819.0     1983-02-28 00:00:00   \n",
       "4                  680.0                  699.0     2004-02-20 00:00:00   \n",
       "\n",
       "   CurrentCreditLines  OpenCreditLines  TotalCreditLinespast7years  \\\n",
       "0                 5.0              4.0                        12.0   \n",
       "1                14.0             14.0                        29.0   \n",
       "2                 NaN              NaN                         3.0   \n",
       "3                 5.0              5.0                        29.0   \n",
       "4                19.0             19.0                        49.0   \n",
       "\n",
       "   OpenRevolvingAccounts  OpenRevolvingMonthlyPayment  InquiriesLast6Months  \\\n",
       "0                      1                         24.0                   3.0   \n",
       "1                     13                        389.0                   3.0   \n",
       "2                      0                          0.0                   0.0   \n",
       "3                      7                        115.0                   0.0   \n",
       "4                      6                        220.0                   1.0   \n",
       "\n",
       "   TotalInquiries  CurrentDelinquencies  AmountDelinquent  \\\n",
       "0             3.0                   2.0             472.0   \n",
       "1             5.0                   0.0               0.0   \n",
       "2             1.0                   1.0               NaN   \n",
       "3             1.0                   4.0           10056.0   \n",
       "4             9.0                   0.0               0.0   \n",
       "\n",
       "   DelinquenciesLast7Years  PublicRecordsLast10Years  \\\n",
       "0                      4.0                       0.0   \n",
       "1                      0.0                       1.0   \n",
       "2                      0.0                       0.0   \n",
       "3                     14.0                       0.0   \n",
       "4                      0.0                       0.0   \n",
       "\n",
       "   PublicRecordsLast12Months  RevolvingCreditBalance  BankcardUtilization  \\\n",
       "0                        0.0                     0.0                 0.00   \n",
       "1                        0.0                  3989.0                 0.21   \n",
       "2                        NaN                     NaN                  NaN   \n",
       "3                        0.0                  1444.0                 0.04   \n",
       "4                        0.0                  6193.0                 0.81   \n",
       "\n",
       "   AvailableBankcardCredit  TotalTrades  TradesNeverDelinquent (percentage)  \\\n",
       "0                   1500.0         11.0                                0.81   \n",
       "1                  10266.0         29.0                                1.00   \n",
       "2                      NaN          NaN                                 NaN   \n",
       "3                  30754.0         26.0                                0.76   \n",
       "4                    695.0         39.0                                0.95   \n",
       "\n",
       "   TradesOpenedLast6Months  DebtToIncomeRatio     IncomeRange  \\\n",
       "0                      0.0               0.17  $25,000-49,999   \n",
       "1                      2.0               0.18  $50,000-74,999   \n",
       "2                      NaN               0.06   Not displayed   \n",
       "3                      0.0               0.15  $25,000-49,999   \n",
       "4                      2.0               0.26       $100,000+   \n",
       "\n",
       "   IncomeVerifiable  StatedMonthlyIncome                  LoanKey  \\\n",
       "0              True          3083.333333  E33A3400205839220442E84   \n",
       "1              True          6125.000000  9E3B37071505919926B1D82   \n",
       "2              True          2083.333333  6954337960046817851BCB2   \n",
       "3              True          2875.000000  A0393664465886295619C51   \n",
       "4              True          9583.333333  A180369302188889200689E   \n",
       "\n",
       "   TotalProsperLoans  TotalProsperPaymentsBilled  OnTimeProsperPayments  \\\n",
       "0                NaN                         NaN                    NaN   \n",
       "1                NaN                         NaN                    NaN   \n",
       "2                NaN                         NaN                    NaN   \n",
       "3                NaN                         NaN                    NaN   \n",
       "4                1.0                        11.0                   11.0   \n",
       "\n",
       "   ProsperPaymentsLessThanOneMonthLate  ProsperPaymentsOneMonthPlusLate  \\\n",
       "0                                  NaN                              NaN   \n",
       "1                                  NaN                              NaN   \n",
       "2                                  NaN                              NaN   \n",
       "3                                  NaN                              NaN   \n",
       "4                                  0.0                              0.0   \n",
       "\n",
       "   ProsperPrincipalBorrowed  ProsperPrincipalOutstanding  \\\n",
       "0                       NaN                          NaN   \n",
       "1                       NaN                          NaN   \n",
       "2                       NaN                          NaN   \n",
       "3                       NaN                          NaN   \n",
       "4                   11000.0                       9947.9   \n",
       "\n",
       "   ScorexChangeAtTimeOfListing  LoanCurrentDaysDelinquent  \\\n",
       "0                          NaN                          0   \n",
       "1                          NaN                          0   \n",
       "2                          NaN                          0   \n",
       "3                          NaN                          0   \n",
       "4                          NaN                          0   \n",
       "\n",
       "   LoanFirstDefaultedCycleNumber  LoanMonthsSinceOrigination  LoanNumber  \\\n",
       "0                            NaN                          78       19141   \n",
       "1                            NaN                           0      134815   \n",
       "2                            NaN                          86        6466   \n",
       "3                            NaN                          16       77296   \n",
       "4                            NaN                           6      102670   \n",
       "\n",
       "   LoanOriginalAmount  LoanOriginationDate LoanOriginationQuarter  \\\n",
       "0                9425  2007-09-12 00:00:00                Q3 2007   \n",
       "1               10000  2014-03-03 00:00:00                Q1 2014   \n",
       "2                3001  2007-01-17 00:00:00                Q1 2007   \n",
       "3               10000  2012-11-01 00:00:00                Q4 2012   \n",
       "4               15000  2013-09-20 00:00:00                Q3 2013   \n",
       "\n",
       "                 MemberKey  MonthlyLoanPayment  LP_CustomerPayments  \\\n",
       "0  1F3E3376408759268057EDA              330.43             11396.14   \n",
       "1  1D13370546739025387B2F4              318.93                 0.00   \n",
       "2  5F7033715035555618FA612              123.32              4186.63   \n",
       "3  9ADE356069835475068C6D2              321.45              5143.20   \n",
       "4  36CE356043264555721F06C              563.97              2819.85   \n",
       "\n",
       "   LP_CustomerPrincipalPayments  LP_InterestandFees  LP_ServiceFees  \\\n",
       "0                       9425.00             1971.14         -133.18   \n",
       "1                          0.00                0.00            0.00   \n",
       "2                       3001.00             1185.63          -24.20   \n",
       "3                       4091.09             1052.11         -108.01   \n",
       "4                       1563.22             1256.63          -60.27   \n",
       "\n",
       "   LP_CollectionFees  LP_GrossPrincipalLoss  LP_NetPrincipalLoss  \\\n",
       "0                0.0                    0.0                  0.0   \n",
       "1                0.0                    0.0                  0.0   \n",
       "2                0.0                    0.0                  0.0   \n",
       "3                0.0                    0.0                  0.0   \n",
       "4                0.0                    0.0                  0.0   \n",
       "\n",
       "   LP_NonPrincipalRecoverypayments  PercentFunded  Recommendations  \\\n",
       "0                              0.0            1.0                0   \n",
       "1                              0.0            1.0                0   \n",
       "2                              0.0            1.0                0   \n",
       "3                              0.0            1.0                0   \n",
       "4                              0.0            1.0                0   \n",
       "\n",
       "   InvestmentFromFriendsCount  InvestmentFromFriendsAmount  Investors  \n",
       "0                           0                          0.0        258  \n",
       "1                           0                          0.0          1  \n",
       "2                           0                          0.0         41  \n",
       "3                           0                          0.0        158  \n",
       "4                           0                          0.0         20  "
      ]
     },
     "execution_count": 2,
     "metadata": {},
     "output_type": "execute_result"
    }
   ],
   "source": [
    "#Input (preserve original data in case we need to refer back to it at any point)\n",
    "df = original_data = pd.read_csv(\"../input/prosperloandata/prosperLoanData (1).csv\")\n",
    "\n",
    "pd.set_option(\"display.max_columns\", len(df.columns))\n",
    "df.head()"
   ]
  },
  {
   "cell_type": "code",
   "execution_count": 3,
   "metadata": {
    "_cell_guid": "07ed9d08-6c1f-714f-8594-31f390e0eb67",
    "_uuid": "f78ff92702e9dd17f5ab500993cafd81f99de311",
    "execution": {
     "iopub.execute_input": "2022-11-22T19:16:21.495036Z",
     "iopub.status.busy": "2022-11-22T19:16:21.494669Z",
     "iopub.status.idle": "2022-11-22T19:16:21.722344Z",
     "shell.execute_reply": "2022-11-22T19:16:21.721492Z",
     "shell.execute_reply.started": "2022-11-22T19:16:21.494996Z"
    }
   },
   "outputs": [
    {
     "name": "stdout",
     "output_type": "stream",
     "text": [
      "<class 'pandas.core.frame.DataFrame'>\n",
      "RangeIndex: 113937 entries, 0 to 113936\n",
      "Data columns (total 81 columns):\n",
      "ListingKey                             113937 non-null object\n",
      "ListingNumber                          113937 non-null int64\n",
      "ListingCreationDate                    113937 non-null object\n",
      "CreditGrade                            28953 non-null object\n",
      "Term                                   113937 non-null int64\n",
      "LoanStatus                             113937 non-null object\n",
      "ClosedDate                             55089 non-null object\n",
      "BorrowerAPR                            113912 non-null float64\n",
      "BorrowerRate                           113937 non-null float64\n",
      "LenderYield                            113937 non-null float64\n",
      "EstimatedEffectiveYield                84853 non-null float64\n",
      "EstimatedLoss                          84853 non-null float64\n",
      "EstimatedReturn                        84853 non-null float64\n",
      "ProsperRating (numeric)                84853 non-null float64\n",
      "ProsperRating (Alpha)                  84853 non-null object\n",
      "ProsperScore                           84853 non-null float64\n",
      "ListingCategory (numeric)              113937 non-null int64\n",
      "BorrowerState                          108422 non-null object\n",
      "Occupation                             110349 non-null object\n",
      "EmploymentStatus                       111682 non-null object\n",
      "EmploymentStatusDuration               106312 non-null float64\n",
      "IsBorrowerHomeowner                    113937 non-null bool\n",
      "CurrentlyInGroup                       113937 non-null bool\n",
      "GroupKey                               13341 non-null object\n",
      "DateCreditPulled                       113937 non-null object\n",
      "CreditScoreRangeLower                  113346 non-null float64\n",
      "CreditScoreRangeUpper                  113346 non-null float64\n",
      "FirstRecordedCreditLine                113240 non-null object\n",
      "CurrentCreditLines                     106333 non-null float64\n",
      "OpenCreditLines                        106333 non-null float64\n",
      "TotalCreditLinespast7years             113240 non-null float64\n",
      "OpenRevolvingAccounts                  113937 non-null int64\n",
      "OpenRevolvingMonthlyPayment            113937 non-null float64\n",
      "InquiriesLast6Months                   113240 non-null float64\n",
      "TotalInquiries                         112778 non-null float64\n",
      "CurrentDelinquencies                   113240 non-null float64\n",
      "AmountDelinquent                       106315 non-null float64\n",
      "DelinquenciesLast7Years                112947 non-null float64\n",
      "PublicRecordsLast10Years               113240 non-null float64\n",
      "PublicRecordsLast12Months              106333 non-null float64\n",
      "RevolvingCreditBalance                 106333 non-null float64\n",
      "BankcardUtilization                    106333 non-null float64\n",
      "AvailableBankcardCredit                106393 non-null float64\n",
      "TotalTrades                            106393 non-null float64\n",
      "TradesNeverDelinquent (percentage)     106393 non-null float64\n",
      "TradesOpenedLast6Months                106393 non-null float64\n",
      "DebtToIncomeRatio                      105383 non-null float64\n",
      "IncomeRange                            113937 non-null object\n",
      "IncomeVerifiable                       113937 non-null bool\n",
      "StatedMonthlyIncome                    113937 non-null float64\n",
      "LoanKey                                113937 non-null object\n",
      "TotalProsperLoans                      22085 non-null float64\n",
      "TotalProsperPaymentsBilled             22085 non-null float64\n",
      "OnTimeProsperPayments                  22085 non-null float64\n",
      "ProsperPaymentsLessThanOneMonthLate    22085 non-null float64\n",
      "ProsperPaymentsOneMonthPlusLate        22085 non-null float64\n",
      "ProsperPrincipalBorrowed               22085 non-null float64\n",
      "ProsperPrincipalOutstanding            22085 non-null float64\n",
      "ScorexChangeAtTimeOfListing            18928 non-null float64\n",
      "LoanCurrentDaysDelinquent              113937 non-null int64\n",
      "LoanFirstDefaultedCycleNumber          16952 non-null float64\n",
      "LoanMonthsSinceOrigination             113937 non-null int64\n",
      "LoanNumber                             113937 non-null int64\n",
      "LoanOriginalAmount                     113937 non-null int64\n",
      "LoanOriginationDate                    113937 non-null object\n",
      "LoanOriginationQuarter                 113937 non-null object\n",
      "MemberKey                              113937 non-null object\n",
      "MonthlyLoanPayment                     113937 non-null float64\n",
      "LP_CustomerPayments                    113937 non-null float64\n",
      "LP_CustomerPrincipalPayments           113937 non-null float64\n",
      "LP_InterestandFees                     113937 non-null float64\n",
      "LP_ServiceFees                         113937 non-null float64\n",
      "LP_CollectionFees                      113937 non-null float64\n",
      "LP_GrossPrincipalLoss                  113937 non-null float64\n",
      "LP_NetPrincipalLoss                    113937 non-null float64\n",
      "LP_NonPrincipalRecoverypayments        113937 non-null float64\n",
      "PercentFunded                          113937 non-null float64\n",
      "Recommendations                        113937 non-null int64\n",
      "InvestmentFromFriendsCount             113937 non-null int64\n",
      "InvestmentFromFriendsAmount            113937 non-null float64\n",
      "Investors                              113937 non-null int64\n",
      "dtypes: bool(3), float64(50), int64(11), object(17)\n",
      "memory usage: 68.1+ MB\n"
     ]
    }
   ],
   "source": [
    "#Examine columns, missing values, and data types\n",
    "df.info()"
   ]
  },
  {
   "cell_type": "markdown",
   "metadata": {
    "_cell_guid": "a102ece9-d417-3797-3dde-27be6e44fd2e",
    "_uuid": "b0ead54ef7a104a946c9ed6e7b56a8c02a1e891d"
   },
   "source": [
    "Taking a quick look at the data, there are a few potential processing tasks that jump out right away. \n",
    "\n",
    "    1) Some variables have a lot of null values. TotalProsperLoans, for instance, and a lot of other variables associated with the Prosper history of the debtor.\n",
    "    2) A lot of these variables seem to be administrative identifiers (e.g. ListingKey and ListingNumber), and redundant ones at that. They won't be of much use to us. \n",
    "    3) There are 17 variables of type object. Those will probably need some attention before they're ready for some of our classification models.\n",
    "    4) Variables have a wide variety of ranges. We will probably need to re-scale them to make them more amenable to some of our classifiers.\n",
    "    \n",
    "Let's start by filling in these NaN values as best we can."
   ]
  },
  {
   "cell_type": "markdown",
   "metadata": {
    "_cell_guid": "7c72c2d8-47e1-fb25-e785-ef3a84c535ec",
    "_uuid": "0fd524b0a65c06244d546899f675900d7bf078f7"
   },
   "source": [
    "### Preprocessing: imputation of missing values <a class=\"anchor\" id=\"na\"></a>"
   ]
  },
  {
   "cell_type": "markdown",
   "metadata": {
    "_cell_guid": "12ef38a7-9f95-a36a-6e72-707b393ade3e",
    "_uuid": "09ad31a5aad5577b80164d192b8e7d65e7bba235"
   },
   "source": [
    "Beginning with categorical data, for now let's just fill the NaN values with \"Unknown\"."
   ]
  },
  {
   "cell_type": "code",
   "execution_count": 4,
   "metadata": {
    "_cell_guid": "4e936435-3995-901d-dddb-98831767e627",
    "_uuid": "3a8b1052d10f2affee792eb5dc9dd386052985c1",
    "execution": {
     "iopub.execute_input": "2022-11-22T19:16:32.893022Z",
     "iopub.status.busy": "2022-11-22T19:16:32.892506Z",
     "iopub.status.idle": "2022-11-22T19:16:33.243727Z",
     "shell.execute_reply": "2022-11-22T19:16:33.242942Z",
     "shell.execute_reply.started": "2022-11-22T19:16:32.892964Z"
    }
   },
   "outputs": [
    {
     "data": {
      "text/plain": [
       "ListingKey                 0\n",
       "ListingCreationDate        0\n",
       "CreditGrade                0\n",
       "LoanStatus                 0\n",
       "ClosedDate                 0\n",
       "ProsperRating (Alpha)      0\n",
       "BorrowerState              0\n",
       "Occupation                 0\n",
       "EmploymentStatus           0\n",
       "IsBorrowerHomeowner        0\n",
       "CurrentlyInGroup           0\n",
       "GroupKey                   0\n",
       "DateCreditPulled           0\n",
       "FirstRecordedCreditLine    0\n",
       "IncomeRange                0\n",
       "IncomeVerifiable           0\n",
       "LoanKey                    0\n",
       "LoanOriginationDate        0\n",
       "LoanOriginationQuarter     0\n",
       "MemberKey                  0\n",
       "dtype: int64"
      ]
     },
     "execution_count": 4,
     "metadata": {},
     "output_type": "execute_result"
    }
   ],
   "source": [
    "categorical = df.select_dtypes(include=[\"object\"]).columns.values\n",
    "df[categorical] = df[categorical].fillna(\"Unknown\")\n",
    "\n",
    "df.select_dtypes(exclude=[np.number]).isnull().sum()"
   ]
  },
  {
   "cell_type": "markdown",
   "metadata": {
    "_cell_guid": "7b042f4f-e236-b8e9-2de5-f4fed8787633",
    "_uuid": "e5f5850d4d91f4d3c621a58eea80c803edf9658b"
   },
   "source": [
    "Next, about 20 loans are missing an APR value. Because APR is equal to the borrower rate + fees, let's calculate the median difference between the two, and add that value to the borrower rate of our data points missing an APR."
   ]
  },
  {
   "cell_type": "code",
   "execution_count": 5,
   "metadata": {
    "_cell_guid": "9c3aaa9a-ec64-ab2a-6c71-44919fa877af",
    "_uuid": "538f1a3061b4440045e24b7200a48943b121d54f",
    "execution": {
     "iopub.execute_input": "2022-11-22T19:17:04.413134Z",
     "iopub.status.busy": "2022-11-22T19:17:04.412642Z",
     "iopub.status.idle": "2022-11-22T19:17:04.422880Z",
     "shell.execute_reply": "2022-11-22T19:17:04.422328Z",
     "shell.execute_reply.started": "2022-11-22T19:17:04.413083Z"
    }
   },
   "outputs": [
    {
     "data": {
      "text/plain": [
       "0.025019999999999987"
      ]
     },
     "execution_count": 5,
     "metadata": {},
     "output_type": "execute_result"
    }
   ],
   "source": [
    "borrower_fees = df[\"BorrowerAPR\"] - df[\"BorrowerRate\"]\n",
    "borrower_fees.median()"
   ]
  },
  {
   "cell_type": "code",
   "execution_count": 6,
   "metadata": {
    "_cell_guid": "c5384745-0cb9-5fab-bdad-169de6fdf949",
    "_uuid": "a233e348d81425cd295341a382fb4099d058c0bf",
    "execution": {
     "iopub.execute_input": "2022-11-22T19:17:09.521363Z",
     "iopub.status.busy": "2022-11-22T19:17:09.520744Z",
     "iopub.status.idle": "2022-11-22T19:17:09.531340Z",
     "shell.execute_reply": "2022-11-22T19:17:09.530592Z",
     "shell.execute_reply.started": "2022-11-22T19:17:09.521279Z"
    }
   },
   "outputs": [
    {
     "data": {
      "text/plain": [
       "0"
      ]
     },
     "execution_count": 6,
     "metadata": {},
     "output_type": "execute_result"
    }
   ],
   "source": [
    "df[\"BorrowerAPR\"].fillna(df[\"BorrowerRate\"] + borrower_fees.median(), inplace=True)\n",
    "\n",
    "df[\"BorrowerAPR\"].isnull().sum()"
   ]
  },
  {
   "cell_type": "markdown",
   "metadata": {
    "_cell_guid": "b391d7a4-cef6-eb80-c2da-d32943376325",
    "_uuid": "c57f73f720081a37222040d44a7bda522f9ee4c3"
   },
   "source": [
    "EstimatedEffectiveYield will always be the borrower rate minus some expected loss from interest charge-offs and fees."
   ]
  },
  {
   "cell_type": "code",
   "execution_count": 7,
   "metadata": {
    "_cell_guid": "d0418fc9-80f0-3f8a-8b3e-6ef419a98629",
    "_uuid": "25d4fee3ec948195d32675811ec458a893173fd6",
    "execution": {
     "iopub.execute_input": "2022-11-22T19:17:13.360776Z",
     "iopub.status.busy": "2022-11-22T19:17:13.360307Z",
     "iopub.status.idle": "2022-11-22T19:17:13.367808Z",
     "shell.execute_reply": "2022-11-22T19:17:13.367127Z",
     "shell.execute_reply.started": "2022-11-22T19:17:13.360724Z"
    }
   },
   "outputs": [
    {
     "data": {
      "text/plain": [
       "0.01915"
      ]
     },
     "execution_count": 7,
     "metadata": {},
     "output_type": "execute_result"
    }
   ],
   "source": [
    "estimated_loss_from_fees = df[\"BorrowerRate\"] - df[\"EstimatedEffectiveYield\"]\n",
    "estimated_loss_from_fees.median()"
   ]
  },
  {
   "cell_type": "code",
   "execution_count": 8,
   "metadata": {
    "_cell_guid": "75e503d9-9b75-4952-11eb-0c2fd6d942b6",
    "_uuid": "7accfefd7950f862c25a065e66bb0a8fe37eb93e",
    "execution": {
     "iopub.execute_input": "2022-11-22T19:17:16.033347Z",
     "iopub.status.busy": "2022-11-22T19:17:16.032758Z",
     "iopub.status.idle": "2022-11-22T19:17:16.046039Z",
     "shell.execute_reply": "2022-11-22T19:17:16.044365Z",
     "shell.execute_reply.started": "2022-11-22T19:17:16.033284Z"
    }
   },
   "outputs": [
    {
     "data": {
      "text/plain": [
       "0"
      ]
     },
     "execution_count": 8,
     "metadata": {},
     "output_type": "execute_result"
    }
   ],
   "source": [
    "df[\"EstimatedEffectiveYield\"].fillna(df[\"BorrowerRate\"] - estimated_loss_from_fees.median(), inplace=True)\n",
    "\n",
    "df[\"EstimatedEffectiveYield\"].isnull().sum()"
   ]
  },
  {
   "cell_type": "markdown",
   "metadata": {
    "_cell_guid": "c26e2d12-3054-3475-5d14-68bba9d6a5e4",
    "_uuid": "ef9c91257768e71450da2e7a69c035d70f94c4ec"
   },
   "source": [
    "EstimatedLoss is harder to gauge. Let's just take the median."
   ]
  },
  {
   "cell_type": "code",
   "execution_count": 9,
   "metadata": {
    "_cell_guid": "11102018-18f7-f964-2043-0867e42c3002",
    "_uuid": "d421b93276c3ec422d38dd68370ecda80757674b",
    "execution": {
     "iopub.execute_input": "2022-11-22T19:17:18.372623Z",
     "iopub.status.busy": "2022-11-22T19:17:18.371972Z",
     "iopub.status.idle": "2022-11-22T19:17:18.383390Z",
     "shell.execute_reply": "2022-11-22T19:17:18.382930Z",
     "shell.execute_reply.started": "2022-11-22T19:17:18.372555Z"
    }
   },
   "outputs": [
    {
     "data": {
      "text/plain": [
       "0"
      ]
     },
     "execution_count": 9,
     "metadata": {},
     "output_type": "execute_result"
    }
   ],
   "source": [
    "df[\"EstimatedLoss\"].fillna(df[\"EstimatedLoss\"].median(), inplace=True)\n",
    "\n",
    "df[\"EstimatedLoss\"].isnull().sum()"
   ]
  },
  {
   "cell_type": "markdown",
   "metadata": {
    "_cell_guid": "be26f48a-fa45-a769-4a02-bf63696a7d8b",
    "_uuid": "372efa89bcb63ad52232b133f3a4e5b62f856574"
   },
   "source": [
    "EstimatedReturn is defined as EstimatedEffectiveYield - EstimatedLoss."
   ]
  },
  {
   "cell_type": "code",
   "execution_count": 10,
   "metadata": {
    "_cell_guid": "aec33f7d-3778-4531-8490-899c13b6f1ba",
    "_uuid": "4da17d8c0464090b2d9bb28a971dafd4c5bb6ace",
    "execution": {
     "iopub.execute_input": "2022-11-22T19:17:20.941400Z",
     "iopub.status.busy": "2022-11-22T19:17:20.940853Z",
     "iopub.status.idle": "2022-11-22T19:17:20.950943Z",
     "shell.execute_reply": "2022-11-22T19:17:20.950379Z",
     "shell.execute_reply.started": "2022-11-22T19:17:20.941353Z"
    }
   },
   "outputs": [
    {
     "data": {
      "text/plain": [
       "0"
      ]
     },
     "execution_count": 10,
     "metadata": {},
     "output_type": "execute_result"
    }
   ],
   "source": [
    "df[\"EstimatedReturn\"].fillna(df[\"EstimatedEffectiveYield\"] - df[\"EstimatedLoss\"], inplace=True)\n",
    "\n",
    "df[\"EstimatedReturn\"].isnull().sum()"
   ]
  },
  {
   "cell_type": "markdown",
   "metadata": {
    "_cell_guid": "2b0187c5-9bdc-1e91-d337-0cf28b4865ed",
    "_uuid": "32091553820271e13978d8a485e8510050cfc750"
   },
   "source": [
    "The numeric ProsperRating and the ProsperScore NaNs can both be replaced with median values."
   ]
  },
  {
   "cell_type": "code",
   "execution_count": 11,
   "metadata": {
    "_cell_guid": "4fe56dab-3030-a3ab-a63a-34c16e1f8493",
    "_uuid": "606a56328356a1368bd46c06f1b92a6b16eda797",
    "execution": {
     "iopub.execute_input": "2022-11-22T19:17:23.301183Z",
     "iopub.status.busy": "2022-11-22T19:17:23.300718Z",
     "iopub.status.idle": "2022-11-22T19:17:23.313611Z",
     "shell.execute_reply": "2022-11-22T19:17:23.312499Z",
     "shell.execute_reply.started": "2022-11-22T19:17:23.301146Z"
    }
   },
   "outputs": [
    {
     "data": {
      "text/plain": [
       "(0, 0)"
      ]
     },
     "execution_count": 11,
     "metadata": {},
     "output_type": "execute_result"
    }
   ],
   "source": [
    "df[\"ProsperRating (numeric)\"].fillna(df[\"ProsperRating (numeric)\"].median(), inplace=True)\n",
    "df[\"ProsperScore\"].fillna(df[\"ProsperScore\"].median(), inplace=True)\n",
    "\n",
    "\n",
    "df[\"ProsperRating (numeric)\"].isnull().sum(), df[\"ProsperScore\"].isnull().sum()"
   ]
  },
  {
   "cell_type": "markdown",
   "metadata": {
    "_cell_guid": "087c545b-71ed-3e15-8171-5e3b0a398fe5",
    "_uuid": "dafbdedb3caa5a09b5cb608c119a91e972637e50"
   },
   "source": [
    "There are a host of variables which hold a lot of promise for our eventual classification algorithm, and are only missing a relatively small number of values. I'm going to drop all the rows missing values for these, rather than filling them out with arbitrary median values or 0s."
   ]
  },
  {
   "cell_type": "code",
   "execution_count": 12,
   "metadata": {
    "_cell_guid": "92742fb7-b280-7a72-be37-4eb16a1dea3b",
    "_uuid": "5958cdf2f5ff75791eda4ed91d9811dc6aacfba1",
    "execution": {
     "iopub.execute_input": "2022-11-22T19:17:30.153264Z",
     "iopub.status.busy": "2022-11-22T19:17:30.152755Z",
     "iopub.status.idle": "2022-11-22T19:17:30.215570Z",
     "shell.execute_reply": "2022-11-22T19:17:30.215010Z",
     "shell.execute_reply.started": "2022-11-22T19:17:30.153215Z"
    }
   },
   "outputs": [],
   "source": [
    "df.dropna(subset=[\"EmploymentStatusDuration\", \"CreditScoreRangeLower\", \"FirstRecordedCreditLine\", \"CurrentCreditLines\",\n",
    "                  \"TotalCreditLinespast7years\"], inplace=True)"
   ]
  },
  {
   "cell_type": "markdown",
   "metadata": {
    "_cell_guid": "35b09026-4440-a3bd-187d-01ee4863e53b",
    "_uuid": "4bfab74db45fdab0406d9356d7d1b554b0288cca"
   },
   "source": [
    "Let's see how we're doing so far."
   ]
  },
  {
   "cell_type": "code",
   "execution_count": 13,
   "metadata": {
    "_cell_guid": "36547d29-f5c8-57e5-d76c-0aead2b8c7ad",
    "_uuid": "c10afe70908325edf2283b6b9f68d1050572eb6f",
    "collapsed": true,
    "jupyter": {
     "outputs_hidden": true
    }
   },
   "outputs": [
    {
     "name": "stdout",
     "output_type": "stream",
     "text": [
      "<class 'pandas.core.frame.DataFrame'>\n",
      "Int64Index: 106290 entries, 0 to 113936\n",
      "Data columns (total 81 columns):\n",
      "ListingKey                             106290 non-null object\n",
      "ListingNumber                          106290 non-null int64\n",
      "ListingCreationDate                    106290 non-null object\n",
      "CreditGrade                            106290 non-null object\n",
      "Term                                   106290 non-null int64\n",
      "LoanStatus                             106290 non-null object\n",
      "ClosedDate                             106290 non-null object\n",
      "BorrowerAPR                            106290 non-null float64\n",
      "BorrowerRate                           106290 non-null float64\n",
      "LenderYield                            106290 non-null float64\n",
      "EstimatedEffectiveYield                106290 non-null float64\n",
      "EstimatedLoss                          106290 non-null float64\n",
      "EstimatedReturn                        106290 non-null float64\n",
      "ProsperRating (numeric)                106290 non-null float64\n",
      "ProsperRating (Alpha)                  106290 non-null object\n",
      "ProsperScore                           106290 non-null float64\n",
      "ListingCategory (numeric)              106290 non-null int64\n",
      "BorrowerState                          106290 non-null object\n",
      "Occupation                             106290 non-null object\n",
      "EmploymentStatus                       106290 non-null object\n",
      "EmploymentStatusDuration               106290 non-null float64\n",
      "IsBorrowerHomeowner                    106290 non-null bool\n",
      "CurrentlyInGroup                       106290 non-null bool\n",
      "GroupKey                               106290 non-null object\n",
      "DateCreditPulled                       106290 non-null object\n",
      "CreditScoreRangeLower                  106290 non-null float64\n",
      "CreditScoreRangeUpper                  106290 non-null float64\n",
      "FirstRecordedCreditLine                106290 non-null object\n",
      "CurrentCreditLines                     106290 non-null float64\n",
      "OpenCreditLines                        106290 non-null float64\n",
      "TotalCreditLinespast7years             106290 non-null float64\n",
      "OpenRevolvingAccounts                  106290 non-null int64\n",
      "OpenRevolvingMonthlyPayment            106290 non-null float64\n",
      "InquiriesLast6Months                   106290 non-null float64\n",
      "TotalInquiries                         106290 non-null float64\n",
      "CurrentDelinquencies                   106290 non-null float64\n",
      "AmountDelinquent                       106290 non-null float64\n",
      "DelinquenciesLast7Years                106290 non-null float64\n",
      "PublicRecordsLast10Years               106290 non-null float64\n",
      "PublicRecordsLast12Months              106290 non-null float64\n",
      "RevolvingCreditBalance                 106290 non-null float64\n",
      "BankcardUtilization                    106290 non-null float64\n",
      "AvailableBankcardCredit                106290 non-null float64\n",
      "TotalTrades                            106290 non-null float64\n",
      "TradesNeverDelinquent (percentage)     106290 non-null float64\n",
      "TradesOpenedLast6Months                106290 non-null float64\n",
      "DebtToIncomeRatio                      97886 non-null float64\n",
      "IncomeRange                            106290 non-null object\n",
      "IncomeVerifiable                       106290 non-null bool\n",
      "StatedMonthlyIncome                    106290 non-null float64\n",
      "LoanKey                                106290 non-null object\n",
      "TotalProsperLoans                      22081 non-null float64\n",
      "TotalProsperPaymentsBilled             22081 non-null float64\n",
      "OnTimeProsperPayments                  22081 non-null float64\n",
      "ProsperPaymentsLessThanOneMonthLate    22081 non-null float64\n",
      "ProsperPaymentsOneMonthPlusLate        22081 non-null float64\n",
      "ProsperPrincipalBorrowed               22081 non-null float64\n",
      "ProsperPrincipalOutstanding            22081 non-null float64\n",
      "ScorexChangeAtTimeOfListing            18924 non-null float64\n",
      "LoanCurrentDaysDelinquent              106290 non-null int64\n",
      "LoanFirstDefaultedCycleNumber          13842 non-null float64\n",
      "LoanMonthsSinceOrigination             106290 non-null int64\n",
      "LoanNumber                             106290 non-null int64\n",
      "LoanOriginalAmount                     106290 non-null int64\n",
      "LoanOriginationDate                    106290 non-null object\n",
      "LoanOriginationQuarter                 106290 non-null object\n",
      "MemberKey                              106290 non-null object\n",
      "MonthlyLoanPayment                     106290 non-null float64\n",
      "LP_CustomerPayments                    106290 non-null float64\n",
      "LP_CustomerPrincipalPayments           106290 non-null float64\n",
      "LP_InterestandFees                     106290 non-null float64\n",
      "LP_ServiceFees                         106290 non-null float64\n",
      "LP_CollectionFees                      106290 non-null float64\n",
      "LP_GrossPrincipalLoss                  106290 non-null float64\n",
      "LP_NetPrincipalLoss                    106290 non-null float64\n",
      "LP_NonPrincipalRecoverypayments        106290 non-null float64\n",
      "PercentFunded                          106290 non-null float64\n",
      "Recommendations                        106290 non-null int64\n",
      "InvestmentFromFriendsCount             106290 non-null int64\n",
      "InvestmentFromFriendsAmount            106290 non-null float64\n",
      "Investors                              106290 non-null int64\n",
      "dtypes: bool(3), float64(50), int64(11), object(17)\n",
      "memory usage: 64.4+ MB\n"
     ]
    }
   ],
   "source": [
    "df.info()"
   ]
  },
  {
   "cell_type": "markdown",
   "metadata": {
    "_cell_guid": "42947040-a31a-73c4-2976-0675d8b874a4",
    "_uuid": "c8bbe1cb9da045adc552da279f504b97e776705e"
   },
   "source": [
    "It seems that most of our remaining Null values fall into four groups: \n",
    "\n",
    "    1) DebtToIncomeRatio, which strikes me as a potentially very useful feature. Let's take a look at what's going on there and do our best to reconstruct or substitute the missing values.\n",
    "    2) ScorexChangeAtTimeOfListing, which is the difference between the borrower's credit score when it was reviewed for this loan, versus the score last time they took a Prosper loan. We'll have to think about how we can deal with that, because it's an interesting potential feature.\n",
    "    2) Data dealing with the debtor's Prosper history, which we can fill with 0s to represent a lack of such history.\n",
    "    3) LoanFirstDefaultedCycle, which we are actually going to drop entirely very shortly for reasons to be explained. "
   ]
  },
  {
   "cell_type": "code",
   "execution_count": 14,
   "metadata": {
    "_cell_guid": "2406f10b-aaae-2575-f789-7c7de5ff6b31",
    "_uuid": "0503b493e3ab7362610e91a10d99f26c2990d117",
    "execution": {
     "iopub.execute_input": "2022-11-22T19:17:36.178263Z",
     "iopub.status.busy": "2022-11-22T19:17:36.177742Z",
     "iopub.status.idle": "2022-11-22T19:17:36.250515Z",
     "shell.execute_reply": "2022-11-22T19:17:36.249883Z",
     "shell.execute_reply.started": "2022-11-22T19:17:36.178219Z"
    }
   },
   "outputs": [
    {
     "data": {
      "text/html": [
       "<div>\n",
       "<style>\n",
       "    .dataframe thead tr:only-child th {\n",
       "        text-align: right;\n",
       "    }\n",
       "\n",
       "    .dataframe thead th {\n",
       "        text-align: left;\n",
       "    }\n",
       "\n",
       "    .dataframe tbody tr th {\n",
       "        vertical-align: top;\n",
       "    }\n",
       "</style>\n",
       "<table border=\"1\" class=\"dataframe\">\n",
       "  <thead>\n",
       "    <tr style=\"text-align: right;\">\n",
       "      <th></th>\n",
       "      <th>ListingKey</th>\n",
       "      <th>ListingNumber</th>\n",
       "      <th>ListingCreationDate</th>\n",
       "      <th>CreditGrade</th>\n",
       "      <th>Term</th>\n",
       "      <th>LoanStatus</th>\n",
       "      <th>ClosedDate</th>\n",
       "      <th>BorrowerAPR</th>\n",
       "      <th>BorrowerRate</th>\n",
       "      <th>LenderYield</th>\n",
       "      <th>EstimatedEffectiveYield</th>\n",
       "      <th>EstimatedLoss</th>\n",
       "      <th>EstimatedReturn</th>\n",
       "      <th>ProsperRating (numeric)</th>\n",
       "      <th>ProsperRating (Alpha)</th>\n",
       "      <th>ProsperScore</th>\n",
       "      <th>ListingCategory (numeric)</th>\n",
       "      <th>BorrowerState</th>\n",
       "      <th>Occupation</th>\n",
       "      <th>EmploymentStatus</th>\n",
       "      <th>EmploymentStatusDuration</th>\n",
       "      <th>IsBorrowerHomeowner</th>\n",
       "      <th>CurrentlyInGroup</th>\n",
       "      <th>GroupKey</th>\n",
       "      <th>DateCreditPulled</th>\n",
       "      <th>CreditScoreRangeLower</th>\n",
       "      <th>CreditScoreRangeUpper</th>\n",
       "      <th>FirstRecordedCreditLine</th>\n",
       "      <th>CurrentCreditLines</th>\n",
       "      <th>OpenCreditLines</th>\n",
       "      <th>TotalCreditLinespast7years</th>\n",
       "      <th>OpenRevolvingAccounts</th>\n",
       "      <th>OpenRevolvingMonthlyPayment</th>\n",
       "      <th>InquiriesLast6Months</th>\n",
       "      <th>TotalInquiries</th>\n",
       "      <th>CurrentDelinquencies</th>\n",
       "      <th>AmountDelinquent</th>\n",
       "      <th>DelinquenciesLast7Years</th>\n",
       "      <th>PublicRecordsLast10Years</th>\n",
       "      <th>PublicRecordsLast12Months</th>\n",
       "      <th>RevolvingCreditBalance</th>\n",
       "      <th>BankcardUtilization</th>\n",
       "      <th>AvailableBankcardCredit</th>\n",
       "      <th>TotalTrades</th>\n",
       "      <th>TradesNeverDelinquent (percentage)</th>\n",
       "      <th>TradesOpenedLast6Months</th>\n",
       "      <th>DebtToIncomeRatio</th>\n",
       "      <th>IncomeRange</th>\n",
       "      <th>IncomeVerifiable</th>\n",
       "      <th>StatedMonthlyIncome</th>\n",
       "      <th>LoanKey</th>\n",
       "      <th>TotalProsperLoans</th>\n",
       "      <th>TotalProsperPaymentsBilled</th>\n",
       "      <th>OnTimeProsperPayments</th>\n",
       "      <th>ProsperPaymentsLessThanOneMonthLate</th>\n",
       "      <th>ProsperPaymentsOneMonthPlusLate</th>\n",
       "      <th>ProsperPrincipalBorrowed</th>\n",
       "      <th>ProsperPrincipalOutstanding</th>\n",
       "      <th>ScorexChangeAtTimeOfListing</th>\n",
       "      <th>LoanCurrentDaysDelinquent</th>\n",
       "      <th>LoanFirstDefaultedCycleNumber</th>\n",
       "      <th>LoanMonthsSinceOrigination</th>\n",
       "      <th>LoanNumber</th>\n",
       "      <th>LoanOriginalAmount</th>\n",
       "      <th>LoanOriginationDate</th>\n",
       "      <th>LoanOriginationQuarter</th>\n",
       "      <th>MemberKey</th>\n",
       "      <th>MonthlyLoanPayment</th>\n",
       "      <th>LP_CustomerPayments</th>\n",
       "      <th>LP_CustomerPrincipalPayments</th>\n",
       "      <th>LP_InterestandFees</th>\n",
       "      <th>LP_ServiceFees</th>\n",
       "      <th>LP_CollectionFees</th>\n",
       "      <th>LP_GrossPrincipalLoss</th>\n",
       "      <th>LP_NetPrincipalLoss</th>\n",
       "      <th>LP_NonPrincipalRecoverypayments</th>\n",
       "      <th>PercentFunded</th>\n",
       "      <th>Recommendations</th>\n",
       "      <th>InvestmentFromFriendsCount</th>\n",
       "      <th>InvestmentFromFriendsAmount</th>\n",
       "      <th>Investors</th>\n",
       "    </tr>\n",
       "  </thead>\n",
       "  <tbody>\n",
       "    <tr>\n",
       "      <th>40</th>\n",
       "      <td>10A43601079743929992413</td>\n",
       "      <td>1167746</td>\n",
       "      <td>2014-01-27 12:02:57.523000000</td>\n",
       "      <td>Unknown</td>\n",
       "      <td>60</td>\n",
       "      <td>Current</td>\n",
       "      <td>Unknown</td>\n",
       "      <td>0.19630</td>\n",
       "      <td>0.1725</td>\n",
       "      <td>0.1625</td>\n",
       "      <td>0.15163</td>\n",
       "      <td>0.0724</td>\n",
       "      <td>0.07923</td>\n",
       "      <td>4.0</td>\n",
       "      <td>C</td>\n",
       "      <td>4.0</td>\n",
       "      <td>1</td>\n",
       "      <td>WA</td>\n",
       "      <td>Other</td>\n",
       "      <td>Self-employed</td>\n",
       "      <td>276.0</td>\n",
       "      <td>False</td>\n",
       "      <td>False</td>\n",
       "      <td>Unknown</td>\n",
       "      <td>2014-01-25 10:47:25</td>\n",
       "      <td>680.0</td>\n",
       "      <td>699.0</td>\n",
       "      <td>1985-12-20 00:00:00</td>\n",
       "      <td>10.0</td>\n",
       "      <td>9.0</td>\n",
       "      <td>28.0</td>\n",
       "      <td>10</td>\n",
       "      <td>1233.0</td>\n",
       "      <td>0.0</td>\n",
       "      <td>2.0</td>\n",
       "      <td>0.0</td>\n",
       "      <td>0.0</td>\n",
       "      <td>0.0</td>\n",
       "      <td>0.0</td>\n",
       "      <td>0.0</td>\n",
       "      <td>61284.0</td>\n",
       "      <td>0.46</td>\n",
       "      <td>69166.0</td>\n",
       "      <td>28.0</td>\n",
       "      <td>1.00</td>\n",
       "      <td>2.0</td>\n",
       "      <td>NaN</td>\n",
       "      <td>$100,000+</td>\n",
       "      <td>False</td>\n",
       "      <td>12750.0</td>\n",
       "      <td>91A33705770133108E299C1</td>\n",
       "      <td>NaN</td>\n",
       "      <td>NaN</td>\n",
       "      <td>NaN</td>\n",
       "      <td>NaN</td>\n",
       "      <td>NaN</td>\n",
       "      <td>NaN</td>\n",
       "      <td>NaN</td>\n",
       "      <td>NaN</td>\n",
       "      <td>0</td>\n",
       "      <td>NaN</td>\n",
       "      <td>2</td>\n",
       "      <td>129161</td>\n",
       "      <td>15000</td>\n",
       "      <td>2014-01-29 00:00:00</td>\n",
       "      <td>Q1 2014</td>\n",
       "      <td>ACFF370458072043753CE79</td>\n",
       "      <td>374.81</td>\n",
       "      <td>374.8100</td>\n",
       "      <td>162.14</td>\n",
       "      <td>212.6700</td>\n",
       "      <td>-12.33</td>\n",
       "      <td>0.00</td>\n",
       "      <td>0.00</td>\n",
       "      <td>0.00</td>\n",
       "      <td>0.0</td>\n",
       "      <td>1.0</td>\n",
       "      <td>0</td>\n",
       "      <td>0</td>\n",
       "      <td>0.0</td>\n",
       "      <td>3</td>\n",
       "    </tr>\n",
       "    <tr>\n",
       "      <th>69</th>\n",
       "      <td>0F37360159310530849DA23</td>\n",
       "      <td>1162592</td>\n",
       "      <td>2014-01-25 12:07:54.537000000</td>\n",
       "      <td>Unknown</td>\n",
       "      <td>60</td>\n",
       "      <td>Current</td>\n",
       "      <td>Unknown</td>\n",
       "      <td>0.13636</td>\n",
       "      <td>0.1139</td>\n",
       "      <td>0.1039</td>\n",
       "      <td>0.09989</td>\n",
       "      <td>0.0349</td>\n",
       "      <td>0.06499</td>\n",
       "      <td>6.0</td>\n",
       "      <td>A</td>\n",
       "      <td>11.0</td>\n",
       "      <td>1</td>\n",
       "      <td>IL</td>\n",
       "      <td>Investor</td>\n",
       "      <td>Self-employed</td>\n",
       "      <td>12.0</td>\n",
       "      <td>True</td>\n",
       "      <td>True</td>\n",
       "      <td>Unknown</td>\n",
       "      <td>2014-01-25 11:51:41</td>\n",
       "      <td>700.0</td>\n",
       "      <td>719.0</td>\n",
       "      <td>1995-08-01 00:00:00</td>\n",
       "      <td>5.0</td>\n",
       "      <td>5.0</td>\n",
       "      <td>21.0</td>\n",
       "      <td>3</td>\n",
       "      <td>373.0</td>\n",
       "      <td>0.0</td>\n",
       "      <td>2.0</td>\n",
       "      <td>0.0</td>\n",
       "      <td>0.0</td>\n",
       "      <td>0.0</td>\n",
       "      <td>0.0</td>\n",
       "      <td>0.0</td>\n",
       "      <td>19961.0</td>\n",
       "      <td>0.79</td>\n",
       "      <td>5039.0</td>\n",
       "      <td>21.0</td>\n",
       "      <td>1.00</td>\n",
       "      <td>0.0</td>\n",
       "      <td>NaN</td>\n",
       "      <td>$25,000-49,999</td>\n",
       "      <td>False</td>\n",
       "      <td>2700.0</td>\n",
       "      <td>B08137048491184083D747A</td>\n",
       "      <td>3.0</td>\n",
       "      <td>16.0</td>\n",
       "      <td>16.0</td>\n",
       "      <td>0.0</td>\n",
       "      <td>0.0</td>\n",
       "      <td>7861.0</td>\n",
       "      <td>0.02</td>\n",
       "      <td>NaN</td>\n",
       "      <td>0</td>\n",
       "      <td>NaN</td>\n",
       "      <td>2</td>\n",
       "      <td>128889</td>\n",
       "      <td>9000</td>\n",
       "      <td>2014-01-29 00:00:00</td>\n",
       "      <td>Q1 2014</td>\n",
       "      <td>87D0340317005703964722E</td>\n",
       "      <td>197.44</td>\n",
       "      <td>194.6315</td>\n",
       "      <td>115.99</td>\n",
       "      <td>78.6415</td>\n",
       "      <td>-7.15</td>\n",
       "      <td>0.00</td>\n",
       "      <td>0.00</td>\n",
       "      <td>0.00</td>\n",
       "      <td>0.0</td>\n",
       "      <td>1.0</td>\n",
       "      <td>0</td>\n",
       "      <td>0</td>\n",
       "      <td>0.0</td>\n",
       "      <td>1</td>\n",
       "    </tr>\n",
       "    <tr>\n",
       "      <th>78</th>\n",
       "      <td>0DFE3425061927556BB8A75</td>\n",
       "      <td>359657</td>\n",
       "      <td>2008-06-29 23:23:40.157000000</td>\n",
       "      <td>A</td>\n",
       "      <td>36</td>\n",
       "      <td>Chargedoff</td>\n",
       "      <td>2009-04-09 00:00:00</td>\n",
       "      <td>0.18454</td>\n",
       "      <td>0.1700</td>\n",
       "      <td>0.1600</td>\n",
       "      <td>0.15085</td>\n",
       "      <td>0.0724</td>\n",
       "      <td>0.07845</td>\n",
       "      <td>4.0</td>\n",
       "      <td>Unknown</td>\n",
       "      <td>6.0</td>\n",
       "      <td>3</td>\n",
       "      <td>CA</td>\n",
       "      <td>Realtor</td>\n",
       "      <td>Full-time</td>\n",
       "      <td>68.0</td>\n",
       "      <td>True</td>\n",
       "      <td>False</td>\n",
       "      <td>Unknown</td>\n",
       "      <td>2008-06-29 23:13:04.860000000</td>\n",
       "      <td>720.0</td>\n",
       "      <td>739.0</td>\n",
       "      <td>1995-11-29 00:00:00</td>\n",
       "      <td>14.0</td>\n",
       "      <td>14.0</td>\n",
       "      <td>26.0</td>\n",
       "      <td>9</td>\n",
       "      <td>962.0</td>\n",
       "      <td>4.0</td>\n",
       "      <td>11.0</td>\n",
       "      <td>0.0</td>\n",
       "      <td>0.0</td>\n",
       "      <td>0.0</td>\n",
       "      <td>0.0</td>\n",
       "      <td>0.0</td>\n",
       "      <td>33572.0</td>\n",
       "      <td>0.73</td>\n",
       "      <td>9355.0</td>\n",
       "      <td>24.0</td>\n",
       "      <td>1.00</td>\n",
       "      <td>1.0</td>\n",
       "      <td>NaN</td>\n",
       "      <td>$0</td>\n",
       "      <td>False</td>\n",
       "      <td>0.0</td>\n",
       "      <td>B8483424568930207C77772</td>\n",
       "      <td>1.0</td>\n",
       "      <td>6.0</td>\n",
       "      <td>6.0</td>\n",
       "      <td>0.0</td>\n",
       "      <td>0.0</td>\n",
       "      <td>7750.0</td>\n",
       "      <td>6725.84</td>\n",
       "      <td>0.0</td>\n",
       "      <td>1918</td>\n",
       "      <td>9.0</td>\n",
       "      <td>68</td>\n",
       "      <td>33852</td>\n",
       "      <td>4800</td>\n",
       "      <td>2008-07-08 00:00:00</td>\n",
       "      <td>Q3 2008</td>\n",
       "      <td>D77734052911579724BCDD5</td>\n",
       "      <td>171.13</td>\n",
       "      <td>684.5200</td>\n",
       "      <td>418.38</td>\n",
       "      <td>266.1400</td>\n",
       "      <td>-15.66</td>\n",
       "      <td>0.00</td>\n",
       "      <td>4381.62</td>\n",
       "      <td>4381.62</td>\n",
       "      <td>0.0</td>\n",
       "      <td>1.0</td>\n",
       "      <td>0</td>\n",
       "      <td>0</td>\n",
       "      <td>0.0</td>\n",
       "      <td>115</td>\n",
       "    </tr>\n",
       "    <tr>\n",
       "      <th>100</th>\n",
       "      <td>0F67356860455769574096F</td>\n",
       "      <td>704916</td>\n",
       "      <td>2013-01-25 11:48:26.040000000</td>\n",
       "      <td>Unknown</td>\n",
       "      <td>36</td>\n",
       "      <td>Chargedoff</td>\n",
       "      <td>2013-08-30 00:00:00</td>\n",
       "      <td>0.35356</td>\n",
       "      <td>0.3134</td>\n",
       "      <td>0.3034</td>\n",
       "      <td>0.27600</td>\n",
       "      <td>0.1575</td>\n",
       "      <td>0.11850</td>\n",
       "      <td>1.0</td>\n",
       "      <td>HR</td>\n",
       "      <td>3.0</td>\n",
       "      <td>13</td>\n",
       "      <td>CA</td>\n",
       "      <td>Other</td>\n",
       "      <td>Not employed</td>\n",
       "      <td>12.0</td>\n",
       "      <td>False</td>\n",
       "      <td>False</td>\n",
       "      <td>Unknown</td>\n",
       "      <td>2013-01-11 12:10:13</td>\n",
       "      <td>720.0</td>\n",
       "      <td>739.0</td>\n",
       "      <td>2000-09-10 00:00:00</td>\n",
       "      <td>3.0</td>\n",
       "      <td>3.0</td>\n",
       "      <td>10.0</td>\n",
       "      <td>3</td>\n",
       "      <td>56.0</td>\n",
       "      <td>0.0</td>\n",
       "      <td>2.0</td>\n",
       "      <td>0.0</td>\n",
       "      <td>0.0</td>\n",
       "      <td>0.0</td>\n",
       "      <td>0.0</td>\n",
       "      <td>0.0</td>\n",
       "      <td>5641.0</td>\n",
       "      <td>0.22</td>\n",
       "      <td>19359.0</td>\n",
       "      <td>4.0</td>\n",
       "      <td>1.00</td>\n",
       "      <td>1.0</td>\n",
       "      <td>NaN</td>\n",
       "      <td>Not employed</td>\n",
       "      <td>False</td>\n",
       "      <td>0.0</td>\n",
       "      <td>9D203674230576864DAB261</td>\n",
       "      <td>1.0</td>\n",
       "      <td>11.0</td>\n",
       "      <td>7.0</td>\n",
       "      <td>4.0</td>\n",
       "      <td>0.0</td>\n",
       "      <td>5000.0</td>\n",
       "      <td>3802.10</td>\n",
       "      <td>-47.0</td>\n",
       "      <td>314</td>\n",
       "      <td>7.0</td>\n",
       "      <td>14</td>\n",
       "      <td>82947</td>\n",
       "      <td>4000</td>\n",
       "      <td>2013-01-30 00:00:00</td>\n",
       "      <td>Q1 2013</td>\n",
       "      <td>CEE83539008163122ED9B62</td>\n",
       "      <td>172.76</td>\n",
       "      <td>345.5200</td>\n",
       "      <td>144.77</td>\n",
       "      <td>200.7500</td>\n",
       "      <td>-6.41</td>\n",
       "      <td>0.00</td>\n",
       "      <td>3855.23</td>\n",
       "      <td>3855.23</td>\n",
       "      <td>0.0</td>\n",
       "      <td>1.0</td>\n",
       "      <td>0</td>\n",
       "      <td>0</td>\n",
       "      <td>0.0</td>\n",
       "      <td>73</td>\n",
       "    </tr>\n",
       "    <tr>\n",
       "      <th>103</th>\n",
       "      <td>0F843543787869030F017F8</td>\n",
       "      <td>579737</td>\n",
       "      <td>2012-04-17 11:58:52.270000000</td>\n",
       "      <td>Unknown</td>\n",
       "      <td>36</td>\n",
       "      <td>Chargedoff</td>\n",
       "      <td>2013-03-22 00:00:00</td>\n",
       "      <td>0.26681</td>\n",
       "      <td>0.2287</td>\n",
       "      <td>0.2187</td>\n",
       "      <td>0.21340</td>\n",
       "      <td>0.0990</td>\n",
       "      <td>0.11440</td>\n",
       "      <td>3.0</td>\n",
       "      <td>D</td>\n",
       "      <td>2.0</td>\n",
       "      <td>3</td>\n",
       "      <td>CO</td>\n",
       "      <td>Truck Driver</td>\n",
       "      <td>Self-employed</td>\n",
       "      <td>29.0</td>\n",
       "      <td>True</td>\n",
       "      <td>False</td>\n",
       "      <td>Unknown</td>\n",
       "      <td>2012-04-17 11:58:46</td>\n",
       "      <td>680.0</td>\n",
       "      <td>699.0</td>\n",
       "      <td>1993-10-26 00:00:00</td>\n",
       "      <td>9.0</td>\n",
       "      <td>7.0</td>\n",
       "      <td>21.0</td>\n",
       "      <td>1</td>\n",
       "      <td>699.0</td>\n",
       "      <td>0.0</td>\n",
       "      <td>0.0</td>\n",
       "      <td>0.0</td>\n",
       "      <td>0.0</td>\n",
       "      <td>0.0</td>\n",
       "      <td>0.0</td>\n",
       "      <td>0.0</td>\n",
       "      <td>28228.0</td>\n",
       "      <td>0.98</td>\n",
       "      <td>502.0</td>\n",
       "      <td>18.0</td>\n",
       "      <td>0.77</td>\n",
       "      <td>0.0</td>\n",
       "      <td>NaN</td>\n",
       "      <td>$50,000-74,999</td>\n",
       "      <td>False</td>\n",
       "      <td>5000.0</td>\n",
       "      <td>3AB03648859759387133670</td>\n",
       "      <td>1.0</td>\n",
       "      <td>29.0</td>\n",
       "      <td>28.0</td>\n",
       "      <td>1.0</td>\n",
       "      <td>0.0</td>\n",
       "      <td>15000.0</td>\n",
       "      <td>3813.03</td>\n",
       "      <td>-94.0</td>\n",
       "      <td>384</td>\n",
       "      <td>12.0</td>\n",
       "      <td>23</td>\n",
       "      <td>63925</td>\n",
       "      <td>15000</td>\n",
       "      <td>2012-04-19 00:00:00</td>\n",
       "      <td>Q2 2012</td>\n",
       "      <td>F11E34621201188152DD3DA</td>\n",
       "      <td>579.63</td>\n",
       "      <td>3968.8900</td>\n",
       "      <td>1119.05</td>\n",
       "      <td>2849.8400</td>\n",
       "      <td>-49.41</td>\n",
       "      <td>-813.65</td>\n",
       "      <td>13880.95</td>\n",
       "      <td>13880.95</td>\n",
       "      <td>1600.0</td>\n",
       "      <td>1.0</td>\n",
       "      <td>0</td>\n",
       "      <td>0</td>\n",
       "      <td>0.0</td>\n",
       "      <td>21</td>\n",
       "    </tr>\n",
       "  </tbody>\n",
       "</table>\n",
       "</div>"
      ],
      "text/plain": [
       "                  ListingKey  ListingNumber            ListingCreationDate  \\\n",
       "40   10A43601079743929992413        1167746  2014-01-27 12:02:57.523000000   \n",
       "69   0F37360159310530849DA23        1162592  2014-01-25 12:07:54.537000000   \n",
       "78   0DFE3425061927556BB8A75         359657  2008-06-29 23:23:40.157000000   \n",
       "100  0F67356860455769574096F         704916  2013-01-25 11:48:26.040000000   \n",
       "103  0F843543787869030F017F8         579737  2012-04-17 11:58:52.270000000   \n",
       "\n",
       "    CreditGrade  Term  LoanStatus           ClosedDate  BorrowerAPR  \\\n",
       "40      Unknown    60     Current              Unknown      0.19630   \n",
       "69      Unknown    60     Current              Unknown      0.13636   \n",
       "78            A    36  Chargedoff  2009-04-09 00:00:00      0.18454   \n",
       "100     Unknown    36  Chargedoff  2013-08-30 00:00:00      0.35356   \n",
       "103     Unknown    36  Chargedoff  2013-03-22 00:00:00      0.26681   \n",
       "\n",
       "     BorrowerRate  LenderYield  EstimatedEffectiveYield  EstimatedLoss  \\\n",
       "40         0.1725       0.1625                  0.15163         0.0724   \n",
       "69         0.1139       0.1039                  0.09989         0.0349   \n",
       "78         0.1700       0.1600                  0.15085         0.0724   \n",
       "100        0.3134       0.3034                  0.27600         0.1575   \n",
       "103        0.2287       0.2187                  0.21340         0.0990   \n",
       "\n",
       "     EstimatedReturn  ProsperRating (numeric) ProsperRating (Alpha)  \\\n",
       "40           0.07923                      4.0                     C   \n",
       "69           0.06499                      6.0                     A   \n",
       "78           0.07845                      4.0               Unknown   \n",
       "100          0.11850                      1.0                    HR   \n",
       "103          0.11440                      3.0                     D   \n",
       "\n",
       "     ProsperScore  ListingCategory (numeric) BorrowerState    Occupation  \\\n",
       "40            4.0                          1            WA         Other   \n",
       "69           11.0                          1            IL      Investor   \n",
       "78            6.0                          3            CA       Realtor   \n",
       "100           3.0                         13            CA         Other   \n",
       "103           2.0                          3            CO  Truck Driver   \n",
       "\n",
       "    EmploymentStatus  EmploymentStatusDuration  IsBorrowerHomeowner  \\\n",
       "40     Self-employed                     276.0                False   \n",
       "69     Self-employed                      12.0                 True   \n",
       "78         Full-time                      68.0                 True   \n",
       "100     Not employed                      12.0                False   \n",
       "103    Self-employed                      29.0                 True   \n",
       "\n",
       "     CurrentlyInGroup GroupKey               DateCreditPulled  \\\n",
       "40              False  Unknown            2014-01-25 10:47:25   \n",
       "69               True  Unknown            2014-01-25 11:51:41   \n",
       "78              False  Unknown  2008-06-29 23:13:04.860000000   \n",
       "100             False  Unknown            2013-01-11 12:10:13   \n",
       "103             False  Unknown            2012-04-17 11:58:46   \n",
       "\n",
       "     CreditScoreRangeLower  CreditScoreRangeUpper FirstRecordedCreditLine  \\\n",
       "40                   680.0                  699.0     1985-12-20 00:00:00   \n",
       "69                   700.0                  719.0     1995-08-01 00:00:00   \n",
       "78                   720.0                  739.0     1995-11-29 00:00:00   \n",
       "100                  720.0                  739.0     2000-09-10 00:00:00   \n",
       "103                  680.0                  699.0     1993-10-26 00:00:00   \n",
       "\n",
       "     CurrentCreditLines  OpenCreditLines  TotalCreditLinespast7years  \\\n",
       "40                 10.0              9.0                        28.0   \n",
       "69                  5.0              5.0                        21.0   \n",
       "78                 14.0             14.0                        26.0   \n",
       "100                 3.0              3.0                        10.0   \n",
       "103                 9.0              7.0                        21.0   \n",
       "\n",
       "     OpenRevolvingAccounts  OpenRevolvingMonthlyPayment  InquiriesLast6Months  \\\n",
       "40                      10                       1233.0                   0.0   \n",
       "69                       3                        373.0                   0.0   \n",
       "78                       9                        962.0                   4.0   \n",
       "100                      3                         56.0                   0.0   \n",
       "103                      1                        699.0                   0.0   \n",
       "\n",
       "     TotalInquiries  CurrentDelinquencies  AmountDelinquent  \\\n",
       "40              2.0                   0.0               0.0   \n",
       "69              2.0                   0.0               0.0   \n",
       "78             11.0                   0.0               0.0   \n",
       "100             2.0                   0.0               0.0   \n",
       "103             0.0                   0.0               0.0   \n",
       "\n",
       "     DelinquenciesLast7Years  PublicRecordsLast10Years  \\\n",
       "40                       0.0                       0.0   \n",
       "69                       0.0                       0.0   \n",
       "78                       0.0                       0.0   \n",
       "100                      0.0                       0.0   \n",
       "103                      0.0                       0.0   \n",
       "\n",
       "     PublicRecordsLast12Months  RevolvingCreditBalance  BankcardUtilization  \\\n",
       "40                         0.0                 61284.0                 0.46   \n",
       "69                         0.0                 19961.0                 0.79   \n",
       "78                         0.0                 33572.0                 0.73   \n",
       "100                        0.0                  5641.0                 0.22   \n",
       "103                        0.0                 28228.0                 0.98   \n",
       "\n",
       "     AvailableBankcardCredit  TotalTrades  TradesNeverDelinquent (percentage)  \\\n",
       "40                   69166.0         28.0                                1.00   \n",
       "69                    5039.0         21.0                                1.00   \n",
       "78                    9355.0         24.0                                1.00   \n",
       "100                  19359.0          4.0                                1.00   \n",
       "103                    502.0         18.0                                0.77   \n",
       "\n",
       "     TradesOpenedLast6Months  DebtToIncomeRatio     IncomeRange  \\\n",
       "40                       2.0                NaN       $100,000+   \n",
       "69                       0.0                NaN  $25,000-49,999   \n",
       "78                       1.0                NaN              $0   \n",
       "100                      1.0                NaN    Not employed   \n",
       "103                      0.0                NaN  $50,000-74,999   \n",
       "\n",
       "     IncomeVerifiable  StatedMonthlyIncome                  LoanKey  \\\n",
       "40              False              12750.0  91A33705770133108E299C1   \n",
       "69              False               2700.0  B08137048491184083D747A   \n",
       "78              False                  0.0  B8483424568930207C77772   \n",
       "100             False                  0.0  9D203674230576864DAB261   \n",
       "103             False               5000.0  3AB03648859759387133670   \n",
       "\n",
       "     TotalProsperLoans  TotalProsperPaymentsBilled  OnTimeProsperPayments  \\\n",
       "40                 NaN                         NaN                    NaN   \n",
       "69                 3.0                        16.0                   16.0   \n",
       "78                 1.0                         6.0                    6.0   \n",
       "100                1.0                        11.0                    7.0   \n",
       "103                1.0                        29.0                   28.0   \n",
       "\n",
       "     ProsperPaymentsLessThanOneMonthLate  ProsperPaymentsOneMonthPlusLate  \\\n",
       "40                                   NaN                              NaN   \n",
       "69                                   0.0                              0.0   \n",
       "78                                   0.0                              0.0   \n",
       "100                                  4.0                              0.0   \n",
       "103                                  1.0                              0.0   \n",
       "\n",
       "     ProsperPrincipalBorrowed  ProsperPrincipalOutstanding  \\\n",
       "40                        NaN                          NaN   \n",
       "69                     7861.0                         0.02   \n",
       "78                     7750.0                      6725.84   \n",
       "100                    5000.0                      3802.10   \n",
       "103                   15000.0                      3813.03   \n",
       "\n",
       "     ScorexChangeAtTimeOfListing  LoanCurrentDaysDelinquent  \\\n",
       "40                           NaN                          0   \n",
       "69                           NaN                          0   \n",
       "78                           0.0                       1918   \n",
       "100                        -47.0                        314   \n",
       "103                        -94.0                        384   \n",
       "\n",
       "     LoanFirstDefaultedCycleNumber  LoanMonthsSinceOrigination  LoanNumber  \\\n",
       "40                             NaN                           2      129161   \n",
       "69                             NaN                           2      128889   \n",
       "78                             9.0                          68       33852   \n",
       "100                            7.0                          14       82947   \n",
       "103                           12.0                          23       63925   \n",
       "\n",
       "     LoanOriginalAmount  LoanOriginationDate LoanOriginationQuarter  \\\n",
       "40                15000  2014-01-29 00:00:00                Q1 2014   \n",
       "69                 9000  2014-01-29 00:00:00                Q1 2014   \n",
       "78                 4800  2008-07-08 00:00:00                Q3 2008   \n",
       "100                4000  2013-01-30 00:00:00                Q1 2013   \n",
       "103               15000  2012-04-19 00:00:00                Q2 2012   \n",
       "\n",
       "                   MemberKey  MonthlyLoanPayment  LP_CustomerPayments  \\\n",
       "40   ACFF370458072043753CE79              374.81             374.8100   \n",
       "69   87D0340317005703964722E              197.44             194.6315   \n",
       "78   D77734052911579724BCDD5              171.13             684.5200   \n",
       "100  CEE83539008163122ED9B62              172.76             345.5200   \n",
       "103  F11E34621201188152DD3DA              579.63            3968.8900   \n",
       "\n",
       "     LP_CustomerPrincipalPayments  LP_InterestandFees  LP_ServiceFees  \\\n",
       "40                         162.14            212.6700          -12.33   \n",
       "69                         115.99             78.6415           -7.15   \n",
       "78                         418.38            266.1400          -15.66   \n",
       "100                        144.77            200.7500           -6.41   \n",
       "103                       1119.05           2849.8400          -49.41   \n",
       "\n",
       "     LP_CollectionFees  LP_GrossPrincipalLoss  LP_NetPrincipalLoss  \\\n",
       "40                0.00                   0.00                 0.00   \n",
       "69                0.00                   0.00                 0.00   \n",
       "78                0.00                4381.62              4381.62   \n",
       "100               0.00                3855.23              3855.23   \n",
       "103            -813.65               13880.95             13880.95   \n",
       "\n",
       "     LP_NonPrincipalRecoverypayments  PercentFunded  Recommendations  \\\n",
       "40                               0.0            1.0                0   \n",
       "69                               0.0            1.0                0   \n",
       "78                               0.0            1.0                0   \n",
       "100                              0.0            1.0                0   \n",
       "103                           1600.0            1.0                0   \n",
       "\n",
       "     InvestmentFromFriendsCount  InvestmentFromFriendsAmount  Investors  \n",
       "40                            0                          0.0          3  \n",
       "69                            0                          0.0          1  \n",
       "78                            0                          0.0        115  \n",
       "100                           0                          0.0         73  \n",
       "103                           0                          0.0         21  "
      ]
     },
     "execution_count": 14,
     "metadata": {},
     "output_type": "execute_result"
    }
   ],
   "source": [
    "df_debt_income_null = df[df[\"DebtToIncomeRatio\"].isnull()]\n",
    "\n",
    "df_debt_income_null[:5]"
   ]
  },
  {
   "cell_type": "code",
   "execution_count": 15,
   "metadata": {
    "_cell_guid": "821caafb-52a0-3bcb-7be4-3c789b9a24e0",
    "_uuid": "343049cda00f93e2bfffb648bd038ee27933e917",
    "execution": {
     "iopub.execute_input": "2022-11-22T19:18:12.141505Z",
     "iopub.status.busy": "2022-11-22T19:18:12.141239Z",
     "iopub.status.idle": "2022-11-22T19:18:12.153474Z",
     "shell.execute_reply": "2022-11-22T19:18:12.152968Z",
     "shell.execute_reply.started": "2022-11-22T19:18:12.141466Z"
    }
   },
   "outputs": [
    {
     "data": {
      "text/plain": [
       "ListingKey                                   10A43601079743929992413\n",
       "ListingNumber                                                1167746\n",
       "ListingCreationDate                    2014-01-27 12:02:57.523000000\n",
       "CreditGrade                                                  Unknown\n",
       "Term                                                              60\n",
       "LoanStatus                                                   Current\n",
       "ClosedDate                                                   Unknown\n",
       "BorrowerAPR                                                   0.1963\n",
       "BorrowerRate                                                  0.1725\n",
       "LenderYield                                                   0.1625\n",
       "EstimatedEffectiveYield                                      0.15163\n",
       "EstimatedLoss                                                 0.0724\n",
       "EstimatedReturn                                              0.07923\n",
       "ProsperRating (numeric)                                            4\n",
       "ProsperRating (Alpha)                                              C\n",
       "ProsperScore                                                       4\n",
       "ListingCategory (numeric)                                          1\n",
       "BorrowerState                                                     WA\n",
       "Occupation                                                     Other\n",
       "EmploymentStatus                                       Self-employed\n",
       "EmploymentStatusDuration                                         276\n",
       "IsBorrowerHomeowner                                            False\n",
       "CurrentlyInGroup                                               False\n",
       "GroupKey                                                     Unknown\n",
       "DateCreditPulled                                 2014-01-25 10:47:25\n",
       "CreditScoreRangeLower                                            680\n",
       "CreditScoreRangeUpper                                            699\n",
       "FirstRecordedCreditLine                          1985-12-20 00:00:00\n",
       "CurrentCreditLines                                                10\n",
       "OpenCreditLines                                                    9\n",
       "                                                   ...              \n",
       "TotalProsperLoans                                                NaN\n",
       "TotalProsperPaymentsBilled                                       NaN\n",
       "OnTimeProsperPayments                                            NaN\n",
       "ProsperPaymentsLessThanOneMonthLate                              NaN\n",
       "ProsperPaymentsOneMonthPlusLate                                  NaN\n",
       "ProsperPrincipalBorrowed                                         NaN\n",
       "ProsperPrincipalOutstanding                                      NaN\n",
       "ScorexChangeAtTimeOfListing                                      NaN\n",
       "LoanCurrentDaysDelinquent                                          0\n",
       "LoanFirstDefaultedCycleNumber                                    NaN\n",
       "LoanMonthsSinceOrigination                                         2\n",
       "LoanNumber                                                    129161\n",
       "LoanOriginalAmount                                             15000\n",
       "LoanOriginationDate                              2014-01-29 00:00:00\n",
       "LoanOriginationQuarter                                       Q1 2014\n",
       "MemberKey                                    ACFF370458072043753CE79\n",
       "MonthlyLoanPayment                                            374.81\n",
       "LP_CustomerPayments                                           374.81\n",
       "LP_CustomerPrincipalPayments                                  162.14\n",
       "LP_InterestandFees                                            212.67\n",
       "LP_ServiceFees                                                -12.33\n",
       "LP_CollectionFees                                                  0\n",
       "LP_GrossPrincipalLoss                                              0\n",
       "LP_NetPrincipalLoss                                                0\n",
       "LP_NonPrincipalRecoverypayments                                    0\n",
       "PercentFunded                                                      1\n",
       "Recommendations                                                    0\n",
       "InvestmentFromFriendsCount                                         0\n",
       "InvestmentFromFriendsAmount                                        0\n",
       "Investors                                                          3\n",
       "Name: 40, Length: 81, dtype: object"
      ]
     },
     "execution_count": 15,
     "metadata": {},
     "output_type": "execute_result"
    }
   ],
   "source": [
    "df.loc[40]"
   ]
  },
  {
   "cell_type": "code",
   "execution_count": 16,
   "metadata": {
    "_cell_guid": "70664b9f-68e0-2175-4236-4b3cff1c9a55",
    "_uuid": "2c44fad9e7a85e4b4eb2c86778ab37632262749f",
    "execution": {
     "iopub.execute_input": "2022-11-22T19:18:25.293032Z",
     "iopub.status.busy": "2022-11-22T19:18:25.292548Z",
     "iopub.status.idle": "2022-11-22T19:18:25.297817Z",
     "shell.execute_reply": "2022-11-22T19:18:25.297383Z",
     "shell.execute_reply.started": "2022-11-22T19:18:25.292985Z"
    }
   },
   "outputs": [
    {
     "data": {
      "text/plain": [
       "(374.81, 12750.0)"
      ]
     },
     "execution_count": 16,
     "metadata": {},
     "output_type": "execute_result"
    }
   ],
   "source": [
    "df.loc[40, \"MonthlyLoanPayment\"], df.loc[40, \"StatedMonthlyIncome\"]"
   ]
  },
  {
   "cell_type": "markdown",
   "metadata": {
    "_cell_guid": "f2d326d3-e46c-b4ed-d813-2c56f8591ba5",
    "_uuid": "47b6a0eb3dd5060007fbeca0df5a19ea2e1f7726"
   },
   "source": [
    "This is bizarre, because this debtor has both debt and income data available. Let's take a look at some other cases."
   ]
  },
  {
   "cell_type": "code",
   "execution_count": 17,
   "metadata": {
    "_cell_guid": "9ac4fbf9-6851-865e-a3b6-06bfd55c6fcc",
    "_uuid": "58dcb34435da996a652c7614e164f6848288a91a",
    "execution": {
     "iopub.execute_input": "2022-11-22T19:18:35.002951Z",
     "iopub.status.busy": "2022-11-22T19:18:35.002430Z",
     "iopub.status.idle": "2022-11-22T19:18:35.019156Z",
     "shell.execute_reply": "2022-11-22T19:18:35.018402Z",
     "shell.execute_reply.started": "2022-11-22T19:18:35.002894Z"
    }
   },
   "outputs": [
    {
     "data": {
      "text/plain": [
       "(0, 0)"
      ]
     },
     "execution_count": 17,
     "metadata": {},
     "output_type": "execute_result"
    }
   ],
   "source": [
    "df_debt_income_null = df[df[\"DebtToIncomeRatio\"].isnull()]\n",
    "\n",
    "df_debt_income_null[\"MonthlyLoanPayment\"].isnull().sum(), df_debt_income_null[\"StatedMonthlyIncome\"].isnull().sum()"
   ]
  },
  {
   "cell_type": "markdown",
   "metadata": {
    "_cell_guid": "c6bc4cde-104b-e4ce-9382-ff938dd45628",
    "_uuid": "2da16be23e954b0eef8255bdf2bb2c0ce6c9d452"
   },
   "source": [
    "All of these data points have a monthly income and monthly loan payment. Maybe it has to do with income being verifiable?"
   ]
  },
  {
   "cell_type": "code",
   "execution_count": 18,
   "metadata": {
    "_cell_guid": "c916a78c-9796-6f65-ff16-cecb2f997dc4",
    "_uuid": "23d5f7de737d454f8de37d4afa4d85cc5f0fce82",
    "execution": {
     "iopub.execute_input": "2022-11-22T19:18:38.032087Z",
     "iopub.status.busy": "2022-11-22T19:18:38.031511Z",
     "iopub.status.idle": "2022-11-22T19:18:38.037700Z",
     "shell.execute_reply": "2022-11-22T19:18:38.037035Z",
     "shell.execute_reply.started": "2022-11-22T19:18:38.032042Z"
    }
   },
   "outputs": [
    {
     "data": {
      "text/plain": [
       "40     False\n",
       "69     False\n",
       "78     False\n",
       "100    False\n",
       "103    False\n",
       "105    False\n",
       "108    False\n",
       "125    False\n",
       "131    False\n",
       "170    False\n",
       "Name: IncomeVerifiable, dtype: bool"
      ]
     },
     "execution_count": 18,
     "metadata": {},
     "output_type": "execute_result"
    }
   ],
   "source": [
    "df_debt_income_null[\"IncomeVerifiable\"][:10]"
   ]
  },
  {
   "cell_type": "markdown",
   "metadata": {
    "_cell_guid": "969d29e1-b199-f0ba-cf06-ff4ad077af14",
    "_uuid": "a1849529909ac361a6eec9c098656ce6a7048932"
   },
   "source": [
    "There we have it. The question is thus how to treat these variables. I'm inclined to calculate the Debt to Income ratio based on the stated monthly income, and to allow verifiable income to work as a feature that quantifies the risk that that income is overstated."
   ]
  },
  {
   "cell_type": "code",
   "execution_count": 19,
   "metadata": {
    "_cell_guid": "b4cdcf1c-c0cb-a67f-4580-b0341b1ee4e4",
    "_uuid": "c8ad217ec0c272eab449fcaa26ea0f4621580d75",
    "execution": {
     "iopub.execute_input": "2022-11-22T19:18:40.600998Z",
     "iopub.status.busy": "2022-11-22T19:18:40.600501Z",
     "iopub.status.idle": "2022-11-22T19:18:40.629753Z",
     "shell.execute_reply": "2022-11-22T19:18:40.629126Z",
     "shell.execute_reply.started": "2022-11-22T19:18:40.600944Z"
    }
   },
   "outputs": [
    {
     "data": {
      "text/plain": [
       "0"
      ]
     },
     "execution_count": 19,
     "metadata": {},
     "output_type": "execute_result"
    }
   ],
   "source": [
    "#Calculate DebtToIncomeRatio for unverifiable incomes, adding $1 to account for $0/month incomes\n",
    "df[\"DebtToIncomeRatio\"].fillna(df[\"MonthlyLoanPayment\"] / (df[\"StatedMonthlyIncome\"] + 1), inplace = True)\n",
    "\n",
    "df[\"DebtToIncomeRatio\"].isnull().sum()"
   ]
  },
  {
   "cell_type": "markdown",
   "metadata": {
    "_cell_guid": "f8e0f7e1-ccd9-12c7-7061-7a71a5d66571",
    "_uuid": "e6cac271f71707d02849f2206f17ac47525a6d85"
   },
   "source": [
    "Now let's think about how to treat the change in credit score over time. It would be very interesting to see whether a rising or a falling credit score correlates with default. Unfortunately, because it relies on a history of borrowing with Prosper, most loans are missing a value here. Unlike the other Prosper history variables, it doesn't really make sense to replace the Null values with a 0, as that would assert that the score has been constant and mislead our investigation or our models. Similarly, replacing with a measure of central tendency could throw things off. I think that, unfortunately, the most conservative approach will be to drop the column entirely."
   ]
  },
  {
   "cell_type": "code",
   "execution_count": 20,
   "metadata": {
    "_cell_guid": "a32148bf-ebf3-5cf8-f4a5-0f1382d16cee",
    "_uuid": "5ebdac1ee6eb4a187344761304f9e1b14a786db6",
    "execution": {
     "iopub.execute_input": "2022-11-22T19:18:44.840727Z",
     "iopub.status.busy": "2022-11-22T19:18:44.840215Z",
     "iopub.status.idle": "2022-11-22T19:18:44.889550Z",
     "shell.execute_reply": "2022-11-22T19:18:44.888566Z",
     "shell.execute_reply.started": "2022-11-22T19:18:44.840673Z"
    }
   },
   "outputs": [],
   "source": [
    "df.drop(\"ScorexChangeAtTimeOfListing\", axis=1, inplace=True)"
   ]
  },
  {
   "cell_type": "markdown",
   "metadata": {
    "_cell_guid": "b96753a9-98b3-8815-2820-7836efe09ebd",
    "_uuid": "21162d827cbddf032460215254398050719c4b31"
   },
   "source": [
    "Now let's fill the missing Prosper histories with 0s."
   ]
  },
  {
   "cell_type": "code",
   "execution_count": 21,
   "metadata": {
    "_cell_guid": "0a0070fb-8910-bfad-9b96-83ca8878fe3f",
    "_uuid": "4a768a029ec1c04f288c0dbd074f5c2d7f817e29",
    "execution": {
     "iopub.execute_input": "2022-11-22T19:18:49.191761Z",
     "iopub.status.busy": "2022-11-22T19:18:49.191174Z",
     "iopub.status.idle": "2022-11-22T19:18:49.380614Z",
     "shell.execute_reply": "2022-11-22T19:18:49.379895Z",
     "shell.execute_reply.started": "2022-11-22T19:18:49.191695Z"
    }
   },
   "outputs": [
    {
     "data": {
      "text/plain": [
       "ListingKey                                 0\n",
       "ListingNumber                              0\n",
       "ListingCreationDate                        0\n",
       "CreditGrade                                0\n",
       "Term                                       0\n",
       "LoanStatus                                 0\n",
       "ClosedDate                                 0\n",
       "BorrowerAPR                                0\n",
       "BorrowerRate                               0\n",
       "LenderYield                                0\n",
       "EstimatedEffectiveYield                    0\n",
       "EstimatedLoss                              0\n",
       "EstimatedReturn                            0\n",
       "ProsperRating (numeric)                    0\n",
       "ProsperRating (Alpha)                      0\n",
       "ProsperScore                               0\n",
       "ListingCategory (numeric)                  0\n",
       "BorrowerState                              0\n",
       "Occupation                                 0\n",
       "EmploymentStatus                           0\n",
       "EmploymentStatusDuration                   0\n",
       "IsBorrowerHomeowner                        0\n",
       "CurrentlyInGroup                           0\n",
       "GroupKey                                   0\n",
       "DateCreditPulled                           0\n",
       "CreditScoreRangeLower                      0\n",
       "CreditScoreRangeUpper                      0\n",
       "FirstRecordedCreditLine                    0\n",
       "CurrentCreditLines                         0\n",
       "OpenCreditLines                            0\n",
       "                                       ...  \n",
       "LoanKey                                    0\n",
       "TotalProsperLoans                          0\n",
       "TotalProsperPaymentsBilled                 0\n",
       "OnTimeProsperPayments                      0\n",
       "ProsperPaymentsLessThanOneMonthLate        0\n",
       "ProsperPaymentsOneMonthPlusLate            0\n",
       "ProsperPrincipalBorrowed                   0\n",
       "ProsperPrincipalOutstanding                0\n",
       "LoanCurrentDaysDelinquent                  0\n",
       "LoanFirstDefaultedCycleNumber          92448\n",
       "LoanMonthsSinceOrigination                 0\n",
       "LoanNumber                                 0\n",
       "LoanOriginalAmount                         0\n",
       "LoanOriginationDate                        0\n",
       "LoanOriginationQuarter                     0\n",
       "MemberKey                                  0\n",
       "MonthlyLoanPayment                         0\n",
       "LP_CustomerPayments                        0\n",
       "LP_CustomerPrincipalPayments               0\n",
       "LP_InterestandFees                         0\n",
       "LP_ServiceFees                             0\n",
       "LP_CollectionFees                          0\n",
       "LP_GrossPrincipalLoss                      0\n",
       "LP_NetPrincipalLoss                        0\n",
       "LP_NonPrincipalRecoverypayments            0\n",
       "PercentFunded                              0\n",
       "Recommendations                            0\n",
       "InvestmentFromFriendsCount                 0\n",
       "InvestmentFromFriendsAmount                0\n",
       "Investors                                  0\n",
       "Length: 80, dtype: int64"
      ]
     },
     "execution_count": 21,
     "metadata": {},
     "output_type": "execute_result"
    }
   ],
   "source": [
    "prosper_vars = [\"TotalProsperLoans\",\"TotalProsperPaymentsBilled\", \"OnTimeProsperPayments\", \"ProsperPaymentsLessThanOneMonthLate\",\n",
    "                \"ProsperPaymentsOneMonthPlusLate\", \"ProsperPrincipalBorrowed\", \"ProsperPrincipalOutstanding\"]\n",
    "\n",
    "df[prosper_vars] = df[prosper_vars].fillna(0)\n",
    "\n",
    "df.isnull().sum()"
   ]
  },
  {
   "cell_type": "markdown",
   "metadata": {
    "_cell_guid": "518d0655-222b-88d2-0105-30d27365281c",
    "_uuid": "80e32e8c49dceb1f0f077c07a79e51628c717df6"
   },
   "source": [
    "### Dimensionality reduction: part 1 <a class=\"anchor\" id=\"reduce1\"></a>"
   ]
  },
  {
   "cell_type": "markdown",
   "metadata": {
    "_cell_guid": "58098f11-5cbd-75b9-853a-e5e0a6eb9756",
    "_uuid": "55508c087268f73eb7945ae192ef71037c4e1161"
   },
   "source": [
    "Now that we've dealt with Null values, at least for the time being, let's see if we can't quickly get rid of some extraneous information by dropping redundant or wholly irrelevant columns from the dataset. Let's begin with redundant administrative variables."
   ]
  },
  {
   "cell_type": "code",
   "execution_count": 22,
   "metadata": {
    "_cell_guid": "f468dbc9-888f-1122-e077-cc18f9e82239",
    "_uuid": "f9e324305cc54c5d97c3fc70211bb855f5009e86",
    "execution": {
     "iopub.execute_input": "2022-11-22T19:19:45.918409Z",
     "iopub.status.busy": "2022-11-22T19:19:45.918025Z",
     "iopub.status.idle": "2022-11-22T19:19:45.964676Z",
     "shell.execute_reply": "2022-11-22T19:19:45.964134Z",
     "shell.execute_reply.started": "2022-11-22T19:19:45.918372Z"
    }
   },
   "outputs": [],
   "source": [
    "df.drop([\"ListingKey\", \"ListingNumber\", \"LoanKey\", \"LoanNumber\"], axis=1, inplace=True)"
   ]
  },
  {
   "cell_type": "markdown",
   "metadata": {
    "_cell_guid": "23a80d66-8cc0-880e-a60f-858c1ad93cdf",
    "_uuid": "711ab07d113305ad2376ba5ab091025e5b26062d"
   },
   "source": [
    "There are a few other variables which could have useful information, but would necessitate a different analysis, so we will drop them too. For example, MemberKey could be used in an interesting inquiry into whether certain debtors are consistently mis-classed as risky or high-interest when in fact they consistently pay their loans back. Likewise, a time-series analysis would be very interesting: did defaults spike around the financial crisis, or do defaults become more common around Christmas? These are fascinating questions, but I think it will be better to stay focused and to drop variables like this which increase complexity unnecessarily."
   ]
  },
  {
   "cell_type": "code",
   "execution_count": 23,
   "metadata": {
    "_cell_guid": "b27a5186-516f-f267-b34d-a10346406ed5",
    "_uuid": "d8ea3cd4951534185f5a96581da5b1fa7e8d9346",
    "execution": {
     "iopub.execute_input": "2022-11-22T19:19:58.733717Z",
     "iopub.status.busy": "2022-11-22T19:19:58.733448Z",
     "iopub.status.idle": "2022-11-22T19:19:58.773654Z",
     "shell.execute_reply": "2022-11-22T19:19:58.773029Z",
     "shell.execute_reply.started": "2022-11-22T19:19:58.733678Z"
    }
   },
   "outputs": [],
   "source": [
    "df.drop([\"ListingCreationDate\", \"ClosedDate\", \"DateCreditPulled\", \"LoanOriginationDate\", \"LoanOriginationQuarter\", \"MemberKey\"],\n",
    "        axis=1, inplace=True)"
   ]
  },
  {
   "cell_type": "markdown",
   "metadata": {
    "_cell_guid": "059ef742-fa8a-bdbd-bb0f-213bb6d45adc",
    "_uuid": "0c5d760529cc73914994a28db43db0fe03ac7827"
   },
   "source": [
    "Similarly, there is a whole class of variables that describe the status of a loan at present, or the history of the loan. These are beyond the scope of this analysis. We will shortly lump delinquent loans in with defaults, and drop all loans that are current, and so, given our focus, certain columns (e.g. LoanCurrentDaysDelinquent) are irrelevant to us."
   ]
  },
  {
   "cell_type": "code",
   "execution_count": 24,
   "metadata": {
    "_cell_guid": "dbfc275b-f737-c810-e238-6e71f4f86dac",
    "_uuid": "0768055eea97d493cdc25f7f587aa6bf3ad60377",
    "execution": {
     "iopub.execute_input": "2022-11-22T19:20:10.233857Z",
     "iopub.status.busy": "2022-11-22T19:20:10.233347Z",
     "iopub.status.idle": "2022-11-22T19:20:10.263232Z",
     "shell.execute_reply": "2022-11-22T19:20:10.262709Z",
     "shell.execute_reply.started": "2022-11-22T19:20:10.233803Z"
    }
   },
   "outputs": [],
   "source": [
    "df.drop([\"LoanCurrentDaysDelinquent\", \"LoanFirstDefaultedCycleNumber\", \"LoanMonthsSinceOrigination\", \"LP_CustomerPayments\",\n",
    "         \"LP_CustomerPrincipalPayments\", \"LP_InterestandFees\", \"LP_ServiceFees\", \"LP_CollectionFees\", \"LP_GrossPrincipalLoss\",\n",
    "         \"LP_NetPrincipalLoss\", \"LP_NonPrincipalRecoverypayments\"], axis=1, inplace=True)"
   ]
  },
  {
   "cell_type": "markdown",
   "metadata": {
    "_cell_guid": "1a4d85cd-5135-54ba-4c9c-e3bb83fcf3c0",
    "_uuid": "da9c172d74509c34465787df5b1776ad50453934"
   },
   "source": [
    "Alright, now that we have gotten rid of a couple variables which won't be helpful to the analysis, let's make sure all of our missing values have been dealt with before turning our attention to historical loans exclusively, which will be most suitable to our purposes."
   ]
  },
  {
   "cell_type": "code",
   "execution_count": 25,
   "metadata": {
    "_cell_guid": "ff069cb7-cc77-111c-a9d1-34dd14c45997",
    "_uuid": "24c26f623ded7c75b5d2f6bf21a082aae8f935c5",
    "execution": {
     "iopub.execute_input": "2022-11-22T19:20:40.840452Z",
     "iopub.status.busy": "2022-11-22T19:20:40.839993Z",
     "iopub.status.idle": "2022-11-22T19:20:40.966710Z",
     "shell.execute_reply": "2022-11-22T19:20:40.966228Z",
     "shell.execute_reply.started": "2022-11-22T19:20:40.840416Z"
    }
   },
   "outputs": [
    {
     "name": "stdout",
     "output_type": "stream",
     "text": [
      "<class 'pandas.core.frame.DataFrame'>\n",
      "Int64Index: 106290 entries, 0 to 113936\n",
      "Data columns (total 59 columns):\n",
      "CreditGrade                            106290 non-null object\n",
      "Term                                   106290 non-null int64\n",
      "LoanStatus                             106290 non-null object\n",
      "BorrowerAPR                            106290 non-null float64\n",
      "BorrowerRate                           106290 non-null float64\n",
      "LenderYield                            106290 non-null float64\n",
      "EstimatedEffectiveYield                106290 non-null float64\n",
      "EstimatedLoss                          106290 non-null float64\n",
      "EstimatedReturn                        106290 non-null float64\n",
      "ProsperRating (numeric)                106290 non-null float64\n",
      "ProsperRating (Alpha)                  106290 non-null object\n",
      "ProsperScore                           106290 non-null float64\n",
      "ListingCategory (numeric)              106290 non-null int64\n",
      "BorrowerState                          106290 non-null object\n",
      "Occupation                             106290 non-null object\n",
      "EmploymentStatus                       106290 non-null object\n",
      "EmploymentStatusDuration               106290 non-null float64\n",
      "IsBorrowerHomeowner                    106290 non-null bool\n",
      "CurrentlyInGroup                       106290 non-null bool\n",
      "GroupKey                               106290 non-null object\n",
      "CreditScoreRangeLower                  106290 non-null float64\n",
      "CreditScoreRangeUpper                  106290 non-null float64\n",
      "FirstRecordedCreditLine                106290 non-null object\n",
      "CurrentCreditLines                     106290 non-null float64\n",
      "OpenCreditLines                        106290 non-null float64\n",
      "TotalCreditLinespast7years             106290 non-null float64\n",
      "OpenRevolvingAccounts                  106290 non-null int64\n",
      "OpenRevolvingMonthlyPayment            106290 non-null float64\n",
      "InquiriesLast6Months                   106290 non-null float64\n",
      "TotalInquiries                         106290 non-null float64\n",
      "CurrentDelinquencies                   106290 non-null float64\n",
      "AmountDelinquent                       106290 non-null float64\n",
      "DelinquenciesLast7Years                106290 non-null float64\n",
      "PublicRecordsLast10Years               106290 non-null float64\n",
      "PublicRecordsLast12Months              106290 non-null float64\n",
      "RevolvingCreditBalance                 106290 non-null float64\n",
      "BankcardUtilization                    106290 non-null float64\n",
      "AvailableBankcardCredit                106290 non-null float64\n",
      "TotalTrades                            106290 non-null float64\n",
      "TradesNeverDelinquent (percentage)     106290 non-null float64\n",
      "TradesOpenedLast6Months                106290 non-null float64\n",
      "DebtToIncomeRatio                      106290 non-null float64\n",
      "IncomeRange                            106290 non-null object\n",
      "IncomeVerifiable                       106290 non-null bool\n",
      "StatedMonthlyIncome                    106290 non-null float64\n",
      "TotalProsperLoans                      106290 non-null float64\n",
      "TotalProsperPaymentsBilled             106290 non-null float64\n",
      "OnTimeProsperPayments                  106290 non-null float64\n",
      "ProsperPaymentsLessThanOneMonthLate    106290 non-null float64\n",
      "ProsperPaymentsOneMonthPlusLate        106290 non-null float64\n",
      "ProsperPrincipalBorrowed               106290 non-null float64\n",
      "ProsperPrincipalOutstanding            106290 non-null float64\n",
      "LoanOriginalAmount                     106290 non-null int64\n",
      "MonthlyLoanPayment                     106290 non-null float64\n",
      "PercentFunded                          106290 non-null float64\n",
      "Recommendations                        106290 non-null int64\n",
      "InvestmentFromFriendsCount             106290 non-null int64\n",
      "InvestmentFromFriendsAmount            106290 non-null float64\n",
      "Investors                              106290 non-null int64\n",
      "dtypes: bool(3), float64(40), int64(7), object(9)\n",
      "memory usage: 51.5+ MB\n"
     ]
    }
   ],
   "source": [
    "df.info()"
   ]
  },
  {
   "cell_type": "markdown",
   "metadata": {
    "_cell_guid": "808492b6-9300-474e-2e3f-85a399448617",
    "_uuid": "dce194facb36a57eec9b3d6e98ea976ecbdf0d2b"
   },
   "source": [
    "### Focusing in on default <a class=\"anchor\" id=\"default\"></a>"
   ]
  },
  {
   "cell_type": "markdown",
   "metadata": {
    "_cell_guid": "2593718c-a13c-45a9-e59a-a9fd25a2c782",
    "_uuid": "25d360be2f1fd9c513cb84bba659e87377a0cda9"
   },
   "source": [
    "Let's investigate the data in relation to the real question: default. Let's first convert our LoanStatus variable into a binary variable excluding current loans, and visualize some of the relationships between default and other variables. "
   ]
  },
  {
   "cell_type": "code",
   "execution_count": 26,
   "metadata": {
    "_cell_guid": "7a3a8568-302e-5e2a-a5eb-f4f077956108",
    "_uuid": "dd5a1086f4697ccf6182630c146a20a1b2d9fd0c",
    "execution": {
     "iopub.execute_input": "2022-11-22T19:21:08.301671Z",
     "iopub.status.busy": "2022-11-22T19:21:08.301427Z",
     "iopub.status.idle": "2022-11-22T19:21:08.323674Z",
     "shell.execute_reply": "2022-11-22T19:21:08.322900Z",
     "shell.execute_reply.started": "2022-11-22T19:21:08.301637Z"
    }
   },
   "outputs": [
    {
     "data": {
      "text/plain": [
       "Current                   56566\n",
       "Completed                 33530\n",
       "Chargedoff                10632\n",
       "Defaulted                  3289\n",
       "Past Due (1-15 days)        806\n",
       "Past Due (31-60 days)       363\n",
       "Past Due (61-90 days)       313\n",
       "Past Due (91-120 days)      304\n",
       "Past Due (16-30 days)       265\n",
       "FinalPaymentInProgress      205\n",
       "Past Due (>120 days)         16\n",
       "Cancelled                     1\n",
       "Name: LoanStatus, dtype: int64"
      ]
     },
     "execution_count": 26,
     "metadata": {},
     "output_type": "execute_result"
    }
   ],
   "source": [
    "df[\"LoanStatus\"].value_counts()"
   ]
  },
  {
   "cell_type": "markdown",
   "metadata": {
    "_cell_guid": "6680a5a7-1b67-31e4-d61c-6b07d98a9d16",
    "_uuid": "74d634611c5c052dc9cee0b20a1f126704bedb41"
   },
   "source": [
    "What is really of interest to us is what distinguishes completed loans from defaulted loans. Because there is no way to tell whether \"current\" loans will eventually default or not, we can't use them for our analysis. Nearly half of the dataset is not useful to us, as the loans are still outstanding. In order to be conservative in our eventual estimates, to simplify the problem, and to retain data, let's assume all the \"past due\" and \"chargedoff\" loans (and that 1 cancellation) will default. Thus we'll be left with two classes: \"completed\" and \"defaulted\". Let's encode those binary outcomes as 1 and 0, respectively."
   ]
  },
  {
   "cell_type": "code",
   "execution_count": 27,
   "metadata": {
    "_cell_guid": "4c8a1eb3-98bf-931b-cbd2-af6e9f883dfb",
    "_uuid": "cf021805faac32abba3869dd8a68ffd28dc919b1",
    "execution": {
     "iopub.execute_input": "2022-11-22T19:22:50.415846Z",
     "iopub.status.busy": "2022-11-22T19:22:50.415371Z",
     "iopub.status.idle": "2022-11-22T19:22:50.448286Z",
     "shell.execute_reply": "2022-11-22T19:22:50.447654Z",
     "shell.execute_reply.started": "2022-11-22T19:22:50.415805Z"
    }
   },
   "outputs": [
    {
     "data": {
      "text/plain": [
       "Completed                 33530\n",
       "Chargedoff                10632\n",
       "Defaulted                  3289\n",
       "Past Due (1-15 days)        806\n",
       "Past Due (31-60 days)       363\n",
       "Past Due (61-90 days)       313\n",
       "Past Due (91-120 days)      304\n",
       "Past Due (16-30 days)       265\n",
       "FinalPaymentInProgress      205\n",
       "Past Due (>120 days)         16\n",
       "Cancelled                     1\n",
       "Name: LoanStatus, dtype: int64"
      ]
     },
     "execution_count": 27,
     "metadata": {},
     "output_type": "execute_result"
    }
   ],
   "source": [
    "#Remove outstanding loans\n",
    "\n",
    "df_historical = df[df[\"LoanStatus\"] != \"Current\"]\n",
    "\n",
    "df_historical[\"LoanStatus\"].value_counts()"
   ]
  },
  {
   "cell_type": "code",
   "execution_count": 28,
   "metadata": {
    "_cell_guid": "072d1d76-71b7-4c7a-87f8-225bb489212b",
    "_uuid": "4e1c9f493cd1bc143d48c03909a5b6888963e6d4",
    "execution": {
     "iopub.execute_input": "2022-11-22T19:33:55.661147Z",
     "iopub.status.busy": "2022-11-22T19:33:55.660891Z",
     "iopub.status.idle": "2022-11-22T19:33:55.724902Z",
     "shell.execute_reply": "2022-11-22T19:33:55.724299Z",
     "shell.execute_reply.started": "2022-11-22T19:33:55.661112Z"
    }
   },
   "outputs": [
    {
     "name": "stderr",
     "output_type": "stream",
     "text": [
      "/opt/conda/lib/python3.6/site-packages/ipykernel_launcher.py:3: SettingWithCopyWarning: \n",
      "A value is trying to be set on a copy of a slice from a DataFrame.\n",
      "Try using .loc[row_indexer,col_indexer] = value instead\n",
      "\n",
      "See the caveats in the documentation: http://pandas.pydata.org/pandas-docs/stable/indexing.html#indexing-view-versus-copy\n",
      "  This is separate from the ipykernel package so we can avoid doing imports until\n"
     ]
    },
    {
     "data": {
      "text/plain": [
       "0     1\n",
       "11    1\n",
       "12    0\n",
       "15    0\n",
       "21    1\n",
       "23    0\n",
       "26    1\n",
       "27    1\n",
       "30    1\n",
       "33    1\n",
       "Name: LoanStatus, dtype: int64"
      ]
     },
     "execution_count": 28,
     "metadata": {},
     "output_type": "execute_result"
    }
   ],
   "source": [
    "#Encode all completed loans as 1, and all delinquent, chargedoff, cancelled and defaulted loans as 0\n",
    "\n",
    "df_historical[\"LoanStatus\"] = (df_historical[\"LoanStatus\"] == \"Completed\").astype(int)\n",
    "\n",
    "df_historical[\"LoanStatus\"][:10]"
   ]
  },
  {
   "cell_type": "code",
   "execution_count": 29,
   "metadata": {
    "_cell_guid": "b645d9f2-f10d-5335-8fef-576e4ea40895",
    "_uuid": "5737948235e1fe4cef6e546ec43eb399ef7adb47",
    "execution": {
     "iopub.execute_input": "2022-11-22T19:34:17.323194Z",
     "iopub.status.busy": "2022-11-22T19:34:17.322665Z",
     "iopub.status.idle": "2022-11-22T19:34:18.181310Z",
     "shell.execute_reply": "2022-11-22T19:34:18.180666Z",
     "shell.execute_reply.started": "2022-11-22T19:34:17.323140Z"
    }
   },
   "outputs": [
    {
     "data": {
      "text/plain": [
       "(0, 1)"
      ]
     },
     "execution_count": 29,
     "metadata": {},
     "output_type": "execute_result"
    },
    {
     "data": {
      "image/png": "[encoded data removed]",
      "text/plain": [
       "<matplotlib.figure.Figure at 0x7fcc92792a20>"
      ]
     },
     "metadata": {},
     "output_type": "display_data"
    }
   ],
   "source": [
    "fig = plt.figure()\n",
    "\n",
    "ax1 = fig.add_subplot(221)\n",
    "sns.countplot(df_historical[\"LoanStatus\"])\n",
    "\n",
    "ax2 = fig.add_subplot(222)\n",
    "sns.barplot(y=df_historical[\"LoanStatus\"]).set_ylim([0,1])"
   ]
  },
  {
   "cell_type": "code",
   "execution_count": 30,
   "metadata": {
    "_cell_guid": "4fedf063-735a-fbc2-7a87-52397f577d27",
    "_uuid": "c90670740b4d3ecdc2e8f541556116724f006285",
    "execution": {
     "iopub.execute_input": "2022-11-22T19:34:26.381928Z",
     "iopub.status.busy": "2022-11-22T19:34:26.381517Z",
     "iopub.status.idle": "2022-11-22T19:34:26.386930Z",
     "shell.execute_reply": "2022-11-22T19:34:26.386154Z",
     "shell.execute_reply.started": "2022-11-22T19:34:26.381888Z"
    }
   },
   "outputs": [
    {
     "data": {
      "text/plain": [
       "(0.6743222588689567, 0.3256777411310433)"
      ]
     },
     "execution_count": 30,
     "metadata": {},
     "output_type": "execute_result"
    }
   ],
   "source": [
    "df_historical[\"LoanStatus\"].mean(), 1 - df_historical[\"LoanStatus\"].mean()"
   ]
  },
  {
   "cell_type": "markdown",
   "metadata": {
    "_cell_guid": "5ba93005-8537-9dbc-6d45-6ec343194475",
    "_uuid": "1bdad58856efe41e27079f331a52f5d40a6758d8"
   },
   "source": [
    "So, in the historical data as a whole, 67.43% of loans are completed. 32.57% of loans \"defaulted\". (During analysis, one should always bear in mind that default as we've defined it includes charge-offs, cancellations, and even any current loans with late payments. It might be more constructive to think of the loans labelled with a 0 as \"bad\" loans rather than outright \"defaults\")."
   ]
  },
  {
   "cell_type": "markdown",
   "metadata": {
    "_cell_guid": "dadfbfce-04be-8921-6ddc-a6cc1121007e",
    "_uuid": "18bf946500672282c835d481a4f655092e08845d"
   },
   "source": [
    "Let's take a look at our new historical dataframe and then start exploring variables' relationship with default, starting with some potentially useful categorical information."
   ]
  },
  {
   "cell_type": "code",
   "execution_count": 31,
   "metadata": {
    "_cell_guid": "b59d92ad-7f15-19d2-0e90-c1a59052d246",
    "_uuid": "dccff2cc3747916c5d3f57ef05432f69fe20a60c",
    "execution": {
     "iopub.execute_input": "2022-11-22T19:35:14.253995Z",
     "iopub.status.busy": "2022-11-22T19:35:14.253648Z",
     "iopub.status.idle": "2022-11-22T19:35:14.442221Z",
     "shell.execute_reply": "2022-11-22T19:35:14.441753Z",
     "shell.execute_reply.started": "2022-11-22T19:35:14.253942Z"
    }
   },
   "outputs": [
    {
     "data": {
      "text/html": [
       "<div>\n",
       "<style>\n",
       "    .dataframe thead tr:only-child th {\n",
       "        text-align: right;\n",
       "    }\n",
       "\n",
       "    .dataframe thead th {\n",
       "        text-align: left;\n",
       "    }\n",
       "\n",
       "    .dataframe tbody tr th {\n",
       "        vertical-align: top;\n",
       "    }\n",
       "</style>\n",
       "<table border=\"1\" class=\"dataframe\">\n",
       "  <thead>\n",
       "    <tr style=\"text-align: right;\">\n",
       "      <th></th>\n",
       "      <th>Term</th>\n",
       "      <th>LoanStatus</th>\n",
       "      <th>BorrowerAPR</th>\n",
       "      <th>BorrowerRate</th>\n",
       "      <th>LenderYield</th>\n",
       "      <th>EstimatedEffectiveYield</th>\n",
       "      <th>EstimatedLoss</th>\n",
       "      <th>EstimatedReturn</th>\n",
       "      <th>ProsperRating (numeric)</th>\n",
       "      <th>ProsperScore</th>\n",
       "      <th>ListingCategory (numeric)</th>\n",
       "      <th>EmploymentStatusDuration</th>\n",
       "      <th>CreditScoreRangeLower</th>\n",
       "      <th>CreditScoreRangeUpper</th>\n",
       "      <th>CurrentCreditLines</th>\n",
       "      <th>OpenCreditLines</th>\n",
       "      <th>TotalCreditLinespast7years</th>\n",
       "      <th>OpenRevolvingAccounts</th>\n",
       "      <th>OpenRevolvingMonthlyPayment</th>\n",
       "      <th>InquiriesLast6Months</th>\n",
       "      <th>TotalInquiries</th>\n",
       "      <th>CurrentDelinquencies</th>\n",
       "      <th>AmountDelinquent</th>\n",
       "      <th>DelinquenciesLast7Years</th>\n",
       "      <th>PublicRecordsLast10Years</th>\n",
       "      <th>PublicRecordsLast12Months</th>\n",
       "      <th>RevolvingCreditBalance</th>\n",
       "      <th>BankcardUtilization</th>\n",
       "      <th>AvailableBankcardCredit</th>\n",
       "      <th>TotalTrades</th>\n",
       "      <th>TradesNeverDelinquent (percentage)</th>\n",
       "      <th>TradesOpenedLast6Months</th>\n",
       "      <th>DebtToIncomeRatio</th>\n",
       "      <th>StatedMonthlyIncome</th>\n",
       "      <th>TotalProsperLoans</th>\n",
       "      <th>TotalProsperPaymentsBilled</th>\n",
       "      <th>OnTimeProsperPayments</th>\n",
       "      <th>ProsperPaymentsLessThanOneMonthLate</th>\n",
       "      <th>ProsperPaymentsOneMonthPlusLate</th>\n",
       "      <th>ProsperPrincipalBorrowed</th>\n",
       "      <th>ProsperPrincipalOutstanding</th>\n",
       "      <th>LoanOriginalAmount</th>\n",
       "      <th>MonthlyLoanPayment</th>\n",
       "      <th>PercentFunded</th>\n",
       "      <th>Recommendations</th>\n",
       "      <th>InvestmentFromFriendsCount</th>\n",
       "      <th>InvestmentFromFriendsAmount</th>\n",
       "      <th>Investors</th>\n",
       "    </tr>\n",
       "  </thead>\n",
       "  <tbody>\n",
       "    <tr>\n",
       "      <th>count</th>\n",
       "      <td>49724.000000</td>\n",
       "      <td>49724.000000</td>\n",
       "      <td>49724.000000</td>\n",
       "      <td>49724.000000</td>\n",
       "      <td>49724.000000</td>\n",
       "      <td>49724.000000</td>\n",
       "      <td>49724.000000</td>\n",
       "      <td>49724.000000</td>\n",
       "      <td>49724.000000</td>\n",
       "      <td>49724.000000</td>\n",
       "      <td>49724.000000</td>\n",
       "      <td>49724.000000</td>\n",
       "      <td>49724.000000</td>\n",
       "      <td>49724.000000</td>\n",
       "      <td>49724.000000</td>\n",
       "      <td>49724.000000</td>\n",
       "      <td>49724.000000</td>\n",
       "      <td>49724.000000</td>\n",
       "      <td>49724.000000</td>\n",
       "      <td>49724.000000</td>\n",
       "      <td>49724.000000</td>\n",
       "      <td>49724.000000</td>\n",
       "      <td>49724.000000</td>\n",
       "      <td>49724.000000</td>\n",
       "      <td>49724.000000</td>\n",
       "      <td>49724.000000</td>\n",
       "      <td>4.972400e+04</td>\n",
       "      <td>49724.000000</td>\n",
       "      <td>49724.000000</td>\n",
       "      <td>49724.000000</td>\n",
       "      <td>49724.000000</td>\n",
       "      <td>49724.000000</td>\n",
       "      <td>49724.000000</td>\n",
       "      <td>49724.000000</td>\n",
       "      <td>49724.000000</td>\n",
       "      <td>49724.000000</td>\n",
       "      <td>49724.000000</td>\n",
       "      <td>49724.000000</td>\n",
       "      <td>49724.000000</td>\n",
       "      <td>49724.000000</td>\n",
       "      <td>49724.000000</td>\n",
       "      <td>49724.000000</td>\n",
       "      <td>49724.000000</td>\n",
       "      <td>49724.000000</td>\n",
       "      <td>49724.000000</td>\n",
       "      <td>49724.000000</td>\n",
       "      <td>49724.000000</td>\n",
       "      <td>49724.00000</td>\n",
       "    </tr>\n",
       "    <tr>\n",
       "      <th>mean</th>\n",
       "      <td>37.383316</td>\n",
       "      <td>0.674322</td>\n",
       "      <td>0.227630</td>\n",
       "      <td>0.203470</td>\n",
       "      <td>0.193209</td>\n",
       "      <td>0.171487</td>\n",
       "      <td>0.084773</td>\n",
       "      <td>0.099849</td>\n",
       "      <td>3.795129</td>\n",
       "      <td>6.098906</td>\n",
       "      <td>2.846553</td>\n",
       "      <td>81.636172</td>\n",
       "      <td>682.712171</td>\n",
       "      <td>701.712171</td>\n",
       "      <td>9.586819</td>\n",
       "      <td>8.366242</td>\n",
       "      <td>25.789578</td>\n",
       "      <td>6.411210</td>\n",
       "      <td>347.684177</td>\n",
       "      <td>1.798287</td>\n",
       "      <td>6.556894</td>\n",
       "      <td>0.643914</td>\n",
       "      <td>1066.158435</td>\n",
       "      <td>4.143170</td>\n",
       "      <td>0.311178</td>\n",
       "      <td>0.023369</td>\n",
       "      <td>1.569520e+04</td>\n",
       "      <td>0.532345</td>\n",
       "      <td>10765.711789</td>\n",
       "      <td>21.844542</td>\n",
       "      <td>0.857704</td>\n",
       "      <td>0.907047</td>\n",
       "      <td>5.390154</td>\n",
       "      <td>5122.985416</td>\n",
       "      <td>0.301364</td>\n",
       "      <td>4.558624</td>\n",
       "      <td>4.412779</td>\n",
       "      <td>0.134040</td>\n",
       "      <td>0.011705</td>\n",
       "      <td>1617.444157</td>\n",
       "      <td>543.321921</td>\n",
       "      <td>6527.303495</td>\n",
       "      <td>232.774829</td>\n",
       "      <td>0.998274</td>\n",
       "      <td>0.099228</td>\n",
       "      <td>0.051022</td>\n",
       "      <td>37.083268</td>\n",
       "      <td>109.01818</td>\n",
       "    </tr>\n",
       "    <tr>\n",
       "      <th>std</th>\n",
       "      <td>8.200240</td>\n",
       "      <td>0.468632</td>\n",
       "      <td>0.089797</td>\n",
       "      <td>0.082468</td>\n",
       "      <td>0.082052</td>\n",
       "      <td>0.079151</td>\n",
       "      <td>0.042269</td>\n",
       "      <td>0.058222</td>\n",
       "      <td>1.365905</td>\n",
       "      <td>1.759049</td>\n",
       "      <td>3.595906</td>\n",
       "      <td>85.135799</td>\n",
       "      <td>66.713278</td>\n",
       "      <td>66.713278</td>\n",
       "      <td>5.570450</td>\n",
       "      <td>4.980212</td>\n",
       "      <td>14.263379</td>\n",
       "      <td>4.454619</td>\n",
       "      <td>450.554180</td>\n",
       "      <td>2.739781</td>\n",
       "      <td>7.182246</td>\n",
       "      <td>2.000398</td>\n",
       "      <td>6717.698686</td>\n",
       "      <td>10.026401</td>\n",
       "      <td>0.744631</td>\n",
       "      <td>0.179542</td>\n",
       "      <td>3.380213e+04</td>\n",
       "      <td>0.349553</td>\n",
       "      <td>21926.061700</td>\n",
       "      <td>12.414067</td>\n",
       "      <td>0.172177</td>\n",
       "      <td>1.235013</td>\n",
       "      <td>47.175930</td>\n",
       "      <td>5695.264678</td>\n",
       "      <td>0.645141</td>\n",
       "      <td>11.410502</td>\n",
       "      <td>11.066557</td>\n",
       "      <td>1.105551</td>\n",
       "      <td>0.258911</td>\n",
       "      <td>4286.493397</td>\n",
       "      <td>1886.611584</td>\n",
       "      <td>5270.558892</td>\n",
       "      <td>186.245160</td>\n",
       "      <td>0.019836</td>\n",
       "      <td>0.476979</td>\n",
       "      <td>0.344454</td>\n",
       "      <td>443.751112</td>\n",
       "      <td>111.41890</td>\n",
       "    </tr>\n",
       "    <tr>\n",
       "      <th>min</th>\n",
       "      <td>12.000000</td>\n",
       "      <td>0.000000</td>\n",
       "      <td>0.006530</td>\n",
       "      <td>0.000000</td>\n",
       "      <td>-0.010000</td>\n",
       "      <td>-0.182700</td>\n",
       "      <td>0.004900</td>\n",
       "      <td>-0.182700</td>\n",
       "      <td>1.000000</td>\n",
       "      <td>1.000000</td>\n",
       "      <td>0.000000</td>\n",
       "      <td>0.000000</td>\n",
       "      <td>520.000000</td>\n",
       "      <td>539.000000</td>\n",
       "      <td>0.000000</td>\n",
       "      <td>0.000000</td>\n",
       "      <td>2.000000</td>\n",
       "      <td>0.000000</td>\n",
       "      <td>0.000000</td>\n",
       "      <td>0.000000</td>\n",
       "      <td>0.000000</td>\n",
       "      <td>0.000000</td>\n",
       "      <td>0.000000</td>\n",
       "      <td>0.000000</td>\n",
       "      <td>0.000000</td>\n",
       "      <td>0.000000</td>\n",
       "      <td>0.000000e+00</td>\n",
       "      <td>0.000000</td>\n",
       "      <td>0.000000</td>\n",
       "      <td>0.000000</td>\n",
       "      <td>0.000000</td>\n",
       "      <td>0.000000</td>\n",
       "      <td>0.000000</td>\n",
       "      <td>0.000000</td>\n",
       "      <td>0.000000</td>\n",
       "      <td>0.000000</td>\n",
       "      <td>0.000000</td>\n",
       "      <td>0.000000</td>\n",
       "      <td>0.000000</td>\n",
       "      <td>0.000000</td>\n",
       "      <td>0.000000</td>\n",
       "      <td>1000.000000</td>\n",
       "      <td>0.000000</td>\n",
       "      <td>0.700000</td>\n",
       "      <td>0.000000</td>\n",
       "      <td>0.000000</td>\n",
       "      <td>0.000000</td>\n",
       "      <td>1.00000</td>\n",
       "    </tr>\n",
       "    <tr>\n",
       "      <th>25%</th>\n",
       "      <td>36.000000</td>\n",
       "      <td>0.000000</td>\n",
       "      <td>0.153240</td>\n",
       "      <td>0.136400</td>\n",
       "      <td>0.125600</td>\n",
       "      <td>0.110200</td>\n",
       "      <td>0.072400</td>\n",
       "      <td>0.060300</td>\n",
       "      <td>3.000000</td>\n",
       "      <td>6.000000</td>\n",
       "      <td>1.000000</td>\n",
       "      <td>21.000000</td>\n",
       "      <td>640.000000</td>\n",
       "      <td>659.000000</td>\n",
       "      <td>6.000000</td>\n",
       "      <td>5.000000</td>\n",
       "      <td>15.000000</td>\n",
       "      <td>3.000000</td>\n",
       "      <td>78.000000</td>\n",
       "      <td>0.000000</td>\n",
       "      <td>2.000000</td>\n",
       "      <td>0.000000</td>\n",
       "      <td>0.000000</td>\n",
       "      <td>0.000000</td>\n",
       "      <td>0.000000</td>\n",
       "      <td>0.000000</td>\n",
       "      <td>1.647000e+03</td>\n",
       "      <td>0.220000</td>\n",
       "      <td>512.000000</td>\n",
       "      <td>13.000000</td>\n",
       "      <td>0.770000</td>\n",
       "      <td>0.000000</td>\n",
       "      <td>0.120000</td>\n",
       "      <td>2916.666667</td>\n",
       "      <td>0.000000</td>\n",
       "      <td>0.000000</td>\n",
       "      <td>0.000000</td>\n",
       "      <td>0.000000</td>\n",
       "      <td>0.000000</td>\n",
       "      <td>0.000000</td>\n",
       "      <td>0.000000</td>\n",
       "      <td>3000.000000</td>\n",
       "      <td>106.990000</td>\n",
       "      <td>1.000000</td>\n",
       "      <td>0.000000</td>\n",
       "      <td>0.000000</td>\n",
       "      <td>0.000000</td>\n",
       "      <td>33.00000</td>\n",
       "    </tr>\n",
       "    <tr>\n",
       "      <th>50%</th>\n",
       "      <td>36.000000</td>\n",
       "      <td>1.000000</td>\n",
       "      <td>0.222370</td>\n",
       "      <td>0.199000</td>\n",
       "      <td>0.188000</td>\n",
       "      <td>0.160850</td>\n",
       "      <td>0.072400</td>\n",
       "      <td>0.102500</td>\n",
       "      <td>4.000000</td>\n",
       "      <td>6.000000</td>\n",
       "      <td>1.000000</td>\n",
       "      <td>53.000000</td>\n",
       "      <td>680.000000</td>\n",
       "      <td>699.000000</td>\n",
       "      <td>9.000000</td>\n",
       "      <td>8.000000</td>\n",
       "      <td>24.000000</td>\n",
       "      <td>6.000000</td>\n",
       "      <td>209.000000</td>\n",
       "      <td>1.000000</td>\n",
       "      <td>5.000000</td>\n",
       "      <td>0.000000</td>\n",
       "      <td>0.000000</td>\n",
       "      <td>0.000000</td>\n",
       "      <td>0.000000</td>\n",
       "      <td>0.000000</td>\n",
       "      <td>6.113500e+03</td>\n",
       "      <td>0.570000</td>\n",
       "      <td>3231.000000</td>\n",
       "      <td>20.000000</td>\n",
       "      <td>0.920000</td>\n",
       "      <td>1.000000</td>\n",
       "      <td>0.200000</td>\n",
       "      <td>4250.000000</td>\n",
       "      <td>0.000000</td>\n",
       "      <td>0.000000</td>\n",
       "      <td>0.000000</td>\n",
       "      <td>0.000000</td>\n",
       "      <td>0.000000</td>\n",
       "      <td>0.000000</td>\n",
       "      <td>0.000000</td>\n",
       "      <td>5000.000000</td>\n",
       "      <td>173.710000</td>\n",
       "      <td>1.000000</td>\n",
       "      <td>0.000000</td>\n",
       "      <td>0.000000</td>\n",
       "      <td>0.000000</td>\n",
       "      <td>73.00000</td>\n",
       "    </tr>\n",
       "    <tr>\n",
       "      <th>75%</th>\n",
       "      <td>36.000000</td>\n",
       "      <td>1.000000</td>\n",
       "      <td>0.305130</td>\n",
       "      <td>0.270000</td>\n",
       "      <td>0.259900</td>\n",
       "      <td>0.236400</td>\n",
       "      <td>0.100000</td>\n",
       "      <td>0.136300</td>\n",
       "      <td>4.000000</td>\n",
       "      <td>7.000000</td>\n",
       "      <td>4.000000</td>\n",
       "      <td>113.000000</td>\n",
       "      <td>720.000000</td>\n",
       "      <td>739.000000</td>\n",
       "      <td>13.000000</td>\n",
       "      <td>11.000000</td>\n",
       "      <td>34.000000</td>\n",
       "      <td>9.000000</td>\n",
       "      <td>447.000000</td>\n",
       "      <td>2.000000</td>\n",
       "      <td>8.000000</td>\n",
       "      <td>0.000000</td>\n",
       "      <td>0.000000</td>\n",
       "      <td>3.000000</td>\n",
       "      <td>0.000000</td>\n",
       "      <td>0.000000</td>\n",
       "      <td>1.619825e+04</td>\n",
       "      <td>0.850000</td>\n",
       "      <td>11950.000000</td>\n",
       "      <td>29.000000</td>\n",
       "      <td>1.000000</td>\n",
       "      <td>1.000000</td>\n",
       "      <td>0.310000</td>\n",
       "      <td>6250.000000</td>\n",
       "      <td>0.000000</td>\n",
       "      <td>0.000000</td>\n",
       "      <td>0.000000</td>\n",
       "      <td>0.000000</td>\n",
       "      <td>0.000000</td>\n",
       "      <td>0.000000</td>\n",
       "      <td>0.000000</td>\n",
       "      <td>8500.000000</td>\n",
       "      <td>312.390000</td>\n",
       "      <td>1.000000</td>\n",
       "      <td>0.000000</td>\n",
       "      <td>0.000000</td>\n",
       "      <td>0.000000</td>\n",
       "      <td>148.00000</td>\n",
       "    </tr>\n",
       "    <tr>\n",
       "      <th>max</th>\n",
       "      <td>60.000000</td>\n",
       "      <td>1.000000</td>\n",
       "      <td>0.423950</td>\n",
       "      <td>0.360000</td>\n",
       "      <td>0.340000</td>\n",
       "      <td>0.340850</td>\n",
       "      <td>0.366000</td>\n",
       "      <td>0.283700</td>\n",
       "      <td>7.000000</td>\n",
       "      <td>11.000000</td>\n",
       "      <td>20.000000</td>\n",
       "      <td>755.000000</td>\n",
       "      <td>880.000000</td>\n",
       "      <td>899.000000</td>\n",
       "      <td>59.000000</td>\n",
       "      <td>51.000000</td>\n",
       "      <td>136.000000</td>\n",
       "      <td>51.000000</td>\n",
       "      <td>14985.000000</td>\n",
       "      <td>63.000000</td>\n",
       "      <td>158.000000</td>\n",
       "      <td>83.000000</td>\n",
       "      <td>444745.000000</td>\n",
       "      <td>99.000000</td>\n",
       "      <td>30.000000</td>\n",
       "      <td>7.000000</td>\n",
       "      <td>1.435667e+06</td>\n",
       "      <td>5.950000</td>\n",
       "      <td>646285.000000</td>\n",
       "      <td>126.000000</td>\n",
       "      <td>1.000000</td>\n",
       "      <td>20.000000</td>\n",
       "      <td>1130.900000</td>\n",
       "      <td>618547.833333</td>\n",
       "      <td>7.000000</td>\n",
       "      <td>120.000000</td>\n",
       "      <td>114.000000</td>\n",
       "      <td>42.000000</td>\n",
       "      <td>21.000000</td>\n",
       "      <td>72499.000000</td>\n",
       "      <td>23033.690000</td>\n",
       "      <td>35000.000000</td>\n",
       "      <td>2251.510000</td>\n",
       "      <td>1.000000</td>\n",
       "      <td>39.000000</td>\n",
       "      <td>33.000000</td>\n",
       "      <td>25000.000000</td>\n",
       "      <td>1189.00000</td>\n",
       "    </tr>\n",
       "  </tbody>\n",
       "</table>\n",
       "</div>"
      ],
      "text/plain": [
       "               Term    LoanStatus   BorrowerAPR  BorrowerRate   LenderYield  \\\n",
       "count  49724.000000  49724.000000  49724.000000  49724.000000  49724.000000   \n",
       "mean      37.383316      0.674322      0.227630      0.203470      0.193209   \n",
       "std        8.200240      0.468632      0.089797      0.082468      0.082052   \n",
       "min       12.000000      0.000000      0.006530      0.000000     -0.010000   \n",
       "25%       36.000000      0.000000      0.153240      0.136400      0.125600   \n",
       "50%       36.000000      1.000000      0.222370      0.199000      0.188000   \n",
       "75%       36.000000      1.000000      0.305130      0.270000      0.259900   \n",
       "max       60.000000      1.000000      0.423950      0.360000      0.340000   \n",
       "\n",
       "       EstimatedEffectiveYield  EstimatedLoss  EstimatedReturn  \\\n",
       "count             49724.000000   49724.000000     49724.000000   \n",
       "mean                  0.171487       0.084773         0.099849   \n",
       "std                   0.079151       0.042269         0.058222   \n",
       "min                  -0.182700       0.004900        -0.182700   \n",
       "25%                   0.110200       0.072400         0.060300   \n",
       "50%                   0.160850       0.072400         0.102500   \n",
       "75%                   0.236400       0.100000         0.136300   \n",
       "max                   0.340850       0.366000         0.283700   \n",
       "\n",
       "       ProsperRating (numeric)  ProsperScore  ListingCategory (numeric)  \\\n",
       "count             49724.000000  49724.000000               49724.000000   \n",
       "mean                  3.795129      6.098906                   2.846553   \n",
       "std                   1.365905      1.759049                   3.595906   \n",
       "min                   1.000000      1.000000                   0.000000   \n",
       "25%                   3.000000      6.000000                   1.000000   \n",
       "50%                   4.000000      6.000000                   1.000000   \n",
       "75%                   4.000000      7.000000                   4.000000   \n",
       "max                   7.000000     11.000000                  20.000000   \n",
       "\n",
       "       EmploymentStatusDuration  CreditScoreRangeLower  CreditScoreRangeUpper  \\\n",
       "count              49724.000000           49724.000000           49724.000000   \n",
       "mean                  81.636172             682.712171             701.712171   \n",
       "std                   85.135799              66.713278              66.713278   \n",
       "min                    0.000000             520.000000             539.000000   \n",
       "25%                   21.000000             640.000000             659.000000   \n",
       "50%                   53.000000             680.000000             699.000000   \n",
       "75%                  113.000000             720.000000             739.000000   \n",
       "max                  755.000000             880.000000             899.000000   \n",
       "\n",
       "       CurrentCreditLines  OpenCreditLines  TotalCreditLinespast7years  \\\n",
       "count        49724.000000     49724.000000                49724.000000   \n",
       "mean             9.586819         8.366242                   25.789578   \n",
       "std              5.570450         4.980212                   14.263379   \n",
       "min              0.000000         0.000000                    2.000000   \n",
       "25%              6.000000         5.000000                   15.000000   \n",
       "50%              9.000000         8.000000                   24.000000   \n",
       "75%             13.000000        11.000000                   34.000000   \n",
       "max             59.000000        51.000000                  136.000000   \n",
       "\n",
       "       OpenRevolvingAccounts  OpenRevolvingMonthlyPayment  \\\n",
       "count           49724.000000                 49724.000000   \n",
       "mean                6.411210                   347.684177   \n",
       "std                 4.454619                   450.554180   \n",
       "min                 0.000000                     0.000000   \n",
       "25%                 3.000000                    78.000000   \n",
       "50%                 6.000000                   209.000000   \n",
       "75%                 9.000000                   447.000000   \n",
       "max                51.000000                 14985.000000   \n",
       "\n",
       "       InquiriesLast6Months  TotalInquiries  CurrentDelinquencies  \\\n",
       "count          49724.000000    49724.000000          49724.000000   \n",
       "mean               1.798287        6.556894              0.643914   \n",
       "std                2.739781        7.182246              2.000398   \n",
       "min                0.000000        0.000000              0.000000   \n",
       "25%                0.000000        2.000000              0.000000   \n",
       "50%                1.000000        5.000000              0.000000   \n",
       "75%                2.000000        8.000000              0.000000   \n",
       "max               63.000000      158.000000             83.000000   \n",
       "\n",
       "       AmountDelinquent  DelinquenciesLast7Years  PublicRecordsLast10Years  \\\n",
       "count      49724.000000             49724.000000              49724.000000   \n",
       "mean        1066.158435                 4.143170                  0.311178   \n",
       "std         6717.698686                10.026401                  0.744631   \n",
       "min            0.000000                 0.000000                  0.000000   \n",
       "25%            0.000000                 0.000000                  0.000000   \n",
       "50%            0.000000                 0.000000                  0.000000   \n",
       "75%            0.000000                 3.000000                  0.000000   \n",
       "max       444745.000000                99.000000                 30.000000   \n",
       "\n",
       "       PublicRecordsLast12Months  RevolvingCreditBalance  BankcardUtilization  \\\n",
       "count               49724.000000            4.972400e+04         49724.000000   \n",
       "mean                    0.023369            1.569520e+04             0.532345   \n",
       "std                     0.179542            3.380213e+04             0.349553   \n",
       "min                     0.000000            0.000000e+00             0.000000   \n",
       "25%                     0.000000            1.647000e+03             0.220000   \n",
       "50%                     0.000000            6.113500e+03             0.570000   \n",
       "75%                     0.000000            1.619825e+04             0.850000   \n",
       "max                     7.000000            1.435667e+06             5.950000   \n",
       "\n",
       "       AvailableBankcardCredit   TotalTrades  \\\n",
       "count             49724.000000  49724.000000   \n",
       "mean              10765.711789     21.844542   \n",
       "std               21926.061700     12.414067   \n",
       "min                   0.000000      0.000000   \n",
       "25%                 512.000000     13.000000   \n",
       "50%                3231.000000     20.000000   \n",
       "75%               11950.000000     29.000000   \n",
       "max              646285.000000    126.000000   \n",
       "\n",
       "       TradesNeverDelinquent (percentage)  TradesOpenedLast6Months  \\\n",
       "count                        49724.000000             49724.000000   \n",
       "mean                             0.857704                 0.907047   \n",
       "std                              0.172177                 1.235013   \n",
       "min                              0.000000                 0.000000   \n",
       "25%                              0.770000                 0.000000   \n",
       "50%                              0.920000                 1.000000   \n",
       "75%                              1.000000                 1.000000   \n",
       "max                              1.000000                20.000000   \n",
       "\n",
       "       DebtToIncomeRatio  StatedMonthlyIncome  TotalProsperLoans  \\\n",
       "count       49724.000000         49724.000000       49724.000000   \n",
       "mean            5.390154          5122.985416           0.301364   \n",
       "std            47.175930          5695.264678           0.645141   \n",
       "min             0.000000             0.000000           0.000000   \n",
       "25%             0.120000          2916.666667           0.000000   \n",
       "50%             0.200000          4250.000000           0.000000   \n",
       "75%             0.310000          6250.000000           0.000000   \n",
       "max          1130.900000        618547.833333           7.000000   \n",
       "\n",
       "       TotalProsperPaymentsBilled  OnTimeProsperPayments  \\\n",
       "count                49724.000000           49724.000000   \n",
       "mean                     4.558624               4.412779   \n",
       "std                     11.410502              11.066557   \n",
       "min                      0.000000               0.000000   \n",
       "25%                      0.000000               0.000000   \n",
       "50%                      0.000000               0.000000   \n",
       "75%                      0.000000               0.000000   \n",
       "max                    120.000000             114.000000   \n",
       "\n",
       "       ProsperPaymentsLessThanOneMonthLate  ProsperPaymentsOneMonthPlusLate  \\\n",
       "count                         49724.000000                     49724.000000   \n",
       "mean                              0.134040                         0.011705   \n",
       "std                               1.105551                         0.258911   \n",
       "min                               0.000000                         0.000000   \n",
       "25%                               0.000000                         0.000000   \n",
       "50%                               0.000000                         0.000000   \n",
       "75%                               0.000000                         0.000000   \n",
       "max                              42.000000                        21.000000   \n",
       "\n",
       "       ProsperPrincipalBorrowed  ProsperPrincipalOutstanding  \\\n",
       "count              49724.000000                 49724.000000   \n",
       "mean                1617.444157                   543.321921   \n",
       "std                 4286.493397                  1886.611584   \n",
       "min                    0.000000                     0.000000   \n",
       "25%                    0.000000                     0.000000   \n",
       "50%                    0.000000                     0.000000   \n",
       "75%                    0.000000                     0.000000   \n",
       "max                72499.000000                 23033.690000   \n",
       "\n",
       "       LoanOriginalAmount  MonthlyLoanPayment  PercentFunded  Recommendations  \\\n",
       "count        49724.000000        49724.000000   49724.000000     49724.000000   \n",
       "mean          6527.303495          232.774829       0.998274         0.099228   \n",
       "std           5270.558892          186.245160       0.019836         0.476979   \n",
       "min           1000.000000            0.000000       0.700000         0.000000   \n",
       "25%           3000.000000          106.990000       1.000000         0.000000   \n",
       "50%           5000.000000          173.710000       1.000000         0.000000   \n",
       "75%           8500.000000          312.390000       1.000000         0.000000   \n",
       "max          35000.000000         2251.510000       1.000000        39.000000   \n",
       "\n",
       "       InvestmentFromFriendsCount  InvestmentFromFriendsAmount    Investors  \n",
       "count                49724.000000                 49724.000000  49724.00000  \n",
       "mean                     0.051022                    37.083268    109.01818  \n",
       "std                      0.344454                   443.751112    111.41890  \n",
       "min                      0.000000                     0.000000      1.00000  \n",
       "25%                      0.000000                     0.000000     33.00000  \n",
       "50%                      0.000000                     0.000000     73.00000  \n",
       "75%                      0.000000                     0.000000    148.00000  \n",
       "max                     33.000000                 25000.000000   1189.00000  "
      ]
     },
     "execution_count": 31,
     "metadata": {},
     "output_type": "execute_result"
    }
   ],
   "source": [
    "df_historical.describe()"
   ]
  },
  {
   "cell_type": "markdown",
   "metadata": {
    "_cell_guid": "8ecc454b-13e5-a805-7b08-7259dabe0cf9",
    "_uuid": "0aa85828108194d718ac9766cddff6c0e4043f16"
   },
   "source": [
    "### Exploring the data: categorical information <a class=\"anchor\" id=\"explore1\"></a>"
   ]
  },
  {
   "cell_type": "code",
   "execution_count": 32,
   "metadata": {
    "_cell_guid": "c6c28c80-da40-5329-dc41-6870f4e827ab",
    "_uuid": "9c73fa5def4a92092a5ef52c400e49565f52ac40",
    "execution": {
     "iopub.execute_input": "2022-11-22T19:35:30.725034Z",
     "iopub.status.busy": "2022-11-22T19:35:30.724499Z",
     "iopub.status.idle": "2022-11-22T19:35:32.446908Z",
     "shell.execute_reply": "2022-11-22T19:35:32.446308Z",
     "shell.execute_reply.started": "2022-11-22T19:35:30.724982Z"
    }
   },
   "outputs": [
    {
     "data": {
      "text/plain": [
       "<matplotlib.axes._subplots.AxesSubplot at 0x7fcc923ceda0>"
      ]
     },
     "execution_count": 32,
     "metadata": {},
     "output_type": "execute_result"
    },
    {
     "data": {
      "image/png": "[encoded data removed]",
      "text/plain": [
       "<matplotlib.figure.Figure at 0x7fcc9241f748>"
      ]
     },
     "metadata": {},
     "output_type": "display_data"
    }
   ],
   "source": [
    "sns.barplot(x=\"BorrowerState\", y=\"LoanStatus\", data=df_historical)"
   ]
  },
  {
   "cell_type": "code",
   "execution_count": 33,
   "metadata": {
    "_cell_guid": "40c19a63-b063-4691-19a9-206a83747dda",
    "_uuid": "b7b8931a278b9856bcf842d49e1f7779151d443c",
    "execution": {
     "iopub.execute_input": "2022-11-22T19:35:38.188414Z",
     "iopub.status.busy": "2022-11-22T19:35:38.188177Z",
     "iopub.status.idle": "2022-11-22T19:35:38.204009Z",
     "shell.execute_reply": "2022-11-22T19:35:38.203481Z",
     "shell.execute_reply.started": "2022-11-22T19:35:38.188381Z"
    }
   },
   "outputs": [
    {
     "data": {
      "text/plain": [
       "(0.42205323193916355, 0.22043010752688175)"
      ]
     },
     "execution_count": 33,
     "metadata": {},
     "output_type": "execute_result"
    }
   ],
   "source": [
    "al, dc = df_historical[df_historical[\"BorrowerState\"] == \"AL\"], df_historical[df_historical[\"BorrowerState\"] == \"DC\"]\n",
    "\n",
    "1 - al[\"LoanStatus\"].mean(), 1 - dc[\"LoanStatus\"].mean()"
   ]
  },
  {
   "cell_type": "markdown",
   "metadata": {
    "_cell_guid": "27b3b872-f60e-fe75-9406-28fa2df28271",
    "_uuid": "229cea86a43eb7d6d8a152382e549f00fea5de18"
   },
   "source": [
    "There seems to be some variation. Loans to people in Alabama defaulted 42.21% of the time, whereas loans to people in Washington D.C. only defaulted 22.04% of the time. Cool! We'll have to try to make this categorical information useable in our classifier--perhaps with dummy variables."
   ]
  },
  {
   "cell_type": "markdown",
   "metadata": {
    "_cell_guid": "0282b01d-3d7f-faff-bb8a-e97bcc838957",
    "_uuid": "5662fbe3088748252d01793c6f5bc7ba7e79d89a"
   },
   "source": [
    "Let's take a look at another categorical variable: ListingCategory.\n",
    "\n",
    "First though, it's a bit annoying having to constantly refer to our variable definitions to understand the listing category, so before we interpret this, let's change our numeric values to the actual category names. This will also be useful, because the numeric values imply some sort of false ordinality, and we should really handle this like a categorical variable."
   ]
  },
  {
   "cell_type": "code",
   "execution_count": 34,
   "metadata": {
    "_cell_guid": "a8558cd8-df5b-f073-09df-0cfd2f4d637a",
    "_uuid": "426846bc8c7d365259b1b38c61276e6b6479b6ea",
    "execution": {
     "iopub.execute_input": "2022-11-22T19:36:19.188012Z",
     "iopub.status.busy": "2022-11-22T19:36:19.187677Z",
     "iopub.status.idle": "2022-11-22T19:36:19.539893Z",
     "shell.execute_reply": "2022-11-22T19:36:19.539356Z",
     "shell.execute_reply.started": "2022-11-22T19:36:19.187960Z"
    }
   },
   "outputs": [
    {
     "name": "stderr",
     "output_type": "stream",
     "text": [
      "/opt/conda/lib/python3.6/site-packages/pandas/core/generic.py:3855: SettingWithCopyWarning: \n",
      "A value is trying to be set on a copy of a slice from a DataFrame.\n",
      "Try using .loc[row_indexer,col_indexer] = value instead\n",
      "\n",
      "See the caveats in the documentation: http://pandas.pydata.org/pandas-docs/stable/indexing.html#indexing-view-versus-copy\n",
      "  regex=regex)\n",
      "/opt/conda/lib/python3.6/site-packages/pandas/core/frame.py:2746: SettingWithCopyWarning: \n",
      "A value is trying to be set on a copy of a slice from a DataFrame\n",
      "\n",
      "See the caveats in the documentation: http://pandas.pydata.org/pandas-docs/stable/indexing.html#indexing-view-versus-copy\n",
      "  **kwargs)\n"
     ]
    },
    {
     "data": {
      "text/plain": [
       "0       Unknown\n",
       "11      Unknown\n",
       "12         Debt\n",
       "15    Household\n",
       "21      Unknown\n",
       "23      Medical\n",
       "26         Debt\n",
       "27         Debt\n",
       "30      Wedding\n",
       "33        Other\n",
       "Name: ListingCategory, dtype: object"
      ]
     },
     "execution_count": 34,
     "metadata": {},
     "output_type": "execute_result"
    }
   ],
   "source": [
    "df_historical.replace(to_replace={\"ListingCategory (numeric)\": {0: \"Unknown\", 1: \"Debt\", 2: \"Reno\", 3: \"Business\", 4: \"Personal\",\n",
    "                                                                5: \"Student\", 6: \"Auto\", 7: \"Other\", 8: \"Baby\", 9: \"Boat\", \n",
    "                                                                10: \"Cosmetic\", 11: \"Engagement\", 12: \"Green\", 13: \"Household\",\n",
    "                                                                14: \"LargePurchase\", 15: \"Medical\", 16: \"Motorcycle\", 17: \"RV\",\n",
    "                                                                18: \"Taxes\", 19: \"Vacation\", 20: \"Wedding\"}}, inplace=True)\n",
    "\n",
    "df_historical.rename(index=str, columns={\"ListingCategory (numeric)\": \"ListingCategory\"}, inplace=True)\n",
    "\n",
    "df_historical[\"ListingCategory\"][:10]"
   ]
  },
  {
   "cell_type": "code",
   "execution_count": 35,
   "metadata": {
    "_cell_guid": "166ead1f-c2b5-6e1e-b0c5-a0a4a45b3e22",
    "_uuid": "0531b9ffecb6d45ebcfdf2c105dd2ded4f2b6410",
    "execution": {
     "iopub.execute_input": "2022-11-22T19:36:33.845254Z",
     "iopub.status.busy": "2022-11-22T19:36:33.844824Z",
     "iopub.status.idle": "2022-11-22T19:36:35.197201Z",
     "shell.execute_reply": "2022-11-22T19:36:35.196461Z",
     "shell.execute_reply.started": "2022-11-22T19:36:33.845213Z"
    }
   },
   "outputs": [
    {
     "data": {
      "text/plain": [
       "<matplotlib.axes._subplots.AxesSubplot at 0x7fcc923a7860>"
      ]
     },
     "execution_count": 35,
     "metadata": {},
     "output_type": "execute_result"
    },
    {
     "data": {
      "image/png": "[encoded data removed]",
      "text/plain": [
       "<matplotlib.figure.Figure at 0x7fcc92254710>"
      ]
     },
     "metadata": {},
     "output_type": "display_data"
    }
   ],
   "source": [
    "sns.barplot(x=\"ListingCategory\", y=\"LoanStatus\", data=df_historical)"
   ]
  },
  {
   "cell_type": "code",
   "execution_count": 36,
   "metadata": {
    "_cell_guid": "0cd5e585-a383-e611-306a-20e8b356591a",
    "_uuid": "817e5c0a78a383484949a7e873e300c37fd1cd30",
    "execution": {
     "iopub.execute_input": "2022-11-22T19:36:55.935138Z",
     "iopub.status.busy": "2022-11-22T19:36:55.934690Z",
     "iopub.status.idle": "2022-11-22T19:36:55.950661Z",
     "shell.execute_reply": "2022-11-22T19:36:55.949899Z",
     "shell.execute_reply.started": "2022-11-22T19:36:55.935067Z"
    }
   },
   "outputs": [
    {
     "data": {
      "text/plain": [
       "(0.11111111111111116, 0.5652173913043479)"
      ]
     },
     "execution_count": 36,
     "metadata": {},
     "output_type": "execute_result"
    }
   ],
   "source": [
    "rv, green = df_historical[df_historical[\"ListingCategory\"] == \"RV\"], df_historical[df_historical[\"ListingCategory\"] == \"Green\"]\n",
    "\n",
    "1 - rv[\"LoanStatus\"].mean(), 1 - green[\"LoanStatus\"].mean()"
   ]
  },
  {
   "cell_type": "markdown",
   "metadata": {
    "_cell_guid": "353ef726-525c-c4e5-daaa-10af5c15ce43",
    "_uuid": "20861ef2828596ead354d997984d345aeba62411"
   },
   "source": [
    "So, once again, certain types of loans seem to be outperforming others, with RV loans only defaulting 11.11% of the time, and green loans defaulting 56.52% of the time. Other frequent defaulters are loans for household expenses and for medical and dental work, while people seem to completely pay boat and motorcycle loans quite frequently. "
   ]
  },
  {
   "cell_type": "markdown",
   "metadata": {
    "_cell_guid": "999363f2-de33-fa8b-d7be-e68c34375f89",
    "_uuid": "3bb1bbe9e04adff1f93dc504780f6f2a7c18e6d2"
   },
   "source": [
    "Let's examine some credit scoring metrics."
   ]
  },
  {
   "cell_type": "markdown",
   "metadata": {
    "_cell_guid": "4bb0d3b5-6d14-b1b2-3d13-156dae71a585",
    "_uuid": "5c544c0c36502d4942b7f2b715e949cda6bf52c7"
   },
   "source": [
    "### Exploring the data: credit scores <a class=\"anchor\" id=\"explore2\"></a>"
   ]
  },
  {
   "cell_type": "code",
   "execution_count": 37,
   "metadata": {
    "_cell_guid": "fc783e0a-0133-e302-51c6-146558d42341",
    "_uuid": "2bc1c2a28de478ad4b2bc0d212a96b6802e557c3",
    "execution": {
     "iopub.execute_input": "2022-11-22T19:37:33.302634Z",
     "iopub.status.busy": "2022-11-22T19:37:33.302378Z",
     "iopub.status.idle": "2022-11-22T19:37:37.053368Z",
     "shell.execute_reply": "2022-11-22T19:37:37.052763Z",
     "shell.execute_reply.started": "2022-11-22T19:37:33.302595Z"
    }
   },
   "outputs": [
    {
     "data": {
      "text/plain": [
       "<matplotlib.axes._subplots.AxesSubplot at 0x7fcc91675d68>"
      ]
     },
     "execution_count": 37,
     "metadata": {},
     "output_type": "execute_result"
    },
    {
     "data": {
      "image/png": "[encoded data removed]",
      "text/plain": [
       "<matplotlib.figure.Figure at 0x7fcc917a6400>"
      ]
     },
     "metadata": {},
     "output_type": "display_data"
    }
   ],
   "source": [
    "fig = plt.figure()\n",
    "\n",
    "ax1 = fig.add_subplot(221)\n",
    "sns.barplot(x=\"ProsperRating (numeric)\", y=\"LoanStatus\", data=df_historical)\n",
    "\n",
    "ax2 = fig.add_subplot(222)\n",
    "sns.barplot(x=\"ProsperScore\", y=\"LoanStatus\", data=df_historical)\n",
    "\n",
    "ax3 = fig.add_subplot(223)\n",
    "sns.barplot(x=\"CreditScoreRangeLower\", y=\"LoanStatus\", data=df_historical)\n",
    "\n",
    "ax4 = fig.add_subplot(224)\n",
    "sns.barplot(x=\"CreditScoreRangeUpper\", y=\"LoanStatus\", data=df_historical)"
   ]
  },
  {
   "cell_type": "markdown",
   "metadata": {
    "_cell_guid": "cf00de95-9302-7d0f-396a-fb7980540094",
    "_uuid": "c344a7a27de7c56ba962640003017d07030be7c7"
   },
   "source": [
    "Both the Prosper scores and the credit scores seem to be doing a good job of predicting default, with higher ratings defaulting less frequently. Interestingly, the loans with the highest ProsperScores (11) default more frequently than loans rated at a 9 or a 10, and there is a high degree of variance in default rate for those highly rated loans.\n",
    "\n",
    "It should be noted here that the credit score \"range\" seems to be constant. So let's quickly double-check that, and remove the redundancy by dropping CreditScoreRangeUpper and renaming the lower bound \"CreditScore\"."
   ]
  },
  {
   "cell_type": "code",
   "execution_count": 38,
   "metadata": {
    "_cell_guid": "27231167-a85d-8409-915a-af253c2515bd",
    "_uuid": "bf48160064cf5032f12da6dddad668ce87727e71",
    "execution": {
     "iopub.execute_input": "2022-11-22T19:38:07.230039Z",
     "iopub.status.busy": "2022-11-22T19:38:07.229516Z",
     "iopub.status.idle": "2022-11-22T19:38:07.237727Z",
     "shell.execute_reply": "2022-11-22T19:38:07.237077Z",
     "shell.execute_reply.started": "2022-11-22T19:38:07.229988Z"
    }
   },
   "outputs": [
    {
     "data": {
      "text/plain": [
       "19.0    49724\n",
       "dtype: int64"
      ]
     },
     "execution_count": 38,
     "metadata": {},
     "output_type": "execute_result"
    }
   ],
   "source": [
    "credit_score_range = df_historical[\"CreditScoreRangeUpper\"] - df_historical[\"CreditScoreRangeLower\"]\n",
    "\n",
    "credit_score_range.value_counts()"
   ]
  },
  {
   "cell_type": "code",
   "execution_count": 39,
   "metadata": {
    "_cell_guid": "b143e400-99f2-1ff0-4dd3-53ba56e59c2c",
    "_uuid": "24bf2ab989889b16757bd655f71a14b08a69f1d5",
    "execution": {
     "iopub.execute_input": "2022-11-22T19:38:11.232086Z",
     "iopub.status.busy": "2022-11-22T19:38:11.231588Z",
     "iopub.status.idle": "2022-11-22T19:38:11.397074Z",
     "shell.execute_reply": "2022-11-22T19:38:11.396429Z",
     "shell.execute_reply.started": "2022-11-22T19:38:11.232033Z"
    }
   },
   "outputs": [
    {
     "name": "stderr",
     "output_type": "stream",
     "text": [
      "/opt/conda/lib/python3.6/site-packages/ipykernel_launcher.py:1: SettingWithCopyWarning: \n",
      "A value is trying to be set on a copy of a slice from a DataFrame\n",
      "\n",
      "See the caveats in the documentation: http://pandas.pydata.org/pandas-docs/stable/indexing.html#indexing-view-versus-copy\n",
      "  \"\"\"Entry point for launching an IPython kernel.\n",
      "/opt/conda/lib/python3.6/site-packages/pandas/core/frame.py:2746: SettingWithCopyWarning: \n",
      "A value is trying to be set on a copy of a slice from a DataFrame\n",
      "\n",
      "See the caveats in the documentation: http://pandas.pydata.org/pandas-docs/stable/indexing.html#indexing-view-versus-copy\n",
      "  **kwargs)\n"
     ]
    }
   ],
   "source": [
    "df_historical.drop(\"CreditScoreRangeUpper\", axis=1, inplace=True)\n",
    "\n",
    "df_historical.rename(index=str, columns={\"CreditScoreRangeLower\": \"CreditScore\"}, inplace=True)"
   ]
  },
  {
   "cell_type": "markdown",
   "metadata": {
    "_cell_guid": "f50c9241-d082-d07c-48d2-22956f8d0239",
    "_uuid": "b4440e5326cfa982b7547093ebb5ff5d62aa2e7c"
   },
   "source": [
    "Let's visualize some financial variables."
   ]
  },
  {
   "cell_type": "markdown",
   "metadata": {
    "_cell_guid": "73e24949-fffe-3976-7dec-5549d2775ab8",
    "_uuid": "7a74cf0f62e758284735ca50b56e30187c3a3600"
   },
   "source": [
    "### Exploring the data: financial information <a class=\"anchor\" id=\"explore3\"></a>"
   ]
  },
  {
   "cell_type": "code",
   "execution_count": 40,
   "metadata": {
    "_cell_guid": "6514dc84-410d-4162-c244-d6b82487db71",
    "_uuid": "66867c8f5f5993e8a63b56b642d1dca5a9771231",
    "execution": {
     "iopub.execute_input": "2022-11-22T19:38:25.971859Z",
     "iopub.status.busy": "2022-11-22T19:38:25.971355Z",
     "iopub.status.idle": "2022-11-22T19:38:27.092773Z",
     "shell.execute_reply": "2022-11-22T19:38:27.092239Z",
     "shell.execute_reply.started": "2022-11-22T19:38:25.971812Z"
    }
   },
   "outputs": [
    {
     "data": {
      "text/plain": [
       "(0, 400)"
      ]
     },
     "execution_count": 40,
     "metadata": {},
     "output_type": "execute_result"
    },
    {
     "data": {
      "image/png": "[encoded data removed]",
      "text/plain": [
       "<matplotlib.figure.Figure at 0x7fcc916cec88>"
      ]
     },
     "metadata": {},
     "output_type": "display_data"
    }
   ],
   "source": [
    "fig = plt.figure()\n",
    "\n",
    "ax1 = fig.add_subplot(221)\n",
    "sns.barplot(x=\"EmploymentStatus\", y=\"LoanStatus\", data=df_historical)\n",
    "\n",
    "ax2 = fig.add_subplot(222)\n",
    "sns.boxplot(x=\"LoanStatus\", y=\"EmploymentStatusDuration\", data=df_historical).set_ylim([0,400])"
   ]
  },
  {
   "cell_type": "markdown",
   "metadata": {
    "_cell_guid": "81e64986-3706-81de-208c-9eb2b1f6aa25",
    "_uuid": "a3f1e08896a9171efdbbabd9cf144679eaa5968f"
   },
   "source": [
    "There doesn't seem to be a relationship between EmploymentStatusDuration and loan default. We'll take a look at the correlation in a moment. EmploymentStatus does, however, seem to have a relationship with default. Interestingly, part-time workers defaulted less often than full-time workers. People who listed their employment status as \"Other\" defaulted even more often than those who weren't employed at all."
   ]
  },
  {
   "cell_type": "code",
   "execution_count": 41,
   "metadata": {
    "_cell_guid": "ba7d1d6a-7614-29dc-0c74-506cf2cd2d95",
    "_uuid": "9a3252181a3d82164e84fe185561ec241a6daa24",
    "execution": {
     "iopub.execute_input": "2022-11-22T19:38:33.743965Z",
     "iopub.status.busy": "2022-11-22T19:38:33.743645Z",
     "iopub.status.idle": "2022-11-22T19:38:33.750190Z",
     "shell.execute_reply": "2022-11-22T19:38:33.749650Z",
     "shell.execute_reply.started": "2022-11-22T19:38:33.743905Z"
    }
   },
   "outputs": [
    {
     "name": "stdout",
     "output_type": "stream",
     "text": [
      "The correlation between employment status duration and loan default is -0.0059057028589972775, with a p-value of 0.1878775422194832\n"
     ]
    }
   ],
   "source": [
    "x = df_historical[\"EmploymentStatusDuration\"]\n",
    "y = df_historical[\"LoanStatus\"]\n",
    "\n",
    "r, p = st.pearsonr(x, y)\n",
    "\n",
    "print(\"The correlation between employment status duration and loan default is {}, with a p-value of {}\".format(r, p))"
   ]
  },
  {
   "cell_type": "markdown",
   "metadata": {
    "_cell_guid": "5ee51171-172e-bd66-3a4b-2453c1d80cbb",
    "_uuid": "50fefa87068b6fa4fbe5d30915e1096a31275895"
   },
   "source": [
    "The very weak correlation between employment status duration and loan default, as well as the lack of a statistically significant p-value, lead me to believe that we can safely drop this variable from our dataset."
   ]
  },
  {
   "cell_type": "code",
   "execution_count": 42,
   "metadata": {
    "_cell_guid": "d3622925-355c-74ad-bfae-b3d12740ae0b",
    "_uuid": "239732b01341463e943d35410e168fdd2ba0cc83",
    "execution": {
     "iopub.execute_input": "2022-11-22T19:38:37.128270Z",
     "iopub.status.busy": "2022-11-22T19:38:37.127721Z",
     "iopub.status.idle": "2022-11-22T19:38:37.209555Z",
     "shell.execute_reply": "2022-11-22T19:38:37.208723Z",
     "shell.execute_reply.started": "2022-11-22T19:38:37.128201Z"
    }
   },
   "outputs": [
    {
     "name": "stderr",
     "output_type": "stream",
     "text": [
      "/opt/conda/lib/python3.6/site-packages/ipykernel_launcher.py:1: SettingWithCopyWarning: \n",
      "A value is trying to be set on a copy of a slice from a DataFrame\n",
      "\n",
      "See the caveats in the documentation: http://pandas.pydata.org/pandas-docs/stable/indexing.html#indexing-view-versus-copy\n",
      "  \"\"\"Entry point for launching an IPython kernel.\n"
     ]
    }
   ],
   "source": [
    "df_historical.drop(\"EmploymentStatusDuration\", axis=1, inplace=True)"
   ]
  },
  {
   "cell_type": "markdown",
   "metadata": {
    "_cell_guid": "64e2dc75-2f50-76f1-c625-f2d2ad4319b1",
    "_uuid": "81f57222a550385e9b7a5aab8c2b3a4e93ee9135"
   },
   "source": [
    "Let's plot some income metrics and then some indicators of credit availability."
   ]
  },
  {
   "cell_type": "code",
   "execution_count": 43,
   "metadata": {
    "_cell_guid": "cc9f6daa-74e9-8259-e0a6-aef4b2dc465f",
    "_uuid": "ac9f7248ad83d40ada4861ca73a3de9bac7f245d",
    "execution": {
     "iopub.execute_input": "2022-11-22T19:38:39.624961Z",
     "iopub.status.busy": "2022-11-22T19:38:39.624504Z",
     "iopub.status.idle": "2022-11-22T19:38:39.888931Z",
     "shell.execute_reply": "2022-11-22T19:38:39.888324Z",
     "shell.execute_reply.started": "2022-11-22T19:38:39.624920Z"
    }
   },
   "outputs": [
    {
     "data": {
      "text/plain": [
       "(0, 0.8)"
      ]
     },
     "execution_count": 43,
     "metadata": {},
     "output_type": "execute_result"
    },
    {
     "data": {
      "image/png": "[encoded data removed]",
      "text/plain": [
       "<matplotlib.figure.Figure at 0x7fcc924b0ef0>"
      ]
     },
     "metadata": {},
     "output_type": "display_data"
    }
   ],
   "source": [
    "fig = plt.figure()\n",
    "\n",
    "ax1 = fig.add_subplot(221)\n",
    "sns.boxplot(x=\"LoanStatus\", y=\"StatedMonthlyIncome\", data=df_historical).set_ylim([0,20000])\n",
    "\n",
    "ax2 = fig.add_subplot(222)\n",
    "sns.boxplot(x=\"LoanStatus\", y=\"DebtToIncomeRatio\", data=df_historical).set_ylim([0,0.8])"
   ]
  },
  {
   "cell_type": "markdown",
   "metadata": {
    "_cell_guid": "73d5187f-5339-621d-3a55-1ba0f22384a5",
    "_uuid": "a16e36fd58573be4597b8be07e11366d5f19afb7"
   },
   "source": [
    "Both monthly income and debt : income seem to have a relationship with default. People with higher stated incomes defaulted less often than those with lower incomes, regardless of the size of the loan. And as is intuitive, loans are more likely to default if the ratio of debt to income is higher. "
   ]
  },
  {
   "cell_type": "code",
   "execution_count": 44,
   "metadata": {
    "_cell_guid": "b19c2ced-dc24-b39f-c6ad-0fc2b5343f16",
    "_uuid": "acd4ddb3ff19df50bc3c57d0be777680cc1f1947",
    "execution": {
     "iopub.execute_input": "2022-11-22T19:38:42.542229Z",
     "iopub.status.busy": "2022-11-22T19:38:42.541824Z",
     "iopub.status.idle": "2022-11-22T19:38:42.796794Z",
     "shell.execute_reply": "2022-11-22T19:38:42.796144Z",
     "shell.execute_reply.started": "2022-11-22T19:38:42.542191Z"
    }
   },
   "outputs": [
    {
     "data": {
      "text/plain": [
       "(0, 2.5)"
      ]
     },
     "execution_count": 44,
     "metadata": {},
     "output_type": "execute_result"
    },
    {
     "data": {
      "image/png": "[encoded data removed]",
      "text/plain": [
       "<matplotlib.figure.Figure at 0x7fcc91445240>"
      ]
     },
     "metadata": {},
     "output_type": "display_data"
    }
   ],
   "source": [
    "fig = plt.figure()\n",
    "\n",
    "ax1 = fig.add_subplot(221)\n",
    "sns.boxplot(x=\"LoanStatus\", y=\"AvailableBankcardCredit\", data=df_historical).set_ylim([-1000, 50000])\n",
    "\n",
    "ax2 = fig.add_subplot(222)\n",
    "sns.boxplot(x=\"LoanStatus\", y=\"BankcardUtilization\", data=df_historical).set_ylim([0,2.5])"
   ]
  },
  {
   "cell_type": "markdown",
   "metadata": {
    "_cell_guid": "fd9c6cf6-1182-26dc-8688-ebe8ba981c9d",
    "_uuid": "e76852e7193e4e2d9257cdf14afbcc3e56c938a2"
   },
   "source": [
    "We find a similar picture to income, wherein the availability of bankcard credit coincides with completed loans, and the lower the proportion of bankcard utilization, the lower the likelihood of default."
   ]
  },
  {
   "cell_type": "code",
   "execution_count": 45,
   "metadata": {
    "_cell_guid": "26236a3d-fc75-3571-7933-64524d7ba54e",
    "_uuid": "563d219fcd53ed72552313d3151adc7935b9065d",
    "execution": {
     "iopub.execute_input": "2022-11-22T19:38:55.328891Z",
     "iopub.status.busy": "2022-11-22T19:38:55.328356Z",
     "iopub.status.idle": "2022-11-22T19:38:56.084302Z",
     "shell.execute_reply": "2022-11-22T19:38:56.083819Z",
     "shell.execute_reply.started": "2022-11-22T19:38:55.328813Z"
    }
   },
   "outputs": [
    {
     "data": {
      "text/plain": [
       "(0, 1)"
      ]
     },
     "execution_count": 45,
     "metadata": {},
     "output_type": "execute_result"
    },
    {
     "data": {
      "image/png": "[encoded data removed]",
      "text/plain": [
       "<matplotlib.figure.Figure at 0x7fcc915a1518>"
      ]
     },
     "metadata": {},
     "output_type": "display_data"
    }
   ],
   "source": [
    "sns.barplot(x=\"IsBorrowerHomeowner\", y=\"LoanStatus\", data=df_historical).set_ylim([0,1])"
   ]
  },
  {
   "cell_type": "markdown",
   "metadata": {
    "_cell_guid": "99c092e4-e32d-570e-0238-7f47be68d010",
    "_uuid": "5c514bbc8c567d186a2f64b7a6b94419abdbcf2e"
   },
   "source": [
    "It seems homeowners default very slightly less often than renters."
   ]
  },
  {
   "cell_type": "markdown",
   "metadata": {
    "_cell_guid": "3e5f09ad-977a-70a4-2797-fb467f7e8acf",
    "_uuid": "934f56bbd3a68c54def112f5f9fea5ab5fc11a4b"
   },
   "source": [
    "Next let's look at some credit history variables."
   ]
  },
  {
   "cell_type": "markdown",
   "metadata": {
    "_cell_guid": "48b7f649-af58-b6a3-5707-2990523a0478",
    "_uuid": "64f454991d009e81521a4750bde9eb4ba671e0e6"
   },
   "source": [
    "### Exploring the data: credit history <a class=\"anchor\" id=\"explore4\"></a>"
   ]
  },
  {
   "cell_type": "code",
   "execution_count": 46,
   "metadata": {
    "_cell_guid": "2cfcdba4-9ffd-4e6f-7532-edddd1484add",
    "_uuid": "2264c0b45c3ecefa4222b7b20529839c2e74b4a3",
    "execution": {
     "iopub.execute_input": "2022-11-22T19:39:02.942311Z",
     "iopub.status.busy": "2022-11-22T19:39:02.941814Z",
     "iopub.status.idle": "2022-11-22T19:39:03.429212Z",
     "shell.execute_reply": "2022-11-22T19:39:03.428653Z",
     "shell.execute_reply.started": "2022-11-22T19:39:02.942265Z"
    }
   },
   "outputs": [
    {
     "data": {
      "text/plain": [
       "(0, 20)"
      ]
     },
     "execution_count": 46,
     "metadata": {},
     "output_type": "execute_result"
    },
    {
     "data": {
      "image/png": "[encoded data removed]",
      "text/plain": [
       "<matplotlib.figure.Figure at 0x7fcc91266e10>"
      ]
     },
     "metadata": {},
     "output_type": "display_data"
    }
   ],
   "source": [
    "fig = plt.figure()\n",
    "\n",
    "ax1 = fig.add_subplot(221)\n",
    "sns.boxplot(x=\"LoanStatus\", y=\"CurrentCreditLines\", data=df_historical).set_ylim([0,40])\n",
    "\n",
    "ax2 = fig.add_subplot(222)\n",
    "sns.boxplot(x=\"LoanStatus\", y=\"TotalCreditLinespast7years\", data=df_historical).set_ylim([0,100])\n",
    "\n",
    "ax3 = fig.add_subplot(223)\n",
    "sns.boxplot(x=\"LoanStatus\", y=\"CurrentDelinquencies\", data=df_historical).set_ylim([0,5])\n",
    "\n",
    "ax4 = fig.add_subplot(224)\n",
    "sns.boxplot(x=\"LoanStatus\", y=\"DelinquenciesLast7Years\", data=df_historical).set_ylim([0,20])"
   ]
  },
  {
   "cell_type": "markdown",
   "metadata": {
    "_cell_guid": "6e063751-61df-cd98-ce53-d484713f5d44",
    "_uuid": "e23ad6494f18a0742b56e2eb270c774fca5499ae"
   },
   "source": [
    "Number of credit lines doesn't seem to have a particularly significant relationship with default, but delinquencies do. Among loans that were completed, it is very rare for the debtor to have any current delinquencies. Likewise, a history of delinquency seems to indicate a propensity for default. Let's take a look at those correlations."
   ]
  },
  {
   "cell_type": "code",
   "execution_count": 47,
   "metadata": {
    "_cell_guid": "29cb0847-b47b-4213-b342-07384add734e",
    "_uuid": "941757368c60a556446474c89769ccdf44a19268",
    "execution": {
     "iopub.execute_input": "2022-11-22T19:39:07.592961Z",
     "iopub.status.busy": "2022-11-22T19:39:07.592462Z",
     "iopub.status.idle": "2022-11-22T19:39:07.599801Z",
     "shell.execute_reply": "2022-11-22T19:39:07.599071Z",
     "shell.execute_reply.started": "2022-11-22T19:39:07.592913Z"
    }
   },
   "outputs": [
    {
     "name": "stdout",
     "output_type": "stream",
     "text": [
      "The correlation between CurrentDelinquencies and loan default is -0.12107063477741749, with a p-value of 1.0845242651745478e-161\n",
      "The correlation between DelinquenciesLast7Years and loan default is -0.06975250066577986, with a p-value of 1.1176410321268129e-54\n"
     ]
    }
   ],
   "source": [
    "delinquency = [\"CurrentDelinquencies\", \"DelinquenciesLast7Years\"]\n",
    "y = df_historical[\"LoanStatus\"]\n",
    "\n",
    "for var in delinquency:\n",
    "    x = df_historical[var]\n",
    "    r, p = st.pearsonr(x, y)\n",
    "\n",
    "    print(\"The correlation between {} and loan default is {}, with a p-value of {}\".format(var, r, p))"
   ]
  },
  {
   "cell_type": "markdown",
   "metadata": {
    "_cell_guid": "cb27c5b7-d4d0-36d3-1d1a-275996f16374",
    "_uuid": "5fc1e67f814c0aefd3fd54c194519af9f39f0420"
   },
   "source": [
    "Both current and historical delinquency correlate significantly (p < 0.05) with loan status. Current delinquencies in particular should be a very strong feature for us."
   ]
  },
  {
   "cell_type": "markdown",
   "metadata": {
    "_cell_guid": "71c66d05-e86a-3a6f-417f-3f9a68798297",
    "_uuid": "98c4932720ca649d73e091d16063f5c867645b19"
   },
   "source": [
    "### Exploring the data: loan characteristics <a class=\"anchor\" id=\"explore5\"></a>"
   ]
  },
  {
   "cell_type": "markdown",
   "metadata": {
    "_cell_guid": "f7342969-cb35-f8bd-8009-c43d5b21deac",
    "_uuid": "e371c4b87fbf9dcd10c2f02248cc6bc788b75f47"
   },
   "source": [
    "To wrap up, let's take a look at the characteristics of the loans themselves."
   ]
  },
  {
   "cell_type": "code",
   "execution_count": 48,
   "metadata": {
    "_cell_guid": "a20d6972-dad6-366d-ba77-cfc078899b6b",
    "_uuid": "8101ccde239b54506c716a5612eb96a19a22f133",
    "execution": {
     "iopub.execute_input": "2022-11-22T19:39:10.341577Z",
     "iopub.status.busy": "2022-11-22T19:39:10.341081Z",
     "iopub.status.idle": "2022-11-22T19:39:10.869352Z",
     "shell.execute_reply": "2022-11-22T19:39:10.868655Z",
     "shell.execute_reply.started": "2022-11-22T19:39:10.341534Z"
    }
   },
   "outputs": [
    {
     "data": {
      "text/plain": [
       "(10, 60)"
      ]
     },
     "execution_count": 48,
     "metadata": {},
     "output_type": "execute_result"
    },
    {
     "data": {
      "image/png": "[encoded data removed]",
      "text/plain": [
       "<matplotlib.figure.Figure at 0x7fcc91184860>"
      ]
     },
     "metadata": {},
     "output_type": "display_data"
    }
   ],
   "source": [
    "fig = plt.figure()\n",
    "\n",
    "ax1 = fig.add_subplot(221)\n",
    "sns.violinplot(x=\"LoanStatus\", y=\"LoanOriginalAmount\", data=df_historical).set_ylim([0,35000])\n",
    "\n",
    "ax2 = fig.add_subplot(222)\n",
    "sns.violinplot(x=\"LoanStatus\", y=\"Term\", data=df_historical).set_ylim([10, 60])"
   ]
  },
  {
   "cell_type": "markdown",
   "metadata": {
    "_cell_guid": "05e9a09e-ca87-7c22-801e-89a2c4473caa",
    "_uuid": "557eb4129c365e8e5721c8e06999926b5bf7e7fe"
   },
   "source": [
    "The distribution of the loan amount seems to be consistent between both classes. "
   ]
  },
  {
   "cell_type": "code",
   "execution_count": 49,
   "metadata": {
    "_cell_guid": "520357e5-3abf-089b-2033-66c67a7bafb8",
    "_uuid": "beca8e15a4ed35e18131dda6dd80781150badd08",
    "execution": {
     "iopub.execute_input": "2022-11-22T19:39:15.493021Z",
     "iopub.status.busy": "2022-11-22T19:39:15.492476Z",
     "iopub.status.idle": "2022-11-22T19:39:15.499688Z",
     "shell.execute_reply": "2022-11-22T19:39:15.499119Z",
     "shell.execute_reply.started": "2022-11-22T19:39:15.492976Z"
    }
   },
   "outputs": [
    {
     "data": {
      "text/plain": [
       "36    43754\n",
       "60     4418\n",
       "12     1552\n",
       "Name: Term, dtype: int64"
      ]
     },
     "execution_count": 49,
     "metadata": {},
     "output_type": "execute_result"
    }
   ],
   "source": [
    "df_historical[\"Term\"].value_counts()"
   ]
  },
  {
   "cell_type": "markdown",
   "metadata": {
    "_cell_guid": "11a89d1a-eb1d-bdc7-13a0-af3609e8528a",
    "_uuid": "e5dab88d17ce27b5b09fa7bb8d8dd80d5b40a257"
   },
   "source": [
    "Prosper loans can only have a term of 12, 36, or 60 months. By far the most common is the term of 3 years. Term probably won't be of much use to us to classify our loans either then. Let's wrap up by examining interest rates."
   ]
  },
  {
   "cell_type": "code",
   "execution_count": 50,
   "metadata": {
    "_cell_guid": "eeabcc4c-4c9e-b209-f006-1dcf7d90d4bd",
    "_uuid": "73cee09ec3b0c290e1449d29f9cb08bc3da561fc",
    "execution": {
     "iopub.execute_input": "2022-11-22T19:39:19.119438Z",
     "iopub.status.busy": "2022-11-22T19:39:19.118897Z",
     "iopub.status.idle": "2022-11-22T19:39:19.356093Z",
     "shell.execute_reply": "2022-11-22T19:39:19.355465Z",
     "shell.execute_reply.started": "2022-11-22T19:39:19.119382Z"
    }
   },
   "outputs": [
    {
     "data": {
      "text/plain": [
       "<matplotlib.axes._subplots.AxesSubplot at 0x7fcc906bbf60>"
      ]
     },
     "execution_count": 50,
     "metadata": {},
     "output_type": "execute_result"
    },
    {
     "data": {
      "image/png": "[encoded data removed]",
      "text/plain": [
       "<matplotlib.figure.Figure at 0x7fcc9125bba8>"
      ]
     },
     "metadata": {},
     "output_type": "display_data"
    }
   ],
   "source": [
    "sns.distplot(df_historical[\"BorrowerRate\"])"
   ]
  },
  {
   "cell_type": "code",
   "execution_count": 51,
   "metadata": {
    "_cell_guid": "d25ccf07-8958-46c7-90b7-135deb43f45a",
    "_uuid": "f2424d31876edb5e67ca01252f157ec8e269fd43",
    "execution": {
     "iopub.execute_input": "2022-11-22T19:39:33.913132Z",
     "iopub.status.busy": "2022-11-22T19:39:33.912684Z",
     "iopub.status.idle": "2022-11-22T19:39:33.923458Z",
     "shell.execute_reply": "2022-11-22T19:39:33.922747Z",
     "shell.execute_reply.started": "2022-11-22T19:39:33.913070Z"
    }
   },
   "outputs": [
    {
     "data": {
      "text/plain": [
       "count    49724.000000\n",
       "mean         0.203470\n",
       "std          0.082468\n",
       "min          0.000000\n",
       "25%          0.136400\n",
       "50%          0.199000\n",
       "75%          0.270000\n",
       "max          0.360000\n",
       "Name: BorrowerRate, dtype: float64"
      ]
     },
     "execution_count": 51,
     "metadata": {},
     "output_type": "execute_result"
    }
   ],
   "source": [
    "df_historical[\"BorrowerRate\"].describe()"
   ]
  },
  {
   "cell_type": "markdown",
   "metadata": {
    "_cell_guid": "09f0b9ff-cafd-6733-95f2-71e46808edcf",
    "_uuid": "15fc9a92108bace7f0581ba26fd4100708746268"
   },
   "source": [
    "The mean interest rate (without any fees) for all Prosper loans is a fairly substantial 20.35%. From my experience and a quick google, that is roughly equivalent to that of a credit card. The standard deviation is 8.25% however, meaning that the lowest 25% of borrowers are paying a much more reasonable 13.64%, but that the top 25% of borrowers are paying 27.00% and more, before fees!"
   ]
  },
  {
   "cell_type": "code",
   "execution_count": 52,
   "metadata": {
    "_cell_guid": "cfa088ad-7c07-bd09-fe8c-8e23607a5625",
    "_uuid": "fd965baf91aaa1373cceb44e9cb6157c7065f51d",
    "execution": {
     "iopub.execute_input": "2022-11-22T19:39:40.495595Z",
     "iopub.status.busy": "2022-11-22T19:39:40.494968Z",
     "iopub.status.idle": "2022-11-22T19:39:41.087258Z",
     "shell.execute_reply": "2022-11-22T19:39:41.086740Z",
     "shell.execute_reply.started": "2022-11-22T19:39:40.495524Z"
    }
   },
   "outputs": [
    {
     "data": {
      "text/plain": [
       "<matplotlib.axes._subplots.AxesSubplot at 0x7fcc905d8da0>"
      ]
     },
     "execution_count": 52,
     "metadata": {},
     "output_type": "execute_result"
    },
    {
     "data": {
      "image/png": "[encoded data removed]",
      "text/plain": [
       "<matplotlib.figure.Figure at 0x7fcc91266588>"
      ]
     },
     "metadata": {},
     "output_type": "display_data"
    }
   ],
   "source": [
    "sns.boxplot(x=\"CreditScore\", y='BorrowerRate', hue='LoanStatus', data=df_historical)"
   ]
  },
  {
   "cell_type": "markdown",
   "metadata": {
    "_cell_guid": "eec4e30b-c1d7-ae00-57a2-fa41555eff66",
    "_uuid": "5e484cca400127154fff8a9c61683bd3689af066"
   },
   "source": [
    "Generally, loans that default have a higher interest rate than loans that are paid completely, even when controlling for credit score. That makes sense, but it's still really cool to see in the chart above."
   ]
  },
  {
   "cell_type": "markdown",
   "metadata": {
    "_cell_guid": "63e2ca00-8fd5-b8d7-5c28-24a1164dd5f5",
    "_uuid": "82c3469325651b4532859e0537852597f4a9ebac"
   },
   "source": [
    "Right, so we've had the chance to take a look at some variables and their relationship to default. It seems there are a lot of good potential features available to us, although some of them are categorical and will need some work before we can use them in all of our classifiers."
   ]
  },
  {
   "cell_type": "markdown",
   "metadata": {
    "_cell_guid": "8cc9de78-9c92-3c16-44e2-a4d94be70ac1",
    "_uuid": "3034e9a15e1933b317436d2d2a1037dad56eb128"
   },
   "source": [
    "### Dimensionality reduction: part 2 <a class=\"anchor\" id=\"reduce2\"></a>"
   ]
  },
  {
   "cell_type": "code",
   "execution_count": 53,
   "metadata": {
    "_cell_guid": "e26a9d35-87f6-80be-6542-f1aa9572d3e5",
    "_uuid": "7d0a149d54ebc47afe9fe9619d6ec7a01da5f75c",
    "execution": {
     "iopub.execute_input": "2022-11-22T19:39:46.133787Z",
     "iopub.status.busy": "2022-11-22T19:39:46.133248Z",
     "iopub.status.idle": "2022-11-22T19:39:46.312905Z",
     "shell.execute_reply": "2022-11-22T19:39:46.312365Z",
     "shell.execute_reply.started": "2022-11-22T19:39:46.133714Z"
    }
   },
   "outputs": [
    {
     "data": {
      "text/html": [
       "<div>\n",
       "<style>\n",
       "    .dataframe thead tr:only-child th {\n",
       "        text-align: right;\n",
       "    }\n",
       "\n",
       "    .dataframe thead th {\n",
       "        text-align: left;\n",
       "    }\n",
       "\n",
       "    .dataframe tbody tr th {\n",
       "        vertical-align: top;\n",
       "    }\n",
       "</style>\n",
       "<table border=\"1\" class=\"dataframe\">\n",
       "  <thead>\n",
       "    <tr style=\"text-align: right;\">\n",
       "      <th></th>\n",
       "      <th>Term</th>\n",
       "      <th>LoanStatus</th>\n",
       "      <th>BorrowerAPR</th>\n",
       "      <th>BorrowerRate</th>\n",
       "      <th>LenderYield</th>\n",
       "      <th>EstimatedEffectiveYield</th>\n",
       "      <th>EstimatedLoss</th>\n",
       "      <th>EstimatedReturn</th>\n",
       "      <th>ProsperRating (numeric)</th>\n",
       "      <th>ProsperScore</th>\n",
       "      <th>CreditScore</th>\n",
       "      <th>CurrentCreditLines</th>\n",
       "      <th>OpenCreditLines</th>\n",
       "      <th>TotalCreditLinespast7years</th>\n",
       "      <th>OpenRevolvingAccounts</th>\n",
       "      <th>OpenRevolvingMonthlyPayment</th>\n",
       "      <th>InquiriesLast6Months</th>\n",
       "      <th>TotalInquiries</th>\n",
       "      <th>CurrentDelinquencies</th>\n",
       "      <th>AmountDelinquent</th>\n",
       "      <th>DelinquenciesLast7Years</th>\n",
       "      <th>PublicRecordsLast10Years</th>\n",
       "      <th>PublicRecordsLast12Months</th>\n",
       "      <th>RevolvingCreditBalance</th>\n",
       "      <th>BankcardUtilization</th>\n",
       "      <th>AvailableBankcardCredit</th>\n",
       "      <th>TotalTrades</th>\n",
       "      <th>TradesNeverDelinquent (percentage)</th>\n",
       "      <th>TradesOpenedLast6Months</th>\n",
       "      <th>DebtToIncomeRatio</th>\n",
       "      <th>StatedMonthlyIncome</th>\n",
       "      <th>TotalProsperLoans</th>\n",
       "      <th>TotalProsperPaymentsBilled</th>\n",
       "      <th>OnTimeProsperPayments</th>\n",
       "      <th>ProsperPaymentsLessThanOneMonthLate</th>\n",
       "      <th>ProsperPaymentsOneMonthPlusLate</th>\n",
       "      <th>ProsperPrincipalBorrowed</th>\n",
       "      <th>ProsperPrincipalOutstanding</th>\n",
       "      <th>LoanOriginalAmount</th>\n",
       "      <th>MonthlyLoanPayment</th>\n",
       "      <th>PercentFunded</th>\n",
       "      <th>Recommendations</th>\n",
       "      <th>InvestmentFromFriendsCount</th>\n",
       "      <th>InvestmentFromFriendsAmount</th>\n",
       "      <th>Investors</th>\n",
       "    </tr>\n",
       "  </thead>\n",
       "  <tbody>\n",
       "    <tr>\n",
       "      <th>count</th>\n",
       "      <td>49724.000000</td>\n",
       "      <td>49724.000000</td>\n",
       "      <td>49724.000000</td>\n",
       "      <td>49724.000000</td>\n",
       "      <td>49724.000000</td>\n",
       "      <td>49724.000000</td>\n",
       "      <td>49724.000000</td>\n",
       "      <td>49724.000000</td>\n",
       "      <td>49724.000000</td>\n",
       "      <td>49724.000000</td>\n",
       "      <td>49724.000000</td>\n",
       "      <td>49724.000000</td>\n",
       "      <td>49724.000000</td>\n",
       "      <td>49724.000000</td>\n",
       "      <td>49724.000000</td>\n",
       "      <td>49724.000000</td>\n",
       "      <td>49724.000000</td>\n",
       "      <td>49724.000000</td>\n",
       "      <td>49724.000000</td>\n",
       "      <td>49724.000000</td>\n",
       "      <td>49724.000000</td>\n",
       "      <td>49724.000000</td>\n",
       "      <td>49724.000000</td>\n",
       "      <td>4.972400e+04</td>\n",
       "      <td>49724.000000</td>\n",
       "      <td>49724.000000</td>\n",
       "      <td>49724.000000</td>\n",
       "      <td>49724.000000</td>\n",
       "      <td>49724.000000</td>\n",
       "      <td>49724.000000</td>\n",
       "      <td>49724.000000</td>\n",
       "      <td>49724.000000</td>\n",
       "      <td>49724.000000</td>\n",
       "      <td>49724.000000</td>\n",
       "      <td>49724.000000</td>\n",
       "      <td>49724.000000</td>\n",
       "      <td>49724.000000</td>\n",
       "      <td>49724.000000</td>\n",
       "      <td>49724.000000</td>\n",
       "      <td>49724.000000</td>\n",
       "      <td>49724.000000</td>\n",
       "      <td>49724.000000</td>\n",
       "      <td>49724.000000</td>\n",
       "      <td>49724.000000</td>\n",
       "      <td>49724.00000</td>\n",
       "    </tr>\n",
       "    <tr>\n",
       "      <th>mean</th>\n",
       "      <td>37.383316</td>\n",
       "      <td>0.674322</td>\n",
       "      <td>0.227630</td>\n",
       "      <td>0.203470</td>\n",
       "      <td>0.193209</td>\n",
       "      <td>0.171487</td>\n",
       "      <td>0.084773</td>\n",
       "      <td>0.099849</td>\n",
       "      <td>3.795129</td>\n",
       "      <td>6.098906</td>\n",
       "      <td>682.712171</td>\n",
       "      <td>9.586819</td>\n",
       "      <td>8.366242</td>\n",
       "      <td>25.789578</td>\n",
       "      <td>6.411210</td>\n",
       "      <td>347.684177</td>\n",
       "      <td>1.798287</td>\n",
       "      <td>6.556894</td>\n",
       "      <td>0.643914</td>\n",
       "      <td>1066.158435</td>\n",
       "      <td>4.143170</td>\n",
       "      <td>0.311178</td>\n",
       "      <td>0.023369</td>\n",
       "      <td>1.569520e+04</td>\n",
       "      <td>0.532345</td>\n",
       "      <td>10765.711789</td>\n",
       "      <td>21.844542</td>\n",
       "      <td>0.857704</td>\n",
       "      <td>0.907047</td>\n",
       "      <td>5.390154</td>\n",
       "      <td>5122.985416</td>\n",
       "      <td>0.301364</td>\n",
       "      <td>4.558624</td>\n",
       "      <td>4.412779</td>\n",
       "      <td>0.134040</td>\n",
       "      <td>0.011705</td>\n",
       "      <td>1617.444157</td>\n",
       "      <td>543.321921</td>\n",
       "      <td>6527.303495</td>\n",
       "      <td>232.774829</td>\n",
       "      <td>0.998274</td>\n",
       "      <td>0.099228</td>\n",
       "      <td>0.051022</td>\n",
       "      <td>37.083268</td>\n",
       "      <td>109.01818</td>\n",
       "    </tr>\n",
       "    <tr>\n",
       "      <th>std</th>\n",
       "      <td>8.200240</td>\n",
       "      <td>0.468632</td>\n",
       "      <td>0.089797</td>\n",
       "      <td>0.082468</td>\n",
       "      <td>0.082052</td>\n",
       "      <td>0.079151</td>\n",
       "      <td>0.042269</td>\n",
       "      <td>0.058222</td>\n",
       "      <td>1.365905</td>\n",
       "      <td>1.759049</td>\n",
       "      <td>66.713278</td>\n",
       "      <td>5.570450</td>\n",
       "      <td>4.980212</td>\n",
       "      <td>14.263379</td>\n",
       "      <td>4.454619</td>\n",
       "      <td>450.554180</td>\n",
       "      <td>2.739781</td>\n",
       "      <td>7.182246</td>\n",
       "      <td>2.000398</td>\n",
       "      <td>6717.698686</td>\n",
       "      <td>10.026401</td>\n",
       "      <td>0.744631</td>\n",
       "      <td>0.179542</td>\n",
       "      <td>3.380213e+04</td>\n",
       "      <td>0.349553</td>\n",
       "      <td>21926.061700</td>\n",
       "      <td>12.414067</td>\n",
       "      <td>0.172177</td>\n",
       "      <td>1.235013</td>\n",
       "      <td>47.175930</td>\n",
       "      <td>5695.264678</td>\n",
       "      <td>0.645141</td>\n",
       "      <td>11.410502</td>\n",
       "      <td>11.066557</td>\n",
       "      <td>1.105551</td>\n",
       "      <td>0.258911</td>\n",
       "      <td>4286.493397</td>\n",
       "      <td>1886.611584</td>\n",
       "      <td>5270.558892</td>\n",
       "      <td>186.245160</td>\n",
       "      <td>0.019836</td>\n",
       "      <td>0.476979</td>\n",
       "      <td>0.344454</td>\n",
       "      <td>443.751112</td>\n",
       "      <td>111.41890</td>\n",
       "    </tr>\n",
       "    <tr>\n",
       "      <th>min</th>\n",
       "      <td>12.000000</td>\n",
       "      <td>0.000000</td>\n",
       "      <td>0.006530</td>\n",
       "      <td>0.000000</td>\n",
       "      <td>-0.010000</td>\n",
       "      <td>-0.182700</td>\n",
       "      <td>0.004900</td>\n",
       "      <td>-0.182700</td>\n",
       "      <td>1.000000</td>\n",
       "      <td>1.000000</td>\n",
       "      <td>520.000000</td>\n",
       "      <td>0.000000</td>\n",
       "      <td>0.000000</td>\n",
       "      <td>2.000000</td>\n",
       "      <td>0.000000</td>\n",
       "      <td>0.000000</td>\n",
       "      <td>0.000000</td>\n",
       "      <td>0.000000</td>\n",
       "      <td>0.000000</td>\n",
       "      <td>0.000000</td>\n",
       "      <td>0.000000</td>\n",
       "      <td>0.000000</td>\n",
       "      <td>0.000000</td>\n",
       "      <td>0.000000e+00</td>\n",
       "      <td>0.000000</td>\n",
       "      <td>0.000000</td>\n",
       "      <td>0.000000</td>\n",
       "      <td>0.000000</td>\n",
       "      <td>0.000000</td>\n",
       "      <td>0.000000</td>\n",
       "      <td>0.000000</td>\n",
       "      <td>0.000000</td>\n",
       "      <td>0.000000</td>\n",
       "      <td>0.000000</td>\n",
       "      <td>0.000000</td>\n",
       "      <td>0.000000</td>\n",
       "      <td>0.000000</td>\n",
       "      <td>0.000000</td>\n",
       "      <td>1000.000000</td>\n",
       "      <td>0.000000</td>\n",
       "      <td>0.700000</td>\n",
       "      <td>0.000000</td>\n",
       "      <td>0.000000</td>\n",
       "      <td>0.000000</td>\n",
       "      <td>1.00000</td>\n",
       "    </tr>\n",
       "    <tr>\n",
       "      <th>25%</th>\n",
       "      <td>36.000000</td>\n",
       "      <td>0.000000</td>\n",
       "      <td>0.153240</td>\n",
       "      <td>0.136400</td>\n",
       "      <td>0.125600</td>\n",
       "      <td>0.110200</td>\n",
       "      <td>0.072400</td>\n",
       "      <td>0.060300</td>\n",
       "      <td>3.000000</td>\n",
       "      <td>6.000000</td>\n",
       "      <td>640.000000</td>\n",
       "      <td>6.000000</td>\n",
       "      <td>5.000000</td>\n",
       "      <td>15.000000</td>\n",
       "      <td>3.000000</td>\n",
       "      <td>78.000000</td>\n",
       "      <td>0.000000</td>\n",
       "      <td>2.000000</td>\n",
       "      <td>0.000000</td>\n",
       "      <td>0.000000</td>\n",
       "      <td>0.000000</td>\n",
       "      <td>0.000000</td>\n",
       "      <td>0.000000</td>\n",
       "      <td>1.647000e+03</td>\n",
       "      <td>0.220000</td>\n",
       "      <td>512.000000</td>\n",
       "      <td>13.000000</td>\n",
       "      <td>0.770000</td>\n",
       "      <td>0.000000</td>\n",
       "      <td>0.120000</td>\n",
       "      <td>2916.666667</td>\n",
       "      <td>0.000000</td>\n",
       "      <td>0.000000</td>\n",
       "      <td>0.000000</td>\n",
       "      <td>0.000000</td>\n",
       "      <td>0.000000</td>\n",
       "      <td>0.000000</td>\n",
       "      <td>0.000000</td>\n",
       "      <td>3000.000000</td>\n",
       "      <td>106.990000</td>\n",
       "      <td>1.000000</td>\n",
       "      <td>0.000000</td>\n",
       "      <td>0.000000</td>\n",
       "      <td>0.000000</td>\n",
       "      <td>33.00000</td>\n",
       "    </tr>\n",
       "    <tr>\n",
       "      <th>50%</th>\n",
       "      <td>36.000000</td>\n",
       "      <td>1.000000</td>\n",
       "      <td>0.222370</td>\n",
       "      <td>0.199000</td>\n",
       "      <td>0.188000</td>\n",
       "      <td>0.160850</td>\n",
       "      <td>0.072400</td>\n",
       "      <td>0.102500</td>\n",
       "      <td>4.000000</td>\n",
       "      <td>6.000000</td>\n",
       "      <td>680.000000</td>\n",
       "      <td>9.000000</td>\n",
       "      <td>8.000000</td>\n",
       "      <td>24.000000</td>\n",
       "      <td>6.000000</td>\n",
       "      <td>209.000000</td>\n",
       "      <td>1.000000</td>\n",
       "      <td>5.000000</td>\n",
       "      <td>0.000000</td>\n",
       "      <td>0.000000</td>\n",
       "      <td>0.000000</td>\n",
       "      <td>0.000000</td>\n",
       "      <td>0.000000</td>\n",
       "      <td>6.113500e+03</td>\n",
       "      <td>0.570000</td>\n",
       "      <td>3231.000000</td>\n",
       "      <td>20.000000</td>\n",
       "      <td>0.920000</td>\n",
       "      <td>1.000000</td>\n",
       "      <td>0.200000</td>\n",
       "      <td>4250.000000</td>\n",
       "      <td>0.000000</td>\n",
       "      <td>0.000000</td>\n",
       "      <td>0.000000</td>\n",
       "      <td>0.000000</td>\n",
       "      <td>0.000000</td>\n",
       "      <td>0.000000</td>\n",
       "      <td>0.000000</td>\n",
       "      <td>5000.000000</td>\n",
       "      <td>173.710000</td>\n",
       "      <td>1.000000</td>\n",
       "      <td>0.000000</td>\n",
       "      <td>0.000000</td>\n",
       "      <td>0.000000</td>\n",
       "      <td>73.00000</td>\n",
       "    </tr>\n",
       "    <tr>\n",
       "      <th>75%</th>\n",
       "      <td>36.000000</td>\n",
       "      <td>1.000000</td>\n",
       "      <td>0.305130</td>\n",
       "      <td>0.270000</td>\n",
       "      <td>0.259900</td>\n",
       "      <td>0.236400</td>\n",
       "      <td>0.100000</td>\n",
       "      <td>0.136300</td>\n",
       "      <td>4.000000</td>\n",
       "      <td>7.000000</td>\n",
       "      <td>720.000000</td>\n",
       "      <td>13.000000</td>\n",
       "      <td>11.000000</td>\n",
       "      <td>34.000000</td>\n",
       "      <td>9.000000</td>\n",
       "      <td>447.000000</td>\n",
       "      <td>2.000000</td>\n",
       "      <td>8.000000</td>\n",
       "      <td>0.000000</td>\n",
       "      <td>0.000000</td>\n",
       "      <td>3.000000</td>\n",
       "      <td>0.000000</td>\n",
       "      <td>0.000000</td>\n",
       "      <td>1.619825e+04</td>\n",
       "      <td>0.850000</td>\n",
       "      <td>11950.000000</td>\n",
       "      <td>29.000000</td>\n",
       "      <td>1.000000</td>\n",
       "      <td>1.000000</td>\n",
       "      <td>0.310000</td>\n",
       "      <td>6250.000000</td>\n",
       "      <td>0.000000</td>\n",
       "      <td>0.000000</td>\n",
       "      <td>0.000000</td>\n",
       "      <td>0.000000</td>\n",
       "      <td>0.000000</td>\n",
       "      <td>0.000000</td>\n",
       "      <td>0.000000</td>\n",
       "      <td>8500.000000</td>\n",
       "      <td>312.390000</td>\n",
       "      <td>1.000000</td>\n",
       "      <td>0.000000</td>\n",
       "      <td>0.000000</td>\n",
       "      <td>0.000000</td>\n",
       "      <td>148.00000</td>\n",
       "    </tr>\n",
       "    <tr>\n",
       "      <th>max</th>\n",
       "      <td>60.000000</td>\n",
       "      <td>1.000000</td>\n",
       "      <td>0.423950</td>\n",
       "      <td>0.360000</td>\n",
       "      <td>0.340000</td>\n",
       "      <td>0.340850</td>\n",
       "      <td>0.366000</td>\n",
       "      <td>0.283700</td>\n",
       "      <td>7.000000</td>\n",
       "      <td>11.000000</td>\n",
       "      <td>880.000000</td>\n",
       "      <td>59.000000</td>\n",
       "      <td>51.000000</td>\n",
       "      <td>136.000000</td>\n",
       "      <td>51.000000</td>\n",
       "      <td>14985.000000</td>\n",
       "      <td>63.000000</td>\n",
       "      <td>158.000000</td>\n",
       "      <td>83.000000</td>\n",
       "      <td>444745.000000</td>\n",
       "      <td>99.000000</td>\n",
       "      <td>30.000000</td>\n",
       "      <td>7.000000</td>\n",
       "      <td>1.435667e+06</td>\n",
       "      <td>5.950000</td>\n",
       "      <td>646285.000000</td>\n",
       "      <td>126.000000</td>\n",
       "      <td>1.000000</td>\n",
       "      <td>20.000000</td>\n",
       "      <td>1130.900000</td>\n",
       "      <td>618547.833333</td>\n",
       "      <td>7.000000</td>\n",
       "      <td>120.000000</td>\n",
       "      <td>114.000000</td>\n",
       "      <td>42.000000</td>\n",
       "      <td>21.000000</td>\n",
       "      <td>72499.000000</td>\n",
       "      <td>23033.690000</td>\n",
       "      <td>35000.000000</td>\n",
       "      <td>2251.510000</td>\n",
       "      <td>1.000000</td>\n",
       "      <td>39.000000</td>\n",
       "      <td>33.000000</td>\n",
       "      <td>25000.000000</td>\n",
       "      <td>1189.00000</td>\n",
       "    </tr>\n",
       "  </tbody>\n",
       "</table>\n",
       "</div>"
      ],
      "text/plain": [
       "               Term    LoanStatus   BorrowerAPR  BorrowerRate   LenderYield  \\\n",
       "count  49724.000000  49724.000000  49724.000000  49724.000000  49724.000000   \n",
       "mean      37.383316      0.674322      0.227630      0.203470      0.193209   \n",
       "std        8.200240      0.468632      0.089797      0.082468      0.082052   \n",
       "min       12.000000      0.000000      0.006530      0.000000     -0.010000   \n",
       "25%       36.000000      0.000000      0.153240      0.136400      0.125600   \n",
       "50%       36.000000      1.000000      0.222370      0.199000      0.188000   \n",
       "75%       36.000000      1.000000      0.305130      0.270000      0.259900   \n",
       "max       60.000000      1.000000      0.423950      0.360000      0.340000   \n",
       "\n",
       "       EstimatedEffectiveYield  EstimatedLoss  EstimatedReturn  \\\n",
       "count             49724.000000   49724.000000     49724.000000   \n",
       "mean                  0.171487       0.084773         0.099849   \n",
       "std                   0.079151       0.042269         0.058222   \n",
       "min                  -0.182700       0.004900        -0.182700   \n",
       "25%                   0.110200       0.072400         0.060300   \n",
       "50%                   0.160850       0.072400         0.102500   \n",
       "75%                   0.236400       0.100000         0.136300   \n",
       "max                   0.340850       0.366000         0.283700   \n",
       "\n",
       "       ProsperRating (numeric)  ProsperScore   CreditScore  \\\n",
       "count             49724.000000  49724.000000  49724.000000   \n",
       "mean                  3.795129      6.098906    682.712171   \n",
       "std                   1.365905      1.759049     66.713278   \n",
       "min                   1.000000      1.000000    520.000000   \n",
       "25%                   3.000000      6.000000    640.000000   \n",
       "50%                   4.000000      6.000000    680.000000   \n",
       "75%                   4.000000      7.000000    720.000000   \n",
       "max                   7.000000     11.000000    880.000000   \n",
       "\n",
       "       CurrentCreditLines  OpenCreditLines  TotalCreditLinespast7years  \\\n",
       "count        49724.000000     49724.000000                49724.000000   \n",
       "mean             9.586819         8.366242                   25.789578   \n",
       "std              5.570450         4.980212                   14.263379   \n",
       "min              0.000000         0.000000                    2.000000   \n",
       "25%              6.000000         5.000000                   15.000000   \n",
       "50%              9.000000         8.000000                   24.000000   \n",
       "75%             13.000000        11.000000                   34.000000   \n",
       "max             59.000000        51.000000                  136.000000   \n",
       "\n",
       "       OpenRevolvingAccounts  OpenRevolvingMonthlyPayment  \\\n",
       "count           49724.000000                 49724.000000   \n",
       "mean                6.411210                   347.684177   \n",
       "std                 4.454619                   450.554180   \n",
       "min                 0.000000                     0.000000   \n",
       "25%                 3.000000                    78.000000   \n",
       "50%                 6.000000                   209.000000   \n",
       "75%                 9.000000                   447.000000   \n",
       "max                51.000000                 14985.000000   \n",
       "\n",
       "       InquiriesLast6Months  TotalInquiries  CurrentDelinquencies  \\\n",
       "count          49724.000000    49724.000000          49724.000000   \n",
       "mean               1.798287        6.556894              0.643914   \n",
       "std                2.739781        7.182246              2.000398   \n",
       "min                0.000000        0.000000              0.000000   \n",
       "25%                0.000000        2.000000              0.000000   \n",
       "50%                1.000000        5.000000              0.000000   \n",
       "75%                2.000000        8.000000              0.000000   \n",
       "max               63.000000      158.000000             83.000000   \n",
       "\n",
       "       AmountDelinquent  DelinquenciesLast7Years  PublicRecordsLast10Years  \\\n",
       "count      49724.000000             49724.000000              49724.000000   \n",
       "mean        1066.158435                 4.143170                  0.311178   \n",
       "std         6717.698686                10.026401                  0.744631   \n",
       "min            0.000000                 0.000000                  0.000000   \n",
       "25%            0.000000                 0.000000                  0.000000   \n",
       "50%            0.000000                 0.000000                  0.000000   \n",
       "75%            0.000000                 3.000000                  0.000000   \n",
       "max       444745.000000                99.000000                 30.000000   \n",
       "\n",
       "       PublicRecordsLast12Months  RevolvingCreditBalance  BankcardUtilization  \\\n",
       "count               49724.000000            4.972400e+04         49724.000000   \n",
       "mean                    0.023369            1.569520e+04             0.532345   \n",
       "std                     0.179542            3.380213e+04             0.349553   \n",
       "min                     0.000000            0.000000e+00             0.000000   \n",
       "25%                     0.000000            1.647000e+03             0.220000   \n",
       "50%                     0.000000            6.113500e+03             0.570000   \n",
       "75%                     0.000000            1.619825e+04             0.850000   \n",
       "max                     7.000000            1.435667e+06             5.950000   \n",
       "\n",
       "       AvailableBankcardCredit   TotalTrades  \\\n",
       "count             49724.000000  49724.000000   \n",
       "mean              10765.711789     21.844542   \n",
       "std               21926.061700     12.414067   \n",
       "min                   0.000000      0.000000   \n",
       "25%                 512.000000     13.000000   \n",
       "50%                3231.000000     20.000000   \n",
       "75%               11950.000000     29.000000   \n",
       "max              646285.000000    126.000000   \n",
       "\n",
       "       TradesNeverDelinquent (percentage)  TradesOpenedLast6Months  \\\n",
       "count                        49724.000000             49724.000000   \n",
       "mean                             0.857704                 0.907047   \n",
       "std                              0.172177                 1.235013   \n",
       "min                              0.000000                 0.000000   \n",
       "25%                              0.770000                 0.000000   \n",
       "50%                              0.920000                 1.000000   \n",
       "75%                              1.000000                 1.000000   \n",
       "max                              1.000000                20.000000   \n",
       "\n",
       "       DebtToIncomeRatio  StatedMonthlyIncome  TotalProsperLoans  \\\n",
       "count       49724.000000         49724.000000       49724.000000   \n",
       "mean            5.390154          5122.985416           0.301364   \n",
       "std            47.175930          5695.264678           0.645141   \n",
       "min             0.000000             0.000000           0.000000   \n",
       "25%             0.120000          2916.666667           0.000000   \n",
       "50%             0.200000          4250.000000           0.000000   \n",
       "75%             0.310000          6250.000000           0.000000   \n",
       "max          1130.900000        618547.833333           7.000000   \n",
       "\n",
       "       TotalProsperPaymentsBilled  OnTimeProsperPayments  \\\n",
       "count                49724.000000           49724.000000   \n",
       "mean                     4.558624               4.412779   \n",
       "std                     11.410502              11.066557   \n",
       "min                      0.000000               0.000000   \n",
       "25%                      0.000000               0.000000   \n",
       "50%                      0.000000               0.000000   \n",
       "75%                      0.000000               0.000000   \n",
       "max                    120.000000             114.000000   \n",
       "\n",
       "       ProsperPaymentsLessThanOneMonthLate  ProsperPaymentsOneMonthPlusLate  \\\n",
       "count                         49724.000000                     49724.000000   \n",
       "mean                              0.134040                         0.011705   \n",
       "std                               1.105551                         0.258911   \n",
       "min                               0.000000                         0.000000   \n",
       "25%                               0.000000                         0.000000   \n",
       "50%                               0.000000                         0.000000   \n",
       "75%                               0.000000                         0.000000   \n",
       "max                              42.000000                        21.000000   \n",
       "\n",
       "       ProsperPrincipalBorrowed  ProsperPrincipalOutstanding  \\\n",
       "count              49724.000000                 49724.000000   \n",
       "mean                1617.444157                   543.321921   \n",
       "std                 4286.493397                  1886.611584   \n",
       "min                    0.000000                     0.000000   \n",
       "25%                    0.000000                     0.000000   \n",
       "50%                    0.000000                     0.000000   \n",
       "75%                    0.000000                     0.000000   \n",
       "max                72499.000000                 23033.690000   \n",
       "\n",
       "       LoanOriginalAmount  MonthlyLoanPayment  PercentFunded  Recommendations  \\\n",
       "count        49724.000000        49724.000000   49724.000000     49724.000000   \n",
       "mean          6527.303495          232.774829       0.998274         0.099228   \n",
       "std           5270.558892          186.245160       0.019836         0.476979   \n",
       "min           1000.000000            0.000000       0.700000         0.000000   \n",
       "25%           3000.000000          106.990000       1.000000         0.000000   \n",
       "50%           5000.000000          173.710000       1.000000         0.000000   \n",
       "75%           8500.000000          312.390000       1.000000         0.000000   \n",
       "max          35000.000000         2251.510000       1.000000        39.000000   \n",
       "\n",
       "       InvestmentFromFriendsCount  InvestmentFromFriendsAmount    Investors  \n",
       "count                49724.000000                 49724.000000  49724.00000  \n",
       "mean                     0.051022                    37.083268    109.01818  \n",
       "std                      0.344454                   443.751112    111.41890  \n",
       "min                      0.000000                     0.000000      1.00000  \n",
       "25%                      0.000000                     0.000000     33.00000  \n",
       "50%                      0.000000                     0.000000     73.00000  \n",
       "75%                      0.000000                     0.000000    148.00000  \n",
       "max                     33.000000                 25000.000000   1189.00000  "
      ]
     },
     "execution_count": 53,
     "metadata": {},
     "output_type": "execute_result"
    }
   ],
   "source": [
    "df_historical.describe()"
   ]
  },
  {
   "cell_type": "markdown",
   "metadata": {
    "_cell_guid": "2a47184a-7428-fa5d-8c1e-a5b9f8700caa",
    "_uuid": "ebffe13dad8045335e529b11e31bb8c4a6b6741c"
   },
   "source": [
    "I'm going to drop some further columns now that I don't think will help our model too much. Let me explain my thinking. The wide majority of loans were fully funded, and there are other variables (like Investors) capturing similar information, so I think it's safe to drop the PercentFunded variable. BorrowerAPR and LenderYield are both versions of BorrowerRate, just with fees included, so they're unnecessary. CreditGrade and ProsperRating (Alpha) are annoying categorical variables with many proxies already. IncomeRange is also a tricky data type and basically redundant. Occupation could be very interesting, but being such a broad categorical variable it would be incredibly difficult to use. Group affiliation could be an interesting line of inquiry, but I feel like that is probably best left to another investigation into Prosper's grouping practices. Finally, the estimated variables could be used as features, but I feel that since the entire point of this exercise is to outperform Prosper's estimates of risk, it is somewhat contradictory to use their precise estimates in our classifications. "
   ]
  },
  {
   "cell_type": "code",
   "execution_count": 54,
   "metadata": {
    "_cell_guid": "6a06a7c4-8f2f-65fc-2f44-dcd2cbd91940",
    "_uuid": "aee17f516ad1b5d650609c5a8cdcbfe795d860a6",
    "execution": {
     "iopub.execute_input": "2022-11-22T19:39:55.906843Z",
     "iopub.status.busy": "2022-11-22T19:39:55.906302Z",
     "iopub.status.idle": "2022-11-22T19:39:56.046632Z",
     "shell.execute_reply": "2022-11-22T19:39:56.046053Z",
     "shell.execute_reply.started": "2022-11-22T19:39:55.906775Z"
    }
   },
   "outputs": [
    {
     "name": "stdout",
     "output_type": "stream",
     "text": [
      "<class 'pandas.core.frame.DataFrame'>\n",
      "Index: 49724 entries, 0 to 113935\n",
      "Data columns (total 45 columns):\n",
      "Term                                   49724 non-null int64\n",
      "LoanStatus                             49724 non-null int64\n",
      "BorrowerRate                           49724 non-null float64\n",
      "ProsperRating (numeric)                49724 non-null float64\n",
      "ProsperScore                           49724 non-null float64\n",
      "ListingCategory                        49724 non-null object\n",
      "BorrowerState                          49724 non-null object\n",
      "EmploymentStatus                       49724 non-null object\n",
      "IsBorrowerHomeowner                    49724 non-null bool\n",
      "CreditScore                            49724 non-null float64\n",
      "FirstRecordedCreditLine                49724 non-null object\n",
      "CurrentCreditLines                     49724 non-null float64\n",
      "OpenCreditLines                        49724 non-null float64\n",
      "TotalCreditLinespast7years             49724 non-null float64\n",
      "OpenRevolvingAccounts                  49724 non-null int64\n",
      "OpenRevolvingMonthlyPayment            49724 non-null float64\n",
      "InquiriesLast6Months                   49724 non-null float64\n",
      "TotalInquiries                         49724 non-null float64\n",
      "CurrentDelinquencies                   49724 non-null float64\n",
      "AmountDelinquent                       49724 non-null float64\n",
      "DelinquenciesLast7Years                49724 non-null float64\n",
      "PublicRecordsLast10Years               49724 non-null float64\n",
      "PublicRecordsLast12Months              49724 non-null float64\n",
      "RevolvingCreditBalance                 49724 non-null float64\n",
      "BankcardUtilization                    49724 non-null float64\n",
      "AvailableBankcardCredit                49724 non-null float64\n",
      "TotalTrades                            49724 non-null float64\n",
      "TradesNeverDelinquent (percentage)     49724 non-null float64\n",
      "TradesOpenedLast6Months                49724 non-null float64\n",
      "DebtToIncomeRatio                      49724 non-null float64\n",
      "IncomeVerifiable                       49724 non-null bool\n",
      "StatedMonthlyIncome                    49724 non-null float64\n",
      "TotalProsperLoans                      49724 non-null float64\n",
      "TotalProsperPaymentsBilled             49724 non-null float64\n",
      "OnTimeProsperPayments                  49724 non-null float64\n",
      "ProsperPaymentsLessThanOneMonthLate    49724 non-null float64\n",
      "ProsperPaymentsOneMonthPlusLate        49724 non-null float64\n",
      "ProsperPrincipalBorrowed               49724 non-null float64\n",
      "ProsperPrincipalOutstanding            49724 non-null float64\n",
      "LoanOriginalAmount                     49724 non-null int64\n",
      "MonthlyLoanPayment                     49724 non-null float64\n",
      "Recommendations                        49724 non-null int64\n",
      "InvestmentFromFriendsCount             49724 non-null int64\n",
      "InvestmentFromFriendsAmount            49724 non-null float64\n",
      "Investors                              49724 non-null int64\n",
      "dtypes: bool(2), float64(32), int64(7), object(4)\n",
      "memory usage: 18.0+ MB\n"
     ]
    },
    {
     "name": "stderr",
     "output_type": "stream",
     "text": [
      "/opt/conda/lib/python3.6/site-packages/ipykernel_launcher.py:3: SettingWithCopyWarning: \n",
      "A value is trying to be set on a copy of a slice from a DataFrame\n",
      "\n",
      "See the caveats in the documentation: http://pandas.pydata.org/pandas-docs/stable/indexing.html#indexing-view-versus-copy\n",
      "  This is separate from the ipykernel package so we can avoid doing imports until\n"
     ]
    }
   ],
   "source": [
    "df_historical.drop([\"CreditGrade\", \"BorrowerAPR\", \"LenderYield\", \"EstimatedEffectiveYield\", \"EstimatedLoss\", \"EstimatedReturn\",\n",
    "                 \"ProsperRating (Alpha)\", \"Occupation\", \"CurrentlyInGroup\", \"GroupKey\", \"IncomeRange\", \"PercentFunded\"], axis=1,\n",
    "                inplace=True)\n",
    "\n",
    "df_historical.info()"
   ]
  },
  {
   "cell_type": "markdown",
   "metadata": {
    "_cell_guid": "7a8d32cf-b4c4-ced1-cf0f-3f727806bb43",
    "_uuid": "ffdb1e70a796fb57811e07d28656cad150018f06"
   },
   "source": [
    "### Preprocessing: fixing data types <a class=\"anchor\" id=\"dtypes\"></a>"
   ]
  },
  {
   "cell_type": "markdown",
   "metadata": {
    "_cell_guid": "031d7611-1292-9f6d-078b-efe33249fee7",
    "_uuid": "31f9ed2aa8b12fb93fb38f188578e967b6942049"
   },
   "source": [
    "Let's quickly convert our boolean values into 0s and 1s for consistency's sake."
   ]
  },
  {
   "cell_type": "code",
   "execution_count": 55,
   "metadata": {
    "_cell_guid": "88d21d9d-1db2-34b0-7468-06d7c22555b7",
    "_uuid": "9376601e53616097858f0ab2e5759d55cfef532c",
    "execution": {
     "iopub.execute_input": "2022-11-22T19:40:04.345906Z",
     "iopub.status.busy": "2022-11-22T19:40:04.345226Z",
     "iopub.status.idle": "2022-11-22T19:40:04.532629Z",
     "shell.execute_reply": "2022-11-22T19:40:04.531772Z",
     "shell.execute_reply.started": "2022-11-22T19:40:04.345812Z"
    }
   },
   "outputs": [
    {
     "name": "stderr",
     "output_type": "stream",
     "text": [
      "/opt/conda/lib/python3.6/site-packages/ipykernel_launcher.py:1: SettingWithCopyWarning: \n",
      "A value is trying to be set on a copy of a slice from a DataFrame.\n",
      "Try using .loc[row_indexer,col_indexer] = value instead\n",
      "\n",
      "See the caveats in the documentation: http://pandas.pydata.org/pandas-docs/stable/indexing.html#indexing-view-versus-copy\n",
      "  \"\"\"Entry point for launching an IPython kernel.\n",
      "/opt/conda/lib/python3.6/site-packages/ipykernel_launcher.py:2: SettingWithCopyWarning: \n",
      "A value is trying to be set on a copy of a slice from a DataFrame.\n",
      "Try using .loc[row_indexer,col_indexer] = value instead\n",
      "\n",
      "See the caveats in the documentation: http://pandas.pydata.org/pandas-docs/stable/indexing.html#indexing-view-versus-copy\n",
      "  \n"
     ]
    },
    {
     "data": {
      "text/plain": [
       "(0     1\n",
       " 11    0\n",
       " 12    0\n",
       " 15    1\n",
       " 21    0\n",
       " 23    0\n",
       " 26    0\n",
       " 27    1\n",
       " 30    0\n",
       " 33    0\n",
       " Name: IsBorrowerHomeowner, dtype: int64, 0     1\n",
       " 11    1\n",
       " 12    1\n",
       " 15    1\n",
       " 21    1\n",
       " 23    1\n",
       " 26    1\n",
       " 27    1\n",
       " 30    1\n",
       " 33    1\n",
       " Name: IncomeVerifiable, dtype: int64)"
      ]
     },
     "execution_count": 55,
     "metadata": {},
     "output_type": "execute_result"
    }
   ],
   "source": [
    "df_historical[\"IsBorrowerHomeowner\"] = df_historical[\"IsBorrowerHomeowner\"].astype(int)\n",
    "df_historical[\"IncomeVerifiable\"] = df_historical[\"IncomeVerifiable\"].astype(int)\n",
    "\n",
    "df_historical[\"IsBorrowerHomeowner\"][:10], df_historical[\"IncomeVerifiable\"][:10]"
   ]
  },
  {
   "cell_type": "markdown",
   "metadata": {
    "_cell_guid": "235a2f80-1d55-f1bf-12c7-3bc2514e4c07",
    "_uuid": "a4f5cce0b4a6f2748001b1ddd4f897b0da1196fc"
   },
   "source": [
    "Lovely. Now, let's turn our attention to those powerful categorical variables. Of the 4 remaining variables of type \"object\", one stands out: FirstRecordedCreditLine. It could be a datetime object, let's take a look."
   ]
  },
  {
   "cell_type": "code",
   "execution_count": 56,
   "metadata": {
    "_cell_guid": "7afe11f1-c46a-bd99-28a6-17548efbc065",
    "_uuid": "925b460a53ccffa59ebc40d144e73a9e1a18ec6c",
    "execution": {
     "iopub.execute_input": "2022-11-22T19:40:09.813246Z",
     "iopub.status.busy": "2022-11-22T19:40:09.812755Z",
     "iopub.status.idle": "2022-11-22T19:40:09.818730Z",
     "shell.execute_reply": "2022-11-22T19:40:09.818097Z",
     "shell.execute_reply.started": "2022-11-22T19:40:09.813205Z"
    }
   },
   "outputs": [
    {
     "data": {
      "text/plain": [
       "0     2001-10-11 00:00:00\n",
       "11    2000-11-13 00:00:00\n",
       "12    1996-11-09 00:00:00\n",
       "15    1999-03-08 00:00:00\n",
       "21    2003-06-20 00:00:00\n",
       "23    1998-06-09 00:00:00\n",
       "26    1975-10-26 00:00:00\n",
       "27    2000-04-11 00:00:00\n",
       "30    1988-06-01 00:00:00\n",
       "33    2003-12-01 00:00:00\n",
       "Name: FirstRecordedCreditLine, dtype: object"
      ]
     },
     "execution_count": 56,
     "metadata": {},
     "output_type": "execute_result"
    }
   ],
   "source": [
    "df_historical[\"FirstRecordedCreditLine\"][:10]"
   ]
  },
  {
   "cell_type": "markdown",
   "metadata": {
    "_cell_guid": "253cede5-4bfe-fdcb-0d57-965e9d4963a4",
    "_uuid": "1f5499fb9911905b17bc179c73376906328450c4"
   },
   "source": [
    "The length of credit history could potentially be a very powerful feature so I'd like to keep this if possible. Let's try turning this variable into a \"YearsWithCredit\" variable that will take continuous integer values rather than being a datetime object. This data comes from 2014, so let's compare the earliest recorded credit lines to 2014."
   ]
  },
  {
   "cell_type": "code",
   "execution_count": 57,
   "metadata": {
    "_cell_guid": "9fe1ac5f-fae9-bc30-52e2-7f20794bb5bf",
    "_uuid": "67ccdefbb5da5bc873dfc167c3ef1f90de6207ab",
    "execution": {
     "iopub.execute_input": "2022-11-22T19:40:14.633224Z",
     "iopub.status.busy": "2022-11-22T19:40:14.632702Z",
     "iopub.status.idle": "2022-11-22T19:40:14.838671Z",
     "shell.execute_reply": "2022-11-22T19:40:14.838203Z",
     "shell.execute_reply.started": "2022-11-22T19:40:14.633180Z"
    }
   },
   "outputs": [
    {
     "name": "stderr",
     "output_type": "stream",
     "text": [
      "/opt/conda/lib/python3.6/site-packages/ipykernel_launcher.py:3: SettingWithCopyWarning: \n",
      "A value is trying to be set on a copy of a slice from a DataFrame.\n",
      "Try using .loc[row_indexer,col_indexer] = value instead\n",
      "\n",
      "See the caveats in the documentation: http://pandas.pydata.org/pandas-docs/stable/indexing.html#indexing-view-versus-copy\n",
      "  This is separate from the ipykernel package so we can avoid doing imports until\n",
      "/opt/conda/lib/python3.6/site-packages/ipykernel_launcher.py:5: SettingWithCopyWarning: \n",
      "A value is trying to be set on a copy of a slice from a DataFrame\n",
      "\n",
      "See the caveats in the documentation: http://pandas.pydata.org/pandas-docs/stable/indexing.html#indexing-view-versus-copy\n",
      "  \"\"\"\n"
     ]
    },
    {
     "data": {
      "text/plain": [
       "0     13\n",
       "11    14\n",
       "12    18\n",
       "15    15\n",
       "21    11\n",
       "23    16\n",
       "26    39\n",
       "27    14\n",
       "30    26\n",
       "33    11\n",
       "Name: YearsWithCredit, dtype: int64"
      ]
     },
     "execution_count": 57,
     "metadata": {},
     "output_type": "execute_result"
    }
   ],
   "source": [
    "first_credit_year = df_historical[\"FirstRecordedCreditLine\"].str[:4]\n",
    "\n",
    "df_historical[\"YearsWithCredit\"] = 2014 - pd.to_numeric(first_credit_year)\n",
    "\n",
    "df_historical.drop(\"FirstRecordedCreditLine\", axis=1, inplace=True)\n",
    "\n",
    "df_historical[\"YearsWithCredit\"][:10]"
   ]
  },
  {
   "cell_type": "markdown",
   "metadata": {
    "_cell_guid": "05582c79-1be9-93b2-6df6-1f875e1a844f",
    "_uuid": "e0003450da13a7231a848ec8471342c4933700f6"
   },
   "source": [
    "We're left with 3 variables of type \"object\" that need to be cleaned up: ListingCategory, BorrowerState and EmploymentStatus. Let's create dummy variables for each of these and join them to the high_yield dataframe. BorrowerState has, of course, 50 possible values (52 actually, counting DC and \"Unknown\"), so with that one I'm first going to group states into a few bins depending on their rates of default."
   ]
  },
  {
   "cell_type": "code",
   "execution_count": 58,
   "metadata": {
    "_cell_guid": "3e4a3ba0-3a47-3174-37aa-d24a7710f8f2",
    "_uuid": "1ead0bf41ee62ba638ef476b3409ec2d3eba5d36",
    "execution": {
     "iopub.execute_input": "2022-11-22T19:40:35.313821Z",
     "iopub.status.busy": "2022-11-22T19:40:35.313428Z",
     "iopub.status.idle": "2022-11-22T19:40:35.396392Z",
     "shell.execute_reply": "2022-11-22T19:40:35.395798Z",
     "shell.execute_reply.started": "2022-11-22T19:40:35.313775Z"
    }
   },
   "outputs": [
    {
     "name": "stdout",
     "output_type": "stream",
     "text": [
      "<class 'pandas.core.frame.DataFrame'>\n",
      "Index: 49724 entries, 0 to 113935\n",
      "Data columns (total 65 columns):\n",
      "Term                                   49724 non-null int64\n",
      "LoanStatus                             49724 non-null int64\n",
      "BorrowerRate                           49724 non-null float64\n",
      "ProsperRating (numeric)                49724 non-null float64\n",
      "ProsperScore                           49724 non-null float64\n",
      "BorrowerState                          49724 non-null object\n",
      "EmploymentStatus                       49724 non-null object\n",
      "IsBorrowerHomeowner                    49724 non-null int64\n",
      "CreditScore                            49724 non-null float64\n",
      "CurrentCreditLines                     49724 non-null float64\n",
      "OpenCreditLines                        49724 non-null float64\n",
      "TotalCreditLinespast7years             49724 non-null float64\n",
      "OpenRevolvingAccounts                  49724 non-null int64\n",
      "OpenRevolvingMonthlyPayment            49724 non-null float64\n",
      "InquiriesLast6Months                   49724 non-null float64\n",
      "TotalInquiries                         49724 non-null float64\n",
      "CurrentDelinquencies                   49724 non-null float64\n",
      "AmountDelinquent                       49724 non-null float64\n",
      "DelinquenciesLast7Years                49724 non-null float64\n",
      "PublicRecordsLast10Years               49724 non-null float64\n",
      "PublicRecordsLast12Months              49724 non-null float64\n",
      "RevolvingCreditBalance                 49724 non-null float64\n",
      "BankcardUtilization                    49724 non-null float64\n",
      "AvailableBankcardCredit                49724 non-null float64\n",
      "TotalTrades                            49724 non-null float64\n",
      "TradesNeverDelinquent (percentage)     49724 non-null float64\n",
      "TradesOpenedLast6Months                49724 non-null float64\n",
      "DebtToIncomeRatio                      49724 non-null float64\n",
      "IncomeVerifiable                       49724 non-null int64\n",
      "StatedMonthlyIncome                    49724 non-null float64\n",
      "TotalProsperLoans                      49724 non-null float64\n",
      "TotalProsperPaymentsBilled             49724 non-null float64\n",
      "OnTimeProsperPayments                  49724 non-null float64\n",
      "ProsperPaymentsLessThanOneMonthLate    49724 non-null float64\n",
      "ProsperPaymentsOneMonthPlusLate        49724 non-null float64\n",
      "ProsperPrincipalBorrowed               49724 non-null float64\n",
      "ProsperPrincipalOutstanding            49724 non-null float64\n",
      "LoanOriginalAmount                     49724 non-null int64\n",
      "MonthlyLoanPayment                     49724 non-null float64\n",
      "Recommendations                        49724 non-null int64\n",
      "InvestmentFromFriendsCount             49724 non-null int64\n",
      "InvestmentFromFriendsAmount            49724 non-null float64\n",
      "Investors                              49724 non-null int64\n",
      "YearsWithCredit                        49724 non-null int64\n",
      "Auto                                   49724 non-null uint8\n",
      "Baby                                   49724 non-null uint8\n",
      "Boat                                   49724 non-null uint8\n",
      "Business                               49724 non-null uint8\n",
      "Cosmetic                               49724 non-null uint8\n",
      "Debt                                   49724 non-null uint8\n",
      "Engagement                             49724 non-null uint8\n",
      "Green                                  49724 non-null uint8\n",
      "Household                              49724 non-null uint8\n",
      "LargePurchase                          49724 non-null uint8\n",
      "Medical                                49724 non-null uint8\n",
      "Motorcycle                             49724 non-null uint8\n",
      "Other                                  49724 non-null uint8\n",
      "Personal                               49724 non-null uint8\n",
      "RV                                     49724 non-null uint8\n",
      "Reno                                   49724 non-null uint8\n",
      "Student                                49724 non-null uint8\n",
      "Taxes                                  49724 non-null uint8\n",
      "Unknown                                49724 non-null uint8\n",
      "Vacation                               49724 non-null uint8\n",
      "Wedding                                49724 non-null uint8\n",
      "dtypes: float64(32), int64(10), object(2), uint8(21)\n",
      "memory usage: 19.3+ MB\n"
     ]
    }
   ],
   "source": [
    "category = pd.get_dummies(df_historical[\"ListingCategory\"])\n",
    "\n",
    "df_historical = df_historical.join(category, rsuffix=\"_category\")\n",
    "df_historical.drop(\"ListingCategory\", axis=1, inplace=True)\n",
    "\n",
    "df_historical.info()"
   ]
  },
  {
   "cell_type": "code",
   "execution_count": 59,
   "metadata": {
    "_cell_guid": "3262b5a0-3802-5f97-f09b-413b7e6a3ce3",
    "_uuid": "c0a0c653150aa8124cdb57d53bfc159aae70d2ff",
    "execution": {
     "iopub.execute_input": "2022-11-22T19:40:52.160956Z",
     "iopub.status.busy": "2022-11-22T19:40:52.160516Z",
     "iopub.status.idle": "2022-11-22T19:40:52.248632Z",
     "shell.execute_reply": "2022-11-22T19:40:52.247959Z",
     "shell.execute_reply.started": "2022-11-22T19:40:52.160903Z"
    }
   },
   "outputs": [
    {
     "name": "stdout",
     "output_type": "stream",
     "text": [
      "<class 'pandas.core.frame.DataFrame'>\n",
      "Index: 49724 entries, 0 to 113935\n",
      "Data columns (total 71 columns):\n",
      "Term                                   49724 non-null int64\n",
      "LoanStatus                             49724 non-null int64\n",
      "BorrowerRate                           49724 non-null float64\n",
      "ProsperRating (numeric)                49724 non-null float64\n",
      "ProsperScore                           49724 non-null float64\n",
      "BorrowerState                          49724 non-null object\n",
      "IsBorrowerHomeowner                    49724 non-null int64\n",
      "CreditScore                            49724 non-null float64\n",
      "CurrentCreditLines                     49724 non-null float64\n",
      "OpenCreditLines                        49724 non-null float64\n",
      "TotalCreditLinespast7years             49724 non-null float64\n",
      "OpenRevolvingAccounts                  49724 non-null int64\n",
      "OpenRevolvingMonthlyPayment            49724 non-null float64\n",
      "InquiriesLast6Months                   49724 non-null float64\n",
      "TotalInquiries                         49724 non-null float64\n",
      "CurrentDelinquencies                   49724 non-null float64\n",
      "AmountDelinquent                       49724 non-null float64\n",
      "DelinquenciesLast7Years                49724 non-null float64\n",
      "PublicRecordsLast10Years               49724 non-null float64\n",
      "PublicRecordsLast12Months              49724 non-null float64\n",
      "RevolvingCreditBalance                 49724 non-null float64\n",
      "BankcardUtilization                    49724 non-null float64\n",
      "AvailableBankcardCredit                49724 non-null float64\n",
      "TotalTrades                            49724 non-null float64\n",
      "TradesNeverDelinquent (percentage)     49724 non-null float64\n",
      "TradesOpenedLast6Months                49724 non-null float64\n",
      "DebtToIncomeRatio                      49724 non-null float64\n",
      "IncomeVerifiable                       49724 non-null int64\n",
      "StatedMonthlyIncome                    49724 non-null float64\n",
      "TotalProsperLoans                      49724 non-null float64\n",
      "TotalProsperPaymentsBilled             49724 non-null float64\n",
      "OnTimeProsperPayments                  49724 non-null float64\n",
      "ProsperPaymentsLessThanOneMonthLate    49724 non-null float64\n",
      "ProsperPaymentsOneMonthPlusLate        49724 non-null float64\n",
      "ProsperPrincipalBorrowed               49724 non-null float64\n",
      "ProsperPrincipalOutstanding            49724 non-null float64\n",
      "LoanOriginalAmount                     49724 non-null int64\n",
      "MonthlyLoanPayment                     49724 non-null float64\n",
      "Recommendations                        49724 non-null int64\n",
      "InvestmentFromFriendsCount             49724 non-null int64\n",
      "InvestmentFromFriendsAmount            49724 non-null float64\n",
      "Investors                              49724 non-null int64\n",
      "YearsWithCredit                        49724 non-null int64\n",
      "Auto                                   49724 non-null uint8\n",
      "Baby                                   49724 non-null uint8\n",
      "Boat                                   49724 non-null uint8\n",
      "Business                               49724 non-null uint8\n",
      "Cosmetic                               49724 non-null uint8\n",
      "Debt                                   49724 non-null uint8\n",
      "Engagement                             49724 non-null uint8\n",
      "Green                                  49724 non-null uint8\n",
      "Household                              49724 non-null uint8\n",
      "LargePurchase                          49724 non-null uint8\n",
      "Medical                                49724 non-null uint8\n",
      "Motorcycle                             49724 non-null uint8\n",
      "Other                                  49724 non-null uint8\n",
      "Personal                               49724 non-null uint8\n",
      "RV                                     49724 non-null uint8\n",
      "Reno                                   49724 non-null uint8\n",
      "Student                                49724 non-null uint8\n",
      "Taxes                                  49724 non-null uint8\n",
      "Unknown                                49724 non-null uint8\n",
      "Vacation                               49724 non-null uint8\n",
      "Wedding                                49724 non-null uint8\n",
      "Employed                               49724 non-null uint8\n",
      "Full-time                              49724 non-null uint8\n",
      "Not employed                           49724 non-null uint8\n",
      "Other_employmentstatus                 49724 non-null uint8\n",
      "Part-time                              49724 non-null uint8\n",
      "Retired                                49724 non-null uint8\n",
      "Self-employed                          49724 non-null uint8\n",
      "dtypes: float64(32), int64(10), object(1), uint8(28)\n",
      "memory usage: 19.3+ MB\n"
     ]
    }
   ],
   "source": [
    "employment = pd.get_dummies(df_historical[\"EmploymentStatus\"])\n",
    "\n",
    "df_historical = df_historical.join(employment, rsuffix=\"_employmentstatus\")\n",
    "df_historical.drop(\"EmploymentStatus\", axis=1, inplace=True)\n",
    "\n",
    "df_historical.info()"
   ]
  },
  {
   "cell_type": "code",
   "execution_count": 60,
   "metadata": {
    "_cell_guid": "f22099d6-c04e-33f5-8465-8e79e3a7274a",
    "_uuid": "cfe8257e6cae6fbc9a45cf9ec991800e38253723",
    "execution": {
     "iopub.execute_input": "2022-11-22T19:40:56.248985Z",
     "iopub.status.busy": "2022-11-22T19:40:56.248480Z",
     "iopub.status.idle": "2022-11-22T19:40:56.473460Z",
     "shell.execute_reply": "2022-11-22T19:40:56.472983Z",
     "shell.execute_reply.started": "2022-11-22T19:40:56.248940Z"
    }
   },
   "outputs": [
    {
     "data": {
      "text/plain": [
       "0          StateLowRisk\n",
       "11    StateVeryHighRisk\n",
       "12    StateVeryHighRisk\n",
       "15    StateVeryHighRisk\n",
       "21        StateHighRisk\n",
       "23        StateHighRisk\n",
       "26         StateLowRisk\n",
       "27         StateLowRisk\n",
       "30        StateHighRisk\n",
       "33        StateHighRisk\n",
       "Name: BorrowerState, dtype: object"
      ]
     },
     "execution_count": 60,
     "metadata": {},
     "output_type": "execute_result"
    }
   ],
   "source": [
    "state_defaults = df_historical.groupby(\"BorrowerState\")[\"LoanStatus\"].mean()\n",
    "\n",
    "vlow_risk = sorted(state_defaults)[51]\n",
    "low_risk = sorted(state_defaults)[40]\n",
    "mid_risk = sorted(state_defaults)[29]\n",
    "high_risk = sorted(state_defaults)[19]\n",
    "vhigh_risk = sorted(state_defaults)[9]\n",
    "\n",
    "new_geography = {}\n",
    "\n",
    "for state in state_defaults.index:\n",
    "    if high_risk > state_defaults[state]:\n",
    "        v = \"StateVeryHighRisk\"\n",
    "    elif mid_risk > state_defaults[state] >= high_risk:\n",
    "        v = \"StateHighRisk\"\n",
    "    elif low_risk > state_defaults[state] >= mid_risk:\n",
    "        v = \"StateMidRisk\"\n",
    "    elif vlow_risk > state_defaults[state] >= low_risk:\n",
    "        v = \"StateLowRisk\"\n",
    "    else:\n",
    "        v = \"StateVeryLowRisk\"\n",
    "    new_geography[state] = v\n",
    "\n",
    "df_historical.replace(to_replace={\"BorrowerState\": new_geography}, inplace=True)\n",
    "                               \n",
    "df_historical[\"BorrowerState\"][:10]"
   ]
  },
  {
   "cell_type": "code",
   "execution_count": 61,
   "metadata": {
    "_cell_guid": "0a701d6d-7372-4f44-88c5-2e2addc2b86c",
    "_uuid": "2d2824f5d51b5807d62faa4906126c07f2857d57",
    "execution": {
     "iopub.execute_input": "2022-11-22T19:41:01.302186Z",
     "iopub.status.busy": "2022-11-22T19:41:01.301643Z",
     "iopub.status.idle": "2022-11-22T19:41:01.401651Z",
     "shell.execute_reply": "2022-11-22T19:41:01.401190Z",
     "shell.execute_reply.started": "2022-11-22T19:41:01.302134Z"
    }
   },
   "outputs": [
    {
     "name": "stdout",
     "output_type": "stream",
     "text": [
      "<class 'pandas.core.frame.DataFrame'>\n",
      "Index: 49724 entries, 0 to 113935\n",
      "Data columns (total 75 columns):\n",
      "Term                                   49724 non-null int64\n",
      "LoanStatus                             49724 non-null int64\n",
      "BorrowerRate                           49724 non-null float64\n",
      "ProsperRating (numeric)                49724 non-null float64\n",
      "ProsperScore                           49724 non-null float64\n",
      "IsBorrowerHomeowner                    49724 non-null int64\n",
      "CreditScore                            49724 non-null float64\n",
      "CurrentCreditLines                     49724 non-null float64\n",
      "OpenCreditLines                        49724 non-null float64\n",
      "TotalCreditLinespast7years             49724 non-null float64\n",
      "OpenRevolvingAccounts                  49724 non-null int64\n",
      "OpenRevolvingMonthlyPayment            49724 non-null float64\n",
      "InquiriesLast6Months                   49724 non-null float64\n",
      "TotalInquiries                         49724 non-null float64\n",
      "CurrentDelinquencies                   49724 non-null float64\n",
      "AmountDelinquent                       49724 non-null float64\n",
      "DelinquenciesLast7Years                49724 non-null float64\n",
      "PublicRecordsLast10Years               49724 non-null float64\n",
      "PublicRecordsLast12Months              49724 non-null float64\n",
      "RevolvingCreditBalance                 49724 non-null float64\n",
      "BankcardUtilization                    49724 non-null float64\n",
      "AvailableBankcardCredit                49724 non-null float64\n",
      "TotalTrades                            49724 non-null float64\n",
      "TradesNeverDelinquent (percentage)     49724 non-null float64\n",
      "TradesOpenedLast6Months                49724 non-null float64\n",
      "DebtToIncomeRatio                      49724 non-null float64\n",
      "IncomeVerifiable                       49724 non-null int64\n",
      "StatedMonthlyIncome                    49724 non-null float64\n",
      "TotalProsperLoans                      49724 non-null float64\n",
      "TotalProsperPaymentsBilled             49724 non-null float64\n",
      "OnTimeProsperPayments                  49724 non-null float64\n",
      "ProsperPaymentsLessThanOneMonthLate    49724 non-null float64\n",
      "ProsperPaymentsOneMonthPlusLate        49724 non-null float64\n",
      "ProsperPrincipalBorrowed               49724 non-null float64\n",
      "ProsperPrincipalOutstanding            49724 non-null float64\n",
      "LoanOriginalAmount                     49724 non-null int64\n",
      "MonthlyLoanPayment                     49724 non-null float64\n",
      "Recommendations                        49724 non-null int64\n",
      "InvestmentFromFriendsCount             49724 non-null int64\n",
      "InvestmentFromFriendsAmount            49724 non-null float64\n",
      "Investors                              49724 non-null int64\n",
      "YearsWithCredit                        49724 non-null int64\n",
      "Auto                                   49724 non-null uint8\n",
      "Baby                                   49724 non-null uint8\n",
      "Boat                                   49724 non-null uint8\n",
      "Business                               49724 non-null uint8\n",
      "Cosmetic                               49724 non-null uint8\n",
      "Debt                                   49724 non-null uint8\n",
      "Engagement                             49724 non-null uint8\n",
      "Green                                  49724 non-null uint8\n",
      "Household                              49724 non-null uint8\n",
      "LargePurchase                          49724 non-null uint8\n",
      "Medical                                49724 non-null uint8\n",
      "Motorcycle                             49724 non-null uint8\n",
      "Other                                  49724 non-null uint8\n",
      "Personal                               49724 non-null uint8\n",
      "RV                                     49724 non-null uint8\n",
      "Reno                                   49724 non-null uint8\n",
      "Student                                49724 non-null uint8\n",
      "Taxes                                  49724 non-null uint8\n",
      "Unknown                                49724 non-null uint8\n",
      "Vacation                               49724 non-null uint8\n",
      "Wedding                                49724 non-null uint8\n",
      "Employed                               49724 non-null uint8\n",
      "Full-time                              49724 non-null uint8\n",
      "Not employed                           49724 non-null uint8\n",
      "Other_employmentstatus                 49724 non-null uint8\n",
      "Part-time                              49724 non-null uint8\n",
      "Retired                                49724 non-null uint8\n",
      "Self-employed                          49724 non-null uint8\n",
      "StateHighRisk                          49724 non-null uint8\n",
      "StateLowRisk                           49724 non-null uint8\n",
      "StateMidRisk                           49724 non-null uint8\n",
      "StateVeryHighRisk                      49724 non-null uint8\n",
      "StateVeryLowRisk                       49724 non-null uint8\n",
      "dtypes: float64(32), int64(10), uint8(33)\n",
      "memory usage: 19.1+ MB\n"
     ]
    }
   ],
   "source": [
    "state = pd.get_dummies(df_historical[\"BorrowerState\"])\n",
    "\n",
    "df_historical = df_historical.join(state, rsuffix=\"_state\")\n",
    "df_historical.drop(\"BorrowerState\", axis=1, inplace=True)\n",
    "\n",
    "df_historical.info()"
   ]
  },
  {
   "cell_type": "markdown",
   "metadata": {
    "_cell_guid": "b0156d87-3f5e-f2be-f0a1-34a0e1bfc3af",
    "_uuid": "80126f79011dcd6cb28d3af45515b27615dc4d04"
   },
   "source": [
    "### Train/test split <a class=\"anchor\" id=\"split\"></a>"
   ]
  },
  {
   "cell_type": "markdown",
   "metadata": {
    "_cell_guid": "6e73ebae-75fb-0e1d-3328-6d6a6f8e2662",
    "_uuid": "bc0142518bd270e4cc721341f05e06568c4da1b3"
   },
   "source": [
    "Now let's split our data into features and labels, as well as training and testing sets."
   ]
  },
  {
   "cell_type": "code",
   "execution_count": 62,
   "metadata": {
    "_cell_guid": "c3b83902-495a-bd19-0420-8ded2c14d3e1",
    "_uuid": "0578ca7d16fef18371224862020764ad0ed1f0ee",
    "execution": {
     "iopub.execute_input": "2022-11-22T19:41:07.993632Z",
     "iopub.status.busy": "2022-11-22T19:41:07.993153Z",
     "iopub.status.idle": "2022-11-22T19:41:08.000752Z",
     "shell.execute_reply": "2022-11-22T19:41:08.000297Z",
     "shell.execute_reply.started": "2022-11-22T19:41:07.993582Z"
    }
   },
   "outputs": [],
   "source": [
    "X = df_historical.drop(\"LoanStatus\", axis=1)\n",
    "y = df_historical[\"LoanStatus\"]"
   ]
  },
  {
   "cell_type": "code",
   "execution_count": 63,
   "metadata": {
    "_cell_guid": "11df3826-cdd1-d0a0-c925-01a84e19f942",
    "_uuid": "a7168a28db6380c14d61f857ce1a8fd4e6eff946",
    "execution": {
     "iopub.execute_input": "2022-11-22T19:41:20.142450Z",
     "iopub.status.busy": "2022-11-22T19:41:20.141936Z",
     "iopub.status.idle": "2022-11-22T19:41:20.171506Z",
     "shell.execute_reply": "2022-11-22T19:41:20.171002Z",
     "shell.execute_reply.started": "2022-11-22T19:41:20.142394Z"
    }
   },
   "outputs": [],
   "source": [
    "X_train, X_test, y_train, y_test = train_test_split(X, y, test_size=0.1, random_state=42)"
   ]
  },
  {
   "cell_type": "markdown",
   "metadata": {
    "_cell_guid": "0102d0b2-7ef8-944b-c5bb-5ba625d0b02d",
    "_uuid": "c31f3150a23c330779144e849a2ce489bdc3b9e1"
   },
   "source": [
    "### Preprocessing: scaling features to a range <a class=\"anchor\" id=\"scale\"></a>"
   ]
  },
  {
   "cell_type": "markdown",
   "metadata": {
    "_cell_guid": "522b4fc5-9880-f00f-aee5-db11bf3a6ec3",
    "_uuid": "19ac36fbba67b6cd025e3f7e0a95633d16f1ebc9"
   },
   "source": [
    "Let's scale our values to adapt them to some of our classifiers. I'm going to scale the values to a range between 0 and 1, as this will preserve our important 0 values, as well as having the added benefit of \"robustness to very small standard deviations of features\" (http://scikit-learn.org/stable/modules/preprocessing.html)."
   ]
  },
  {
   "cell_type": "code",
   "execution_count": 64,
   "metadata": {
    "_cell_guid": "25acd36a-c055-ab80-3dce-9b183c72e618",
    "_uuid": "05d0966afd82d8cfa5265578df868c5ae88c5414",
    "execution": {
     "iopub.execute_input": "2022-11-22T19:41:26.115906Z",
     "iopub.status.busy": "2022-11-22T19:41:26.115593Z",
     "iopub.status.idle": "2022-11-22T19:41:26.182409Z",
     "shell.execute_reply": "2022-11-22T19:41:26.181879Z",
     "shell.execute_reply.started": "2022-11-22T19:41:26.115834Z"
    }
   },
   "outputs": [],
   "source": [
    "scaler = MinMaxScaler()\n",
    "scaler.fit(X_train)\n",
    "\n",
    "X_train_scaled = scaler.transform(X_train)\n",
    "X_test_scaled = scaler.transform(X_test)"
   ]
  },
  {
   "cell_type": "markdown",
   "metadata": {
    "_cell_guid": "73ab5a4e-cc71-cecc-d9fb-1a4d482bc809",
    "_uuid": "cf61ca0fd9e4842831babc823d75f43cd1fc9da6"
   },
   "source": [
    "### Reducing dimensionality: part 3 <a class=\"anchor\" id=\"reduce3\"></a>"
   ]
  },
  {
   "cell_type": "markdown",
   "metadata": {
    "_cell_guid": "d44ac090-5a42-987f-844d-725b3f8b5362",
    "_uuid": "be5e783bc3475dbc0d061e2326f98000619564b0"
   },
   "source": [
    "Let's now perform both some principal component analysis and some univariate feature selection and save the transformed data to new variables so we can see if the further reductions in dimensionality can positively impact either accuracy or fit performance in a meaningful way. I'm going to be running the scaled data through these transformers, since this will keep the variances PCA compares against one another consistent."
   ]
  },
  {
   "cell_type": "code",
   "execution_count": 65,
   "metadata": {
    "_cell_guid": "f3c48419-f2ec-3064-aaf3-3a9c4b697d5b",
    "_uuid": "2085f1f44c851aa94dc6a3cc6bdbfec22bf0e7fc",
    "execution": {
     "iopub.execute_input": "2022-11-22T19:41:30.584362Z",
     "iopub.status.busy": "2022-11-22T19:41:30.583828Z",
     "iopub.status.idle": "2022-11-22T19:41:30.848399Z",
     "shell.execute_reply": "2022-11-22T19:41:30.847965Z",
     "shell.execute_reply.started": "2022-11-22T19:41:30.584319Z"
    }
   },
   "outputs": [
    {
     "data": {
      "text/plain": [
       "array([ 0.17670123,  0.11838247,  0.09699779,  0.08818248,  0.07777252,\n",
       "        0.05738194,  0.05187247,  0.04803878,  0.04100428,  0.03370387])"
      ]
     },
     "execution_count": 65,
     "metadata": {},
     "output_type": "execute_result"
    }
   ],
   "source": [
    "pca = PCA(n_components=10)\n",
    "pca.fit(X_train_scaled)\n",
    "\n",
    "X_train_pca10 = pca.transform(X_train_scaled)\n",
    "X_test_pca10 = pca.transform(X_test_scaled)\n",
    "\n",
    "pca.explained_variance_ratio_"
   ]
  },
  {
   "cell_type": "code",
   "execution_count": 66,
   "metadata": {
    "_cell_guid": "18efcf43-e8f6-c859-479c-0b64675a2c8a",
    "_uuid": "cde20c43109f2f628990c36587d06c390e4b99f8",
    "execution": {
     "iopub.execute_input": "2022-11-22T19:41:34.530991Z",
     "iopub.status.busy": "2022-11-22T19:41:34.530481Z",
     "iopub.status.idle": "2022-11-22T19:41:34.794397Z",
     "shell.execute_reply": "2022-11-22T19:41:34.793908Z",
     "shell.execute_reply.started": "2022-11-22T19:41:34.530949Z"
    }
   },
   "outputs": [
    {
     "data": {
      "text/plain": [
       "array([ 0.68228994,  0.24762512,  0.02503526])"
      ]
     },
     "execution_count": 66,
     "metadata": {},
     "output_type": "execute_result"
    }
   ],
   "source": [
    "pca = PCA(n_components=3)\n",
    "pca.fit(X_train)\n",
    "\n",
    "X_train_pca3 = pca.transform(X_train_scaled)\n",
    "X_test_pca3 = pca.transform(X_test_scaled)\n",
    "\n",
    "pca.explained_variance_ratio_"
   ]
  },
  {
   "cell_type": "markdown",
   "metadata": {
    "_cell_guid": "e57a8b28-abec-809d-31cc-a62d4ff0ef15",
    "_uuid": "5d2948391a6a013f8d54cffd16a86223453f0a5b"
   },
   "source": [
    "Finally, let's select the best 50%, and best 10% of features. "
   ]
  },
  {
   "cell_type": "code",
   "execution_count": 67,
   "metadata": {
    "_cell_guid": "3313af6a-22d3-6d75-bc15-de085a1755cf",
    "_uuid": "2f952b354a50daea843f34ade1303def166a9a75",
    "execution": {
     "iopub.execute_input": "2022-11-22T19:41:39.254109Z",
     "iopub.status.busy": "2022-11-22T19:41:39.253330Z",
     "iopub.status.idle": "2022-11-22T19:41:39.374701Z",
     "shell.execute_reply": "2022-11-22T19:41:39.374201Z",
     "shell.execute_reply.started": "2022-11-22T19:41:39.254053Z"
    }
   },
   "outputs": [],
   "source": [
    "X_train_reduce50 = SelectPercentile(percentile=50).fit_transform(X_train_scaled, y_train)\n",
    "X_test_reduce50 = SelectPercentile(percentile=50).fit_transform(X_test_scaled, y_test)\n",
    "\n",
    "X_train_reduce10 = SelectPercentile().fit_transform(X_train_scaled, y_train)\n",
    "X_test_reduce10 = SelectPercentile().fit_transform(X_test_scaled, y_test)"
   ]
  },
  {
   "cell_type": "markdown",
   "metadata": {
    "_cell_guid": "5e9161a4-90ec-23c0-21f9-4147b690c596",
    "_uuid": "130b139bb814337892d4493440d8f5358b752a8a"
   },
   "source": [
    "### Choosing a classifier <a class=\"anchor\" id=\"class\"></a>"
   ]
  },
  {
   "cell_type": "markdown",
   "metadata": {
    "_cell_guid": "eecfabbc-5a68-1744-4719-ab10678eec17",
    "_uuid": "4ebe5b83539873de9d479940668286e791feb205"
   },
   "source": [
    "Alright, before we start training potential classifiers and comparing them to one another let's take a moment to think about what our goals are and what metrics will quantify that performance. While it is true that in a general sense we are trying to accurately predict (or classify) which loans will default and which loans will be completely paid back, the real goal is to minimize lending to eventual defaults. Thus our goal is in fact to correctly classify as many defaults as possible, even if that means erring on the side of caution by occasionally classifying a true completion as a default. This is a matter, not of accuracy across our two (unbalanced, mind you) classes, but of maximizing recall for default classification even at the expense of precision. Recall will be the most relevant metric for our purposes.\n",
    "\n",
    "I'm going to try an unusually broad selection of classifiers with a wide variety of training data (original, scaled, with reduced features, etc.) and provide their main performance metrics in a \"results\" dataframe. Because sklearn's metrics by default consider positives and assume binary positives are encoded as 1, I'll specify, using the \"pos_label\" parameter, that our true focus is on default or 0. Finally, I know that as our LDA is fit during cross validation it will throw several collinearity warnings. Those aren't of great importance to our goal of prediction, so we will suppress them for ease of output."
   ]
  },
  {
   "cell_type": "code",
   "execution_count": 68,
   "metadata": {
    "_cell_guid": "04b122b9-aeae-4965-251f-b13218feca6f",
    "_uuid": "109509f53c1a2f63af8bf29f864f8cb7c779a07c",
    "execution": {
     "iopub.execute_input": "2022-11-22T19:41:43.264205Z",
     "iopub.status.busy": "2022-11-22T19:41:43.263665Z",
     "iopub.status.idle": "2022-11-22T19:49:00.319786Z",
     "shell.execute_reply": "2022-11-22T19:49:00.319102Z",
     "shell.execute_reply.started": "2022-11-22T19:41:43.264014Z"
    }
   },
   "outputs": [
    {
     "data": {
      "text/html": [
       "<div>\n",
       "<style>\n",
       "    .dataframe thead tr:only-child th {\n",
       "        text-align: right;\n",
       "    }\n",
       "\n",
       "    .dataframe thead th {\n",
       "        text-align: left;\n",
       "    }\n",
       "\n",
       "    .dataframe tbody tr th {\n",
       "        vertical-align: top;\n",
       "    }\n",
       "</style>\n",
       "<table border=\"1\" class=\"dataframe\">\n",
       "  <thead>\n",
       "    <tr style=\"text-align: right;\">\n",
       "      <th></th>\n",
       "      <th>MeanAccuracy</th>\n",
       "      <th>Precision</th>\n",
       "      <th>Recall</th>\n",
       "      <th>F1Score</th>\n",
       "      <th>TrainingTime (m)</th>\n",
       "      <th>TrainingTime (s)</th>\n",
       "    </tr>\n",
       "  </thead>\n",
       "  <tbody>\n",
       "    <tr>\n",
       "      <th>AdaBoost Classifier</th>\n",
       "      <td>0.710643</td>\n",
       "      <td>0.596942</td>\n",
       "      <td>0.344764</td>\n",
       "      <td>0.437069</td>\n",
       "      <td>0</td>\n",
       "      <td>12</td>\n",
       "    </tr>\n",
       "    <tr>\n",
       "      <th>AdaBoost Classifier (10% of features)</th>\n",
       "      <td>0.688454</td>\n",
       "      <td>0.566568</td>\n",
       "      <td>0.186544</td>\n",
       "      <td>0.280643</td>\n",
       "      <td>0</td>\n",
       "      <td>3</td>\n",
       "    </tr>\n",
       "    <tr>\n",
       "      <th>AdaBoost Classifier (50% of features)</th>\n",
       "      <td>0.706979</td>\n",
       "      <td>0.590977</td>\n",
       "      <td>0.328373</td>\n",
       "      <td>0.421956</td>\n",
       "      <td>0</td>\n",
       "      <td>9</td>\n",
       "    </tr>\n",
       "    <tr>\n",
       "      <th>AdaBoost Classifier (PCA: 10 components)</th>\n",
       "      <td>0.681035</td>\n",
       "      <td>0.532540</td>\n",
       "      <td>0.172073</td>\n",
       "      <td>0.260087</td>\n",
       "      <td>0</td>\n",
       "      <td>9</td>\n",
       "    </tr>\n",
       "    <tr>\n",
       "      <th>AdaBoost Classifier (PCA: 3 components)</th>\n",
       "      <td>0.672901</td>\n",
       "      <td>0.485894</td>\n",
       "      <td>0.058021</td>\n",
       "      <td>0.103625</td>\n",
       "      <td>0</td>\n",
       "      <td>3</td>\n",
       "    </tr>\n",
       "    <tr>\n",
       "      <th>AdaBoost Classifier (scaled data)</th>\n",
       "      <td>0.710643</td>\n",
       "      <td>0.596942</td>\n",
       "      <td>0.344764</td>\n",
       "      <td>0.437069</td>\n",
       "      <td>0</td>\n",
       "      <td>15</td>\n",
       "    </tr>\n",
       "    <tr>\n",
       "      <th>Decision Tree Classifier</th>\n",
       "      <td>0.629237</td>\n",
       "      <td>0.430917</td>\n",
       "      <td>0.445375</td>\n",
       "      <td>0.435601</td>\n",
       "      <td>0</td>\n",
       "      <td>4</td>\n",
       "    </tr>\n",
       "    <tr>\n",
       "      <th>Decision Tree Classifier (10% of features)</th>\n",
       "      <td>0.604031</td>\n",
       "      <td>0.395859</td>\n",
       "      <td>0.419381</td>\n",
       "      <td>0.411701</td>\n",
       "      <td>0</td>\n",
       "      <td>0</td>\n",
       "    </tr>\n",
       "    <tr>\n",
       "      <th>Decision Tree Classifier (50% of features)</th>\n",
       "      <td>0.627383</td>\n",
       "      <td>0.430686</td>\n",
       "      <td>0.443111</td>\n",
       "      <td>0.435496</td>\n",
       "      <td>0</td>\n",
       "      <td>2</td>\n",
       "    </tr>\n",
       "    <tr>\n",
       "      <th>Decision Tree Classifier (PCA: 10 components)</th>\n",
       "      <td>0.610065</td>\n",
       "      <td>0.405139</td>\n",
       "      <td>0.416364</td>\n",
       "      <td>0.410309</td>\n",
       "      <td>0</td>\n",
       "      <td>2</td>\n",
       "    </tr>\n",
       "    <tr>\n",
       "      <th>Decision Tree Classifier (PCA: 3 components)</th>\n",
       "      <td>0.573886</td>\n",
       "      <td>0.356152</td>\n",
       "      <td>0.387491</td>\n",
       "      <td>0.371071</td>\n",
       "      <td>0</td>\n",
       "      <td>0</td>\n",
       "    </tr>\n",
       "    <tr>\n",
       "      <th>Decision Tree Classifier (scaled data)</th>\n",
       "      <td>0.628142</td>\n",
       "      <td>0.429898</td>\n",
       "      <td>0.441809</td>\n",
       "      <td>0.436818</td>\n",
       "      <td>0</td>\n",
       "      <td>4</td>\n",
       "    </tr>\n",
       "    <tr>\n",
       "      <th>Gaussian Naive Bayes</th>\n",
       "      <td>0.676253</td>\n",
       "      <td>0.504882</td>\n",
       "      <td>0.360949</td>\n",
       "      <td>0.420506</td>\n",
       "      <td>0</td>\n",
       "      <td>0</td>\n",
       "    </tr>\n",
       "    <tr>\n",
       "      <th>Gaussian Naive Bayes (10% of features)</th>\n",
       "      <td>0.674287</td>\n",
       "      <td>0.500262</td>\n",
       "      <td>0.276662</td>\n",
       "      <td>0.356205</td>\n",
       "      <td>0</td>\n",
       "      <td>1</td>\n",
       "    </tr>\n",
       "    <tr>\n",
       "      <th>Gaussian Naive Bayes (50% of features)</th>\n",
       "      <td>0.673683</td>\n",
       "      <td>0.498992</td>\n",
       "      <td>0.380290</td>\n",
       "      <td>0.431611</td>\n",
       "      <td>0</td>\n",
       "      <td>0</td>\n",
       "    </tr>\n",
       "    <tr>\n",
       "      <th>Gaussian Naive Bayes (PCA: 10 components)</th>\n",
       "      <td>0.675873</td>\n",
       "      <td>0.507177</td>\n",
       "      <td>0.186544</td>\n",
       "      <td>0.272756</td>\n",
       "      <td>0</td>\n",
       "      <td>0</td>\n",
       "    </tr>\n",
       "    <tr>\n",
       "      <th>Gaussian Naive Bayes (PCA: 3 components)</th>\n",
       "      <td>0.672856</td>\n",
       "      <td>0.452353</td>\n",
       "      <td>0.028804</td>\n",
       "      <td>0.053610</td>\n",
       "      <td>0</td>\n",
       "      <td>0</td>\n",
       "    </tr>\n",
       "    <tr>\n",
       "      <th>Gaussian Naive Bayes (scaled data)</th>\n",
       "      <td>0.581171</td>\n",
       "      <td>0.431823</td>\n",
       "      <td>0.665054</td>\n",
       "      <td>0.506282</td>\n",
       "      <td>0</td>\n",
       "      <td>1</td>\n",
       "    </tr>\n",
       "    <tr>\n",
       "      <th>Linear Discriminant Analysis</th>\n",
       "      <td>0.706420</td>\n",
       "      <td>0.594627</td>\n",
       "      <td>0.311570</td>\n",
       "      <td>0.408819</td>\n",
       "      <td>0</td>\n",
       "      <td>1</td>\n",
       "    </tr>\n",
       "    <tr>\n",
       "      <th>Linear Discriminant Analysis (10% of features)</th>\n",
       "      <td>0.684409</td>\n",
       "      <td>0.541240</td>\n",
       "      <td>0.205200</td>\n",
       "      <td>0.297465</td>\n",
       "      <td>0</td>\n",
       "      <td>0</td>\n",
       "    </tr>\n",
       "    <tr>\n",
       "      <th>Linear Discriminant Analysis (50% of features)</th>\n",
       "      <td>0.702822</td>\n",
       "      <td>0.587758</td>\n",
       "      <td>0.295110</td>\n",
       "      <td>0.392876</td>\n",
       "      <td>0</td>\n",
       "      <td>0</td>\n",
       "    </tr>\n",
       "    <tr>\n",
       "      <th>Linear Discriminant Analysis (PCA: 10 components)</th>\n",
       "      <td>0.672946</td>\n",
       "      <td>0.493166</td>\n",
       "      <td>0.134627</td>\n",
       "      <td>0.211507</td>\n",
       "      <td>0</td>\n",
       "      <td>0</td>\n",
       "    </tr>\n",
       "    <tr>\n",
       "      <th>Linear Discriminant Analysis (PCA: 3 components)</th>\n",
       "      <td>0.673728</td>\n",
       "      <td>0.122222</td>\n",
       "      <td>0.000343</td>\n",
       "      <td>0.000684</td>\n",
       "      <td>0</td>\n",
       "      <td>0</td>\n",
       "    </tr>\n",
       "    <tr>\n",
       "      <th>Linear Discriminant Analysis (scaled data)</th>\n",
       "      <td>0.706420</td>\n",
       "      <td>0.594627</td>\n",
       "      <td>0.311570</td>\n",
       "      <td>0.408819</td>\n",
       "      <td>0</td>\n",
       "      <td>1</td>\n",
       "    </tr>\n",
       "    <tr>\n",
       "      <th>Logistic Regression</th>\n",
       "      <td>0.701951</td>\n",
       "      <td>0.596119</td>\n",
       "      <td>0.264043</td>\n",
       "      <td>0.365822</td>\n",
       "      <td>0</td>\n",
       "      <td>14</td>\n",
       "    </tr>\n",
       "    <tr>\n",
       "      <th>Logistic Regression (10% of features)</th>\n",
       "      <td>0.684007</td>\n",
       "      <td>0.541473</td>\n",
       "      <td>0.196352</td>\n",
       "      <td>0.288097</td>\n",
       "      <td>0</td>\n",
       "      <td>0</td>\n",
       "    </tr>\n",
       "    <tr>\n",
       "      <th>Logistic Regression (50% of features)</th>\n",
       "      <td>0.700051</td>\n",
       "      <td>0.578638</td>\n",
       "      <td>0.292504</td>\n",
       "      <td>0.388559</td>\n",
       "      <td>0</td>\n",
       "      <td>2</td>\n",
       "    </tr>\n",
       "    <tr>\n",
       "      <th>Logistic Regression (PCA: 10 components)</th>\n",
       "      <td>0.673192</td>\n",
       "      <td>0.494824</td>\n",
       "      <td>0.142857</td>\n",
       "      <td>0.221702</td>\n",
       "      <td>0</td>\n",
       "      <td>0</td>\n",
       "    </tr>\n",
       "    <tr>\n",
       "      <th>Logistic Regression (PCA: 3 components)</th>\n",
       "      <td>0.674175</td>\n",
       "      <td>0.000000</td>\n",
       "      <td>0.000000</td>\n",
       "      <td>0.000000</td>\n",
       "      <td>0</td>\n",
       "      <td>0</td>\n",
       "    </tr>\n",
       "    <tr>\n",
       "      <th>Logistic Regression (scaled data)</th>\n",
       "      <td>0.705258</td>\n",
       "      <td>0.590095</td>\n",
       "      <td>0.313010</td>\n",
       "      <td>0.408991</td>\n",
       "      <td>-60</td>\n",
       "      <td>4</td>\n",
       "    </tr>\n",
       "    <tr>\n",
       "      <th>Random Forest Classifier</th>\n",
       "      <td>0.675985</td>\n",
       "      <td>0.510444</td>\n",
       "      <td>0.449009</td>\n",
       "      <td>0.479906</td>\n",
       "      <td>0</td>\n",
       "      <td>3</td>\n",
       "    </tr>\n",
       "    <tr>\n",
       "      <th>Random Forest Classifier (10% of features)</th>\n",
       "      <td>0.640947</td>\n",
       "      <td>0.446140</td>\n",
       "      <td>0.427063</td>\n",
       "      <td>0.431179</td>\n",
       "      <td>0</td>\n",
       "      <td>1</td>\n",
       "    </tr>\n",
       "    <tr>\n",
       "      <th>Random Forest Classifier (50% of features)</th>\n",
       "      <td>0.674510</td>\n",
       "      <td>0.499242</td>\n",
       "      <td>0.458542</td>\n",
       "      <td>0.480373</td>\n",
       "      <td>0</td>\n",
       "      <td>3</td>\n",
       "    </tr>\n",
       "    <tr>\n",
       "      <th>Random Forest Classifier (PCA: 10 components)</th>\n",
       "      <td>0.644075</td>\n",
       "      <td>0.455907</td>\n",
       "      <td>0.427817</td>\n",
       "      <td>0.437997</td>\n",
       "      <td>0</td>\n",
       "      <td>4</td>\n",
       "    </tr>\n",
       "    <tr>\n",
       "      <th>Random Forest Classifier (PCA: 3 components)</th>\n",
       "      <td>0.596366</td>\n",
       "      <td>0.372470</td>\n",
       "      <td>0.331596</td>\n",
       "      <td>0.350153</td>\n",
       "      <td>0</td>\n",
       "      <td>2</td>\n",
       "    </tr>\n",
       "    <tr>\n",
       "      <th>Random Forest Classifier (scaled data)</th>\n",
       "      <td>0.678510</td>\n",
       "      <td>0.507780</td>\n",
       "      <td>0.452919</td>\n",
       "      <td>0.479910</td>\n",
       "      <td>0</td>\n",
       "      <td>4</td>\n",
       "    </tr>\n",
       "  </tbody>\n",
       "</table>\n",
       "</div>"
      ],
      "text/plain": [
       "                                                   MeanAccuracy  Precision  \\\n",
       "AdaBoost Classifier                                    0.710643   0.596942   \n",
       "AdaBoost Classifier (10% of features)                  0.688454   0.566568   \n",
       "AdaBoost Classifier (50% of features)                  0.706979   0.590977   \n",
       "AdaBoost Classifier (PCA: 10 components)               0.681035   0.532540   \n",
       "AdaBoost Classifier (PCA: 3 components)                0.672901   0.485894   \n",
       "AdaBoost Classifier (scaled data)                      0.710643   0.596942   \n",
       "Decision Tree Classifier                               0.629237   0.430917   \n",
       "Decision Tree Classifier (10% of features)             0.604031   0.395859   \n",
       "Decision Tree Classifier (50% of features)             0.627383   0.430686   \n",
       "Decision Tree Classifier (PCA: 10 components)          0.610065   0.405139   \n",
       "Decision Tree Classifier (PCA: 3 components)           0.573886   0.356152   \n",
       "Decision Tree Classifier (scaled data)                 0.628142   0.429898   \n",
       "Gaussian Naive Bayes                                   0.676253   0.504882   \n",
       "Gaussian Naive Bayes (10% of features)                 0.674287   0.500262   \n",
       "Gaussian Naive Bayes (50% of features)                 0.673683   0.498992   \n",
       "Gaussian Naive Bayes (PCA: 10 components)              0.675873   0.507177   \n",
       "Gaussian Naive Bayes (PCA: 3 components)               0.672856   0.452353   \n",
       "Gaussian Naive Bayes (scaled data)                     0.581171   0.431823   \n",
       "Linear Discriminant Analysis                           0.706420   0.594627   \n",
       "Linear Discriminant Analysis (10% of features)         0.684409   0.541240   \n",
       "Linear Discriminant Analysis (50% of features)         0.702822   0.587758   \n",
       "Linear Discriminant Analysis (PCA: 10 components)      0.672946   0.493166   \n",
       "Linear Discriminant Analysis (PCA: 3 components)       0.673728   0.122222   \n",
       "Linear Discriminant Analysis (scaled data)             0.706420   0.594627   \n",
       "Logistic Regression                                    0.701951   0.596119   \n",
       "Logistic Regression (10% of features)                  0.684007   0.541473   \n",
       "Logistic Regression (50% of features)                  0.700051   0.578638   \n",
       "Logistic Regression (PCA: 10 components)               0.673192   0.494824   \n",
       "Logistic Regression (PCA: 3 components)                0.674175   0.000000   \n",
       "Logistic Regression (scaled data)                      0.705258   0.590095   \n",
       "Random Forest Classifier                               0.675985   0.510444   \n",
       "Random Forest Classifier (10% of features)             0.640947   0.446140   \n",
       "Random Forest Classifier (50% of features)             0.674510   0.499242   \n",
       "Random Forest Classifier (PCA: 10 components)          0.644075   0.455907   \n",
       "Random Forest Classifier (PCA: 3 components)           0.596366   0.372470   \n",
       "Random Forest Classifier (scaled data)                 0.678510   0.507780   \n",
       "\n",
       "                                                     Recall   F1Score  \\\n",
       "AdaBoost Classifier                                0.344764  0.437069   \n",
       "AdaBoost Classifier (10% of features)              0.186544  0.280643   \n",
       "AdaBoost Classifier (50% of features)              0.328373  0.421956   \n",
       "AdaBoost Classifier (PCA: 10 components)           0.172073  0.260087   \n",
       "AdaBoost Classifier (PCA: 3 components)            0.058021  0.103625   \n",
       "AdaBoost Classifier (scaled data)                  0.344764  0.437069   \n",
       "Decision Tree Classifier                           0.445375  0.435601   \n",
       "Decision Tree Classifier (10% of features)         0.419381  0.411701   \n",
       "Decision Tree Classifier (50% of features)         0.443111  0.435496   \n",
       "Decision Tree Classifier (PCA: 10 components)      0.416364  0.410309   \n",
       "Decision Tree Classifier (PCA: 3 components)       0.387491  0.371071   \n",
       "Decision Tree Classifier (scaled data)             0.441809  0.436818   \n",
       "Gaussian Naive Bayes                               0.360949  0.420506   \n",
       "Gaussian Naive Bayes (10% of features)             0.276662  0.356205   \n",
       "Gaussian Naive Bayes (50% of features)             0.380290  0.431611   \n",
       "Gaussian Naive Bayes (PCA: 10 components)          0.186544  0.272756   \n",
       "Gaussian Naive Bayes (PCA: 3 components)           0.028804  0.053610   \n",
       "Gaussian Naive Bayes (scaled data)                 0.665054  0.506282   \n",
       "Linear Discriminant Analysis                       0.311570  0.408819   \n",
       "Linear Discriminant Analysis (10% of features)     0.205200  0.297465   \n",
       "Linear Discriminant Analysis (50% of features)     0.295110  0.392876   \n",
       "Linear Discriminant Analysis (PCA: 10 components)  0.134627  0.211507   \n",
       "Linear Discriminant Analysis (PCA: 3 components)   0.000343  0.000684   \n",
       "Linear Discriminant Analysis (scaled data)         0.311570  0.408819   \n",
       "Logistic Regression                                0.264043  0.365822   \n",
       "Logistic Regression (10% of features)              0.196352  0.288097   \n",
       "Logistic Regression (50% of features)              0.292504  0.388559   \n",
       "Logistic Regression (PCA: 10 components)           0.142857  0.221702   \n",
       "Logistic Regression (PCA: 3 components)            0.000000  0.000000   \n",
       "Logistic Regression (scaled data)                  0.313010  0.408991   \n",
       "Random Forest Classifier                           0.449009  0.479906   \n",
       "Random Forest Classifier (10% of features)         0.427063  0.431179   \n",
       "Random Forest Classifier (50% of features)         0.458542  0.480373   \n",
       "Random Forest Classifier (PCA: 10 components)      0.427817  0.437997   \n",
       "Random Forest Classifier (PCA: 3 components)       0.331596  0.350153   \n",
       "Random Forest Classifier (scaled data)             0.452919  0.479910   \n",
       "\n",
       "                                                   TrainingTime (m)  \\\n",
       "AdaBoost Classifier                                               0   \n",
       "AdaBoost Classifier (10% of features)                             0   \n",
       "AdaBoost Classifier (50% of features)                             0   \n",
       "AdaBoost Classifier (PCA: 10 components)                          0   \n",
       "AdaBoost Classifier (PCA: 3 components)                           0   \n",
       "AdaBoost Classifier (scaled data)                                 0   \n",
       "Decision Tree Classifier                                          0   \n",
       "Decision Tree Classifier (10% of features)                        0   \n",
       "Decision Tree Classifier (50% of features)                        0   \n",
       "Decision Tree Classifier (PCA: 10 components)                     0   \n",
       "Decision Tree Classifier (PCA: 3 components)                      0   \n",
       "Decision Tree Classifier (scaled data)                            0   \n",
       "Gaussian Naive Bayes                                              0   \n",
       "Gaussian Naive Bayes (10% of features)                            0   \n",
       "Gaussian Naive Bayes (50% of features)                            0   \n",
       "Gaussian Naive Bayes (PCA: 10 components)                         0   \n",
       "Gaussian Naive Bayes (PCA: 3 components)                          0   \n",
       "Gaussian Naive Bayes (scaled data)                                0   \n",
       "Linear Discriminant Analysis                                      0   \n",
       "Linear Discriminant Analysis (10% of features)                    0   \n",
       "Linear Discriminant Analysis (50% of features)                    0   \n",
       "Linear Discriminant Analysis (PCA: 10 components)                 0   \n",
       "Linear Discriminant Analysis (PCA: 3 components)                  0   \n",
       "Linear Discriminant Analysis (scaled data)                        0   \n",
       "Logistic Regression                                               0   \n",
       "Logistic Regression (10% of features)                             0   \n",
       "Logistic Regression (50% of features)                             0   \n",
       "Logistic Regression (PCA: 10 components)                          0   \n",
       "Logistic Regression (PCA: 3 components)                           0   \n",
       "Logistic Regression (scaled data)                               -60   \n",
       "Random Forest Classifier                                          0   \n",
       "Random Forest Classifier (10% of features)                        0   \n",
       "Random Forest Classifier (50% of features)                        0   \n",
       "Random Forest Classifier (PCA: 10 components)                     0   \n",
       "Random Forest Classifier (PCA: 3 components)                      0   \n",
       "Random Forest Classifier (scaled data)                            0   \n",
       "\n",
       "                                                   TrainingTime (s)  \n",
       "AdaBoost Classifier                                              12  \n",
       "AdaBoost Classifier (10% of features)                             3  \n",
       "AdaBoost Classifier (50% of features)                             9  \n",
       "AdaBoost Classifier (PCA: 10 components)                          9  \n",
       "AdaBoost Classifier (PCA: 3 components)                           3  \n",
       "AdaBoost Classifier (scaled data)                                15  \n",
       "Decision Tree Classifier                                          4  \n",
       "Decision Tree Classifier (10% of features)                        0  \n",
       "Decision Tree Classifier (50% of features)                        2  \n",
       "Decision Tree Classifier (PCA: 10 components)                     2  \n",
       "Decision Tree Classifier (PCA: 3 components)                      0  \n",
       "Decision Tree Classifier (scaled data)                            4  \n",
       "Gaussian Naive Bayes                                              0  \n",
       "Gaussian Naive Bayes (10% of features)                            1  \n",
       "Gaussian Naive Bayes (50% of features)                            0  \n",
       "Gaussian Naive Bayes (PCA: 10 components)                         0  \n",
       "Gaussian Naive Bayes (PCA: 3 components)                          0  \n",
       "Gaussian Naive Bayes (scaled data)                                1  \n",
       "Linear Discriminant Analysis                                      1  \n",
       "Linear Discriminant Analysis (10% of features)                    0  \n",
       "Linear Discriminant Analysis (50% of features)                    0  \n",
       "Linear Discriminant Analysis (PCA: 10 components)                 0  \n",
       "Linear Discriminant Analysis (PCA: 3 components)                  0  \n",
       "Linear Discriminant Analysis (scaled data)                        1  \n",
       "Logistic Regression                                              14  \n",
       "Logistic Regression (10% of features)                             0  \n",
       "Logistic Regression (50% of features)                             2  \n",
       "Logistic Regression (PCA: 10 components)                          0  \n",
       "Logistic Regression (PCA: 3 components)                           0  \n",
       "Logistic Regression (scaled data)                                 4  \n",
       "Random Forest Classifier                                          3  \n",
       "Random Forest Classifier (10% of features)                        1  \n",
       "Random Forest Classifier (50% of features)                        3  \n",
       "Random Forest Classifier (PCA: 10 components)                     4  \n",
       "Random Forest Classifier (PCA: 3 components)                      2  \n",
       "Random Forest Classifier (scaled data)                            4  "
      ]
     },
     "execution_count": 68,
     "metadata": {},
     "output_type": "execute_result"
    }
   ],
   "source": [
    "import warnings\n",
    "\n",
    "models = {\"Logistic Regression\": LogisticRegression(), \"Linear Discriminant Analysis\": LinearDiscriminantAnalysis(),\n",
    "          \"Gaussian Naive Bayes\": GaussianNB(), \"Decision Tree Classifier\": DecisionTreeClassifier(),\n",
    "          \"Random Forest Classifier\": RandomForestClassifier(), \"AdaBoost Classifier\": AdaBoostClassifier()}\n",
    "\n",
    "data = {\"\": X_train, \"(scaled data)\": X_train_scaled, \"(PCA: 10 components)\": X_train_pca10, \"(PCA: 3 components)\": X_train_pca3,\n",
    "        \"(50% of features)\": X_train_reduce50, \"(10% of features)\": X_train_reduce10}\n",
    "\n",
    "res = {}\n",
    "\n",
    "with warnings.catch_warnings():\n",
    "    warnings.simplefilter(\"ignore\")\n",
    "    \n",
    "    for name, model in models.items():\n",
    "        for scale, X in data.items():\n",
    "            n = name + \" \" + scale\n",
    "            clf = model\n",
    "            s0, m0 = datetime.datetime.now().time().second, datetime.datetime.now().time().minute\n",
    "            acc = cross_val_score(clf, X, y_train).mean()\n",
    "            s1, m1 = datetime.datetime.now().time().second, datetime.datetime.now().time().minute\n",
    "            y_pred = cross_val_predict(clf, X, y_train)\n",
    "            default_recall = make_scorer(recall_score, pos_label=0, average=\"binary\")\n",
    "            default_precision = make_scorer(precision_score, pos_label=0, average=\"binary\")\n",
    "            default_fscore = make_scorer(f1_score, pos_label=0, average=\"binary\")\n",
    "            rec = cross_val_score(clf, X, y_train, scoring=default_recall).mean()\n",
    "            prec = cross_val_score(clf, X, y_train, scoring=default_precision).mean()\n",
    "            f1 = cross_val_score(clf, X, y_train, scoring=default_fscore).mean()\n",
    "            m_delta = m1 - m0\n",
    "            s_delta = s1 - s0\n",
    "            if s_delta < 0:\n",
    "                s_delta = 60 + s_delta\n",
    "                m_delta -= 1\n",
    "\n",
    "            res[n] = {\"MeanAccuracy\": acc, \"Precision\": prec, \"Recall\": rec, \"F1Score\": f1, \n",
    "                      \"TrainingTime (m)\": m_delta, \"TrainingTime (s)\": s_delta}\n",
    "\n",
    "results = pd.DataFrame.from_dict(res, orient=\"index\")\n",
    "results = results[[\"MeanAccuracy\", \"Precision\", \"Recall\", \"F1Score\", \"TrainingTime (m)\", \"TrainingTime (s)\"]]\n",
    "\n",
    "results"
   ]
  },
  {
   "cell_type": "code",
   "execution_count": 69,
   "metadata": {
    "_cell_guid": "5e4236d2-f4b2-79e0-f6c9-1c0fdac33b98",
    "_uuid": "0bd1dfe4ad962071358042ce5d3841b046f1d4db",
    "execution": {
     "iopub.execute_input": "2022-11-22T19:49:44.101794Z",
     "iopub.status.busy": "2022-11-22T19:49:44.101291Z",
     "iopub.status.idle": "2022-11-22T19:49:44.106775Z",
     "shell.execute_reply": "2022-11-22T19:49:44.105981Z",
     "shell.execute_reply.started": "2022-11-22T19:49:44.101748Z"
    }
   },
   "outputs": [
    {
     "data": {
      "text/plain": [
       "('Gaussian Naive Bayes (scaled data)', 0.66505390317210777)"
      ]
     },
     "execution_count": 69,
     "metadata": {},
     "output_type": "execute_result"
    }
   ],
   "source": [
    "results[\"Recall\"].argmax(), results[\"Recall\"].max()"
   ]
  },
  {
   "cell_type": "markdown",
   "metadata": {
    "_cell_guid": "6317ea95-69c2-e506-c28b-50bca105153c",
    "_uuid": "2239f350f4049269d8a477d42d65dede2fe796f0"
   },
   "source": [
    "In terms of recall and, therefore, suitability to our purposes, it doesn't look great. \n",
    "\n",
    "First, let's just note that our classifiers took anywhere from < 1s to 10s to train on the three different sets generated during our cross validation scoring. That's not too bad, and has allowed us to compare a wide variety of possible models. In fact, I decided to leave out a popular classifier (SVC) because of how long it was taking to train. That performance is to be expected though: according to the scikitlearn documentation (http://scikit-learn.org/stable/modules/generated/sklearn.svm.SVC.html), \"The fit time complexity is more than quadratic with the number of samples which makes it hard to scale to dataset with more than a couple of 10000 samples.\"\n",
    "\n",
    "Second, a quick word on accuracy: as hinted above, accuracy can be an incredibly misleading metric when applied to unbalanced classes like this. Take a look at Logistic Regression using the data reduced to 3 principal components. It has a decent accuracy score of 0.6742, but it scored a 0 in both precision and recall! This model is doing nothing but reflecting the distribution of our underlying classes, and scoring 67% by just labelling everything as a completion. If we hadn't taken precision and recall into account, we could have missed that. I think that the unbalanced classes could be contributing to what I think is some pretty underwhelming initial performance, so parameter tuning will take on an added performance here, as we can try to penalize models heftily and bring them more into line with our goal of maximizing recall on the default class. \n",
    "\n",
    "Imbalanced classes are a really interesting problem in machine learning, and classes far more imbalanced than these pop up in a variety of domains. The concepts and approaches applied here could be applied in a similar way to problems ranging from fraud detection to marketing, so I'm keen to really think things through and try to do things rigorously. There is a fantastic, highly-readable paper that discusses approaches to imbalanced data (in the context of a random forest classifier) that can be found here: http://statistics.berkeley.edu/sites/default/files/tech-reports/666.pdf. A lot of my methodology has been drawn from intuitions confirmed in that paper.\n",
    "\n",
    "Third, our top recall performer was a Gaussian Naive Bayes classifier using the scaled data. With a recall of 66.51%, this classifier correctly flagged more than half of the defaults in our historical data, so that's something. That classifier also had the highest F1 score (the harmonic mean of precision and recall). \n",
    "\n",
    "Now let's turn our attention to parameter tuning, in the hopes that some penalty and class weight parameters might be able to bring up the recall of some other models in a meaningful way."
   ]
  },
  {
   "cell_type": "markdown",
   "metadata": {
    "_cell_guid": "1a74a4a3-5ced-4fec-2d6d-fa3bba812ead",
    "_uuid": "59fe96917dd4871e230e702072b91f73324e7950"
   },
   "source": [
    "## Parameter tuning <a class=\"anchor\" id=\"tuning\"></a>"
   ]
  },
  {
   "cell_type": "markdown",
   "metadata": {
    "_cell_guid": "11c99ed1-4e1d-f5c5-6334-1efea31d4e29",
    "_uuid": "f5e4ec3094f85b037872ab85723a2ef9908b492f"
   },
   "source": [
    "Our top performer, GaussianNB, doesn't actually have any parameters to tune. The only way we'll be able to improve its performance will be to re-adjust the class weights in our training data to be more balanced, that's fairly trivial to implement, but let's focus on another classifier instead. Our next best classifier in terms of recall was a Random Forest Classifier running on the best 50% of features (with a default recall score of 0.4581). Let's begin by tuning that. The main parameter for our purposes is the class weights, which can be penalized in the Random Forest object itself, unlike Naive Bayes. The other parameters in a Random Forest Classifier for the most part either describe the size of the split (and thus a bias variance tradeoff) or tune performance."
   ]
  },
  {
   "cell_type": "code",
   "execution_count": 70,
   "metadata": {
    "_cell_guid": "a5c1ad46-08df-0ab8-abfc-3e0caba6ed62",
    "_uuid": "749b543a28eca4c40d81ddbf676d6a2940d5adc0",
    "execution": {
     "iopub.execute_input": "2022-11-22T19:49:54.458765Z",
     "iopub.status.busy": "2022-11-22T19:49:54.458299Z",
     "iopub.status.idle": "2022-11-22T19:50:48.225391Z",
     "shell.execute_reply": "2022-11-22T19:50:48.224498Z",
     "shell.execute_reply.started": "2022-11-22T19:49:54.458722Z"
    }
   },
   "outputs": [
    {
     "data": {
      "text/plain": [
       "({'class_weight': {0: 10, 1: 1}, 'min_samples_split': 20}, 0.7321861873514083)"
      ]
     },
     "execution_count": 70,
     "metadata": {},
     "output_type": "execute_result"
    }
   ],
   "source": [
    "default_recall = make_scorer(recall_score, pos_label=0)\n",
    "\n",
    "param_grid = {\"class_weight\": [\"balanced\", {0: 2, 1: 1}, {0: 5, 1: 1}, {0: 10, 1: 1}], \"min_samples_split\": [2, 3, 5, 10, 20]}\n",
    "\n",
    "forest = RandomForestClassifier()\n",
    "clf = GridSearchCV(forest, param_grid=param_grid, scoring=default_recall)\n",
    "\n",
    "clf.fit(X_train_reduce50, y_train)\n",
    "\n",
    "clf.best_params_, clf.best_score_ "
   ]
  },
  {
   "cell_type": "code",
   "execution_count": 71,
   "metadata": {
    "_cell_guid": "84858495-9fb0-c6e4-bcd8-82c4e64a0c99",
    "_uuid": "86d8ec93c6a1f6504781a9552f46cdceb72822aa",
    "execution": {
     "iopub.execute_input": "2022-11-22T19:50:52.340318Z",
     "iopub.status.busy": "2022-11-22T19:50:52.339771Z",
     "iopub.status.idle": "2022-11-22T19:50:52.344753Z",
     "shell.execute_reply": "2022-11-22T19:50:52.344199Z",
     "shell.execute_reply.started": "2022-11-22T19:50:52.340266Z"
    }
   },
   "outputs": [
    {
     "data": {
      "text/plain": [
       "0.6129666011787819"
      ]
     },
     "execution_count": 71,
     "metadata": {},
     "output_type": "execute_result"
    }
   ],
   "source": [
    "(.7389 - .4581) / .4581"
   ]
  },
  {
   "cell_type": "markdown",
   "metadata": {
    "_cell_guid": "8bbdb303-d771-44bd-9f7b-e7aa46c327b7",
    "_uuid": "a407e42d1605722d2607f7031d78ecc570c910f0"
   },
   "source": [
    "61.29%. That's great! We've increased our recall performance . However, I see here that the parameters that maximize default recall involve penalizing completed loans by a factor of 10:1 in deciding splits, and making each of the tree leaves a maximum of 10 samples large. I imagine this has hurt our precision quite a bit. Let's take a look."
   ]
  },
  {
   "cell_type": "code",
   "execution_count": 72,
   "metadata": {
    "_cell_guid": "0368ebf2-9d9d-757f-a9ad-ca89690165bc",
    "_uuid": "0addc26180100c6b6e06a635b80f32f569a34701",
    "execution": {
     "iopub.execute_input": "2022-11-22T19:50:59.081456Z",
     "iopub.status.busy": "2022-11-22T19:50:59.080946Z",
     "iopub.status.idle": "2022-11-22T19:56:01.493725Z",
     "shell.execute_reply": "2022-11-22T19:56:01.493282Z",
     "shell.execute_reply.started": "2022-11-22T19:50:59.081411Z"
    }
   },
   "outputs": [
    {
     "name": "stdout",
     "output_type": "stream",
     "text": [
      " Recall: 0.7417870292061702 \n",
      " Precision: 0.44121569473436706 \n",
      " F1 Score: 0.5514894349668219\n"
     ]
    }
   ],
   "source": [
    "default_precision = make_scorer(precision_score, pos_label=0, average=\"binary\")\n",
    "default_fscore = make_scorer(f1_score, pos_label=0, average=\"binary\")\n",
    "\n",
    "rec = cross_val_score(clf, X_train_reduce50, y_train, scoring=default_recall).mean()\n",
    "prec = cross_val_score(clf, X_train_reduce50, y_train, scoring=default_precision).mean()\n",
    "f = cross_val_score(clf, X_train_reduce50, y_train, scoring=default_fscore).mean()\n",
    "\n",
    "\n",
    "print(\" Recall: {} \\n Precision: {} \\n F1 Score: {}\".format(rec, prec, f))"
   ]
  },
  {
   "cell_type": "markdown",
   "metadata": {
    "_cell_guid": "863394d1-f3f5-9fdb-0c6d-ff22af423ef3",
    "_uuid": "2cec9b37a733c8dcb7f8a0991e49290c0e77117b"
   },
   "source": [
    "Fantastic. We see here that by increasing recall we have reduced our precision (from 49.80% to 43.60%), a classic tradeoff. While we have identified 73.69% of all of the eventual defaults as such, only 43.60% of the cases classified as eventual defaults actually were.\n",
    "\n",
    "There's a lot that we could do to improve recall even further, such as forcing the random forest to underfit even more at the expense of precision, or increasing the number of decision trees in the forest at the expense of performance. Perhaps resampling the data (as improving the Naive Bayes classifier would demand) could improve the random forest even more in conjunction with the above parameter tuning.\n",
    "\n",
    "Nonetheless, since this is more of a learning exercise than a real life attempt to profit off Prosper loans, I'm keen to apply our newly tuned classifier to our test data and wrap things up. Let's give that a try."
   ]
  },
  {
   "cell_type": "markdown",
   "metadata": {
    "_cell_guid": "a31450ec-0067-cb01-70e4-544c5482aee9",
    "_uuid": "7476ac7a8b1182998679427824b025a9b5b6074c"
   },
   "source": [
    "### Predicting defaults <a class=\"anchor\" id=\"predict\"></a>"
   ]
  },
  {
   "cell_type": "markdown",
   "metadata": {
    "_cell_guid": "a80c6692-c9ae-ba48-f53f-636a9e68ac88",
    "_uuid": "c882df64be1836f45a94cd7d02d83a06593fe1e7"
   },
   "source": [
    "Let's use our fit and tuned random forest classifier to make some default predictions on our test data, then let's consider our performance in terms of the returns we would achieve if we lent to all the of the predicted completions (with actual defaults paying 0, in the name of simplicity and conservatism."
   ]
  },
  {
   "cell_type": "code",
   "execution_count": 73,
   "metadata": {
    "_cell_guid": "da7fc106-87f3-cf45-14fc-cc601739eac3",
    "_uuid": "f5d04a5c745fe59c864c7bf903d81456e076cdea",
    "execution": {
     "iopub.execute_input": "2022-11-22T19:56:44.626045Z",
     "iopub.status.busy": "2022-11-22T19:56:44.625617Z",
     "iopub.status.idle": "2022-11-22T19:56:46.063118Z",
     "shell.execute_reply": "2022-11-22T19:56:46.062317Z",
     "shell.execute_reply.started": "2022-11-22T19:56:44.625995Z"
    }
   },
   "outputs": [
    {
     "data": {
      "text/html": [
       "<div>\n",
       "<style>\n",
       "    .dataframe thead tr:only-child th {\n",
       "        text-align: right;\n",
       "    }\n",
       "\n",
       "    .dataframe thead th {\n",
       "        text-align: left;\n",
       "    }\n",
       "\n",
       "    .dataframe tbody tr th {\n",
       "        vertical-align: top;\n",
       "    }\n",
       "</style>\n",
       "<table border=\"1\" class=\"dataframe\">\n",
       "  <thead>\n",
       "    <tr style=\"text-align: right;\">\n",
       "      <th></th>\n",
       "      <th>LoanStatus</th>\n",
       "      <th>Predicted</th>\n",
       "    </tr>\n",
       "  </thead>\n",
       "  <tbody>\n",
       "    <tr>\n",
       "      <th>109437</th>\n",
       "      <td>0</td>\n",
       "      <td>1</td>\n",
       "    </tr>\n",
       "    <tr>\n",
       "      <th>45931</th>\n",
       "      <td>0</td>\n",
       "      <td>1</td>\n",
       "    </tr>\n",
       "    <tr>\n",
       "      <th>51959</th>\n",
       "      <td>1</td>\n",
       "      <td>1</td>\n",
       "    </tr>\n",
       "    <tr>\n",
       "      <th>4234</th>\n",
       "      <td>0</td>\n",
       "      <td>1</td>\n",
       "    </tr>\n",
       "    <tr>\n",
       "      <th>100716</th>\n",
       "      <td>1</td>\n",
       "      <td>1</td>\n",
       "    </tr>\n",
       "    <tr>\n",
       "      <th>58140</th>\n",
       "      <td>1</td>\n",
       "      <td>1</td>\n",
       "    </tr>\n",
       "    <tr>\n",
       "      <th>16325</th>\n",
       "      <td>1</td>\n",
       "      <td>1</td>\n",
       "    </tr>\n",
       "    <tr>\n",
       "      <th>20462</th>\n",
       "      <td>0</td>\n",
       "      <td>1</td>\n",
       "    </tr>\n",
       "    <tr>\n",
       "      <th>647</th>\n",
       "      <td>0</td>\n",
       "      <td>1</td>\n",
       "    </tr>\n",
       "    <tr>\n",
       "      <th>73359</th>\n",
       "      <td>1</td>\n",
       "      <td>1</td>\n",
       "    </tr>\n",
       "  </tbody>\n",
       "</table>\n",
       "</div>"
      ],
      "text/plain": [
       "        LoanStatus  Predicted\n",
       "109437           0          1\n",
       "45931            0          1\n",
       "51959            1          1\n",
       "4234             0          1\n",
       "100716           1          1\n",
       "58140            1          1\n",
       "16325            1          1\n",
       "20462            0          1\n",
       "647              0          1\n",
       "73359            1          1"
      ]
     },
     "execution_count": 73,
     "metadata": {},
     "output_type": "execute_result"
    }
   ],
   "source": [
    "clf = RandomForestClassifier(class_weight={0: 10, 1: 1}, min_samples_split=20)\n",
    "clf.fit(X_train_reduce50, y_train)\n",
    "\n",
    "pred = clf.predict(X_test_reduce50)\n",
    "\n",
    "pred = pd.Series(pred, index=[y_test.index], name='Predicted')\n",
    "\n",
    "predictions = pd.concat([y_test, pred], axis=1)\n",
    "\n",
    "predictions[:10]"
   ]
  },
  {
   "cell_type": "code",
   "execution_count": 74,
   "metadata": {
    "_cell_guid": "5d662886-5727-a785-82ba-c013d8be580c",
    "_uuid": "53edffa3edf889d375feda402f893f29e1e07bf7",
    "execution": {
     "iopub.execute_input": "2022-11-22T19:56:54.835710Z",
     "iopub.status.busy": "2022-11-22T19:56:54.835253Z",
     "iopub.status.idle": "2022-11-22T19:56:54.846099Z",
     "shell.execute_reply": "2022-11-22T19:56:54.845251Z",
     "shell.execute_reply.started": "2022-11-22T19:56:54.835651Z"
    }
   },
   "outputs": [
    {
     "data": {
      "text/html": [
       "<div>\n",
       "<style>\n",
       "    .dataframe thead tr:only-child th {\n",
       "        text-align: right;\n",
       "    }\n",
       "\n",
       "    .dataframe thead th {\n",
       "        text-align: left;\n",
       "    }\n",
       "\n",
       "    .dataframe tbody tr th {\n",
       "        vertical-align: top;\n",
       "    }\n",
       "</style>\n",
       "<table border=\"1\" class=\"dataframe\">\n",
       "  <thead>\n",
       "    <tr style=\"text-align: right;\">\n",
       "      <th></th>\n",
       "      <th>LoanStatus</th>\n",
       "      <th>Predicted</th>\n",
       "    </tr>\n",
       "  </thead>\n",
       "  <tbody>\n",
       "    <tr>\n",
       "      <th>109437</th>\n",
       "      <td>0</td>\n",
       "      <td>1</td>\n",
       "    </tr>\n",
       "    <tr>\n",
       "      <th>45931</th>\n",
       "      <td>0</td>\n",
       "      <td>1</td>\n",
       "    </tr>\n",
       "    <tr>\n",
       "      <th>51959</th>\n",
       "      <td>1</td>\n",
       "      <td>1</td>\n",
       "    </tr>\n",
       "    <tr>\n",
       "      <th>4234</th>\n",
       "      <td>0</td>\n",
       "      <td>1</td>\n",
       "    </tr>\n",
       "    <tr>\n",
       "      <th>100716</th>\n",
       "      <td>1</td>\n",
       "      <td>1</td>\n",
       "    </tr>\n",
       "    <tr>\n",
       "      <th>58140</th>\n",
       "      <td>1</td>\n",
       "      <td>1</td>\n",
       "    </tr>\n",
       "    <tr>\n",
       "      <th>16325</th>\n",
       "      <td>1</td>\n",
       "      <td>1</td>\n",
       "    </tr>\n",
       "    <tr>\n",
       "      <th>20462</th>\n",
       "      <td>0</td>\n",
       "      <td>1</td>\n",
       "    </tr>\n",
       "    <tr>\n",
       "      <th>647</th>\n",
       "      <td>0</td>\n",
       "      <td>1</td>\n",
       "    </tr>\n",
       "    <tr>\n",
       "      <th>73359</th>\n",
       "      <td>1</td>\n",
       "      <td>1</td>\n",
       "    </tr>\n",
       "  </tbody>\n",
       "</table>\n",
       "</div>"
      ],
      "text/plain": [
       "        LoanStatus  Predicted\n",
       "109437           0          1\n",
       "45931            0          1\n",
       "51959            1          1\n",
       "4234             0          1\n",
       "100716           1          1\n",
       "58140            1          1\n",
       "16325            1          1\n",
       "20462            0          1\n",
       "647              0          1\n",
       "73359            1          1"
      ]
     },
     "execution_count": 74,
     "metadata": {},
     "output_type": "execute_result"
    }
   ],
   "source": [
    "loans_chosen = predictions[predictions[\"Predicted\"] == 1]\n",
    "\n",
    "loans_chosen[:10]"
   ]
  },
  {
   "cell_type": "code",
   "execution_count": 75,
   "metadata": {
    "_cell_guid": "5237714b-ac00-ef93-dfcb-04b2117836d9",
    "_uuid": "1ffb7f47a79b5bd74f198ed1f4e05cec7561aeb6",
    "execution": {
     "iopub.execute_input": "2022-11-22T19:57:06.188150Z",
     "iopub.status.busy": "2022-11-22T19:57:06.187662Z",
     "iopub.status.idle": "2022-11-22T19:57:06.195397Z",
     "shell.execute_reply": "2022-11-22T19:57:06.194707Z",
     "shell.execute_reply.started": "2022-11-22T19:57:06.188108Z"
    }
   },
   "outputs": [
    {
     "data": {
      "text/plain": [
       "(1560, 3260, 0.3236514522821577)"
      ]
     },
     "execution_count": 75,
     "metadata": {},
     "output_type": "execute_result"
    }
   ],
   "source": [
    "loans_failed = loans_chosen[loans_chosen[\"LoanStatus\"] == 0]\n",
    "loans_success = loans_chosen[loans_chosen[\"LoanStatus\"] == 1]\n",
    "\n",
    "len(loans_failed), len(loans_success), len(loans_failed) / (len(loans_success) + len(loans_failed))"
   ]
  },
  {
   "cell_type": "markdown",
   "metadata": {
    "_cell_guid": "ada8c5a4-1058-34f1-637c-f460848a6c68",
    "_uuid": "2a043ce8749ef6f93d51e193a7329171792ea93d"
   },
   "source": [
    "So, in terms of simple quantities, if we were to have used our classifier and only lent money to those loans predicted to be completions, 1570 of those loans (or 32.91% of total lending) would have \"defaulted\" (remembering always that our definition of default includes all loans with payments past-due, charge-offs and cancellations). Not great, but then, to be perfectly honest, we didn't expect it to be. Let's see what our actual dollar losses (or gains) would have been."
   ]
  },
  {
   "cell_type": "code",
   "execution_count": 76,
   "metadata": {
    "_cell_guid": "546ca2d9-6feb-33ad-311e-ea0380bbf325",
    "_uuid": "30e8d4c3911883e4184f9cd1b84fa224602882cc",
    "execution": {
     "iopub.execute_input": "2022-11-22T19:57:09.581228Z",
     "iopub.status.busy": "2022-11-22T19:57:09.580770Z",
     "iopub.status.idle": "2022-11-22T19:57:09.587896Z",
     "shell.execute_reply": "2022-11-22T19:57:09.587220Z",
     "shell.execute_reply.started": "2022-11-22T19:57:09.581188Z"
    }
   },
   "outputs": [
    {
     "data": {
      "text/plain": [
       "10907829"
      ]
     },
     "execution_count": 76,
     "metadata": {},
     "output_type": "execute_result"
    }
   ],
   "source": [
    "lost_money = X_test.loc[loans_failed.index,\"LoanOriginalAmount\"]\n",
    "\n",
    "lost_money.sum()"
   ]
  },
  {
   "cell_type": "markdown",
   "metadata": {
    "_cell_guid": "6859309d-b92a-8f38-3ec5-7ef99b7d00ef",
    "_uuid": "0e25c63d8c09122571e15e64c1ba5b9cf18be028"
   },
   "source": [
    "Using our (very conservative) definition of a default or \"bad\" loan meaning a loss of all the principal (and assuming we were the only lender for each of these loans) we would have lost a whopping $10,794,185.00 lending to these borrowers. There's always the hope that the interest from our successful loans could mitigate that a bit, let's take a look."
   ]
  },
  {
   "cell_type": "code",
   "execution_count": 77,
   "metadata": {
    "_cell_guid": "e1d8a1e5-06b8-c05f-e0f1-c19973ead515",
    "_uuid": "ad5761ccece9d1dd4805029a13a2784f69506f0d",
    "execution": {
     "iopub.execute_input": "2022-11-22T19:57:12.869276Z",
     "iopub.status.busy": "2022-11-22T19:57:12.868726Z",
     "iopub.status.idle": "2022-11-22T19:57:12.886991Z",
     "shell.execute_reply": "2022-11-22T19:57:12.886470Z",
     "shell.execute_reply.started": "2022-11-22T19:57:12.869232Z"
    }
   },
   "outputs": [
    {
     "data": {
      "text/html": [
       "<div>\n",
       "<style>\n",
       "    .dataframe thead tr:only-child th {\n",
       "        text-align: right;\n",
       "    }\n",
       "\n",
       "    .dataframe thead th {\n",
       "        text-align: left;\n",
       "    }\n",
       "\n",
       "    .dataframe tbody tr th {\n",
       "        vertical-align: top;\n",
       "    }\n",
       "</style>\n",
       "<table border=\"1\" class=\"dataframe\">\n",
       "  <thead>\n",
       "    <tr style=\"text-align: right;\">\n",
       "      <th></th>\n",
       "      <th>LoanOriginalAmount</th>\n",
       "      <th>BorrowerRate</th>\n",
       "      <th>Profit</th>\n",
       "    </tr>\n",
       "  </thead>\n",
       "  <tbody>\n",
       "    <tr>\n",
       "      <th>51959</th>\n",
       "      <td>4700</td>\n",
       "      <td>0.2699</td>\n",
       "      <td>1268.5300</td>\n",
       "    </tr>\n",
       "    <tr>\n",
       "      <th>100716</th>\n",
       "      <td>9999</td>\n",
       "      <td>0.1523</td>\n",
       "      <td>1522.8477</td>\n",
       "    </tr>\n",
       "    <tr>\n",
       "      <th>58140</th>\n",
       "      <td>6500</td>\n",
       "      <td>0.2499</td>\n",
       "      <td>1624.3500</td>\n",
       "    </tr>\n",
       "    <tr>\n",
       "      <th>16325</th>\n",
       "      <td>20000</td>\n",
       "      <td>0.1675</td>\n",
       "      <td>3350.0000</td>\n",
       "    </tr>\n",
       "    <tr>\n",
       "      <th>73359</th>\n",
       "      <td>1500</td>\n",
       "      <td>0.3375</td>\n",
       "      <td>506.2500</td>\n",
       "    </tr>\n",
       "    <tr>\n",
       "      <th>30047</th>\n",
       "      <td>3500</td>\n",
       "      <td>0.3500</td>\n",
       "      <td>1225.0000</td>\n",
       "    </tr>\n",
       "    <tr>\n",
       "      <th>79487</th>\n",
       "      <td>20000</td>\n",
       "      <td>0.1419</td>\n",
       "      <td>2838.0000</td>\n",
       "    </tr>\n",
       "    <tr>\n",
       "      <th>105808</th>\n",
       "      <td>1000</td>\n",
       "      <td>0.0710</td>\n",
       "      <td>71.0000</td>\n",
       "    </tr>\n",
       "    <tr>\n",
       "      <th>56359</th>\n",
       "      <td>1000</td>\n",
       "      <td>0.0680</td>\n",
       "      <td>68.0000</td>\n",
       "    </tr>\n",
       "    <tr>\n",
       "      <th>21316</th>\n",
       "      <td>25000</td>\n",
       "      <td>0.1364</td>\n",
       "      <td>3410.0000</td>\n",
       "    </tr>\n",
       "  </tbody>\n",
       "</table>\n",
       "</div>"
      ],
      "text/plain": [
       "        LoanOriginalAmount  BorrowerRate     Profit\n",
       "51959                 4700        0.2699  1268.5300\n",
       "100716                9999        0.1523  1522.8477\n",
       "58140                 6500        0.2499  1624.3500\n",
       "16325                20000        0.1675  3350.0000\n",
       "73359                 1500        0.3375   506.2500\n",
       "30047                 3500        0.3500  1225.0000\n",
       "79487                20000        0.1419  2838.0000\n",
       "105808                1000        0.0710    71.0000\n",
       "56359                 1000        0.0680    68.0000\n",
       "21316                25000        0.1364  3410.0000"
      ]
     },
     "execution_count": 77,
     "metadata": {},
     "output_type": "execute_result"
    }
   ],
   "source": [
    "a = X_test.loc[loans_success.index,\"LoanOriginalAmount\"]\n",
    "b = X_test.loc[loans_success.index,\"BorrowerRate\"]\n",
    "\n",
    "gained_money = pd.concat([a, b], axis=1)\n",
    "\n",
    "gained_money[\"Profit\"] = gained_money[\"LoanOriginalAmount\"] * gained_money[\"BorrowerRate\"]\n",
    "\n",
    "gained_money[:10]"
   ]
  },
  {
   "cell_type": "code",
   "execution_count": 78,
   "metadata": {
    "_cell_guid": "30ca2bad-a01f-a854-d5d3-ad8eb6689ad0",
    "_uuid": "753146d92a24f930ca1c7a188390d292d304e911",
    "execution": {
     "iopub.execute_input": "2022-11-22T19:57:16.741022Z",
     "iopub.status.busy": "2022-11-22T19:57:16.740472Z",
     "iopub.status.idle": "2022-11-22T19:57:16.745797Z",
     "shell.execute_reply": "2022-11-22T19:57:16.745141Z",
     "shell.execute_reply.started": "2022-11-22T19:57:16.740972Z"
    }
   },
   "outputs": [
    {
     "data": {
      "text/plain": [
       "3628301.8322999906"
      ]
     },
     "execution_count": 78,
     "metadata": {},
     "output_type": "execute_result"
    }
   ],
   "source": [
    "gained_money[\"Profit\"].sum()"
   ]
  },
  {
   "cell_type": "markdown",
   "metadata": {
    "_cell_guid": "212479ca-1b4a-e162-2bfd-c0ceb61e426d",
    "_uuid": "481d3270f9106254d929f59699e181986c1e2dd3"
   },
   "source": [
    "Well, that's something. Lending to successful loans would have gained us a respectable $3,568,850.17 in interest payments."
   ]
  },
  {
   "cell_type": "code",
   "execution_count": 79,
   "metadata": {
    "_cell_guid": "4c9032b6-711e-77ad-3455-ae26a634455d",
    "_uuid": "9149a12b33d09398abcf2a7f26febdd461ea0603",
    "execution": {
     "iopub.execute_input": "2022-11-22T19:57:18.971379Z",
     "iopub.status.busy": "2022-11-22T19:57:18.970819Z",
     "iopub.status.idle": "2022-11-22T19:57:18.978662Z",
     "shell.execute_reply": "2022-11-22T19:57:18.978028Z",
     "shell.execute_reply.started": "2022-11-22T19:57:18.971328Z"
    }
   },
   "outputs": [
    {
     "data": {
      "text/plain": [
       "(-7279527.1677000094, -0.22796795325564265)"
      ]
     },
     "execution_count": 79,
     "metadata": {},
     "output_type": "execute_result"
    }
   ],
   "source": [
    "total_losses = gained_money[\"Profit\"].sum() - lost_money.sum()\n",
    "total_return = total_losses / (gained_money[\"LoanOriginalAmount\"].sum() + lost_money.sum())\n",
    "\n",
    "total_losses, total_return"
   ]
  },
  {
   "cell_type": "markdown",
   "metadata": {
    "_cell_guid": "ea06a31c-3588-a1e8-1b3e-3e02a028cd9a",
    "_uuid": "31454277756ad54a5c43454917cc4dc83693414d"
   },
   "source": [
    "So, if we had been the sole lender to all of these loans, and used our random forest classifier to decide who and who not to lend to, we would have lost an absolutely irresponsible sum of money: $7,225,334.83. That would give us a return of -23.25%--before fees! Clearly our classifier isn't quite ready for the real world just yet."
   ]
  },
  {
   "cell_type": "markdown",
   "metadata": {
    "_cell_guid": "477cac2e-6772-3698-0b61-54f8f007c6ae",
    "_uuid": "9bffc04775f711b010ae4aa574f139a4180558f0"
   },
   "source": [
    "### Conclusion <a class=\"anchor\" id=\"end\"></a>"
   ]
  },
  {
   "cell_type": "markdown",
   "metadata": {
    "_cell_guid": "82bde3bc-4495-3e72-8e8e-efb4ee18df09",
    "_uuid": "072ce4d2ca0b97a85062f8ced437b7b62e090aaf"
   },
   "source": [
    "So, let's wrap things up. I'm pretty happy with this project. Our recall isn't phenomenal, and would certainly not be good enough to justify risking real money on Prosper, nor for an important application such as fraud detection, but it's been a great experience. I got great practice in cleaning and preprocessing a dataset, as well as using seaborn for some sexy visualisations and, most importantly, choosing appropriate metrics for a particular problem definition. I'm sure that with some more time, and, of course, some more learning, I could bring up the returns of our hypothetical loan portfolio. But the purpose of this notebook was never to make money, it was to learn and to practice. Maybe I'll return to it someday soon to apply some new techniques or understanding. For now, let's take a break from Prosper, and move on to the next project."
   ]
  }
 ],
 "metadata": {
  "kernelspec": {
   "display_name": "Python 3",
   "language": "python",
   "name": "python3"
  },
  "language_info": {
   "codemirror_mode": {
    "name": "ipython",
    "version": 3
   },
   "file_extension": ".py",
   "mimetype": "text/x-python",
   "name": "python",
   "nbconvert_exporter": "python",
   "pygments_lexer": "ipython3",
   "version": "3.6.4"
  }
 },
 "nbformat": 4,
 "nbformat_minor": 4
}
